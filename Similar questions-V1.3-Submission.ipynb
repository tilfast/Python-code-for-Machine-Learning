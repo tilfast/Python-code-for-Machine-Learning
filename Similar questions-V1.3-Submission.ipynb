{
 "cells": [
  {
   "cell_type": "markdown",
   "metadata": {},
   "source": [
    "# Detecting duplicate questions"
   ]
  },
  {
   "cell_type": "markdown",
   "metadata": {},
   "source": [
    "### Info \n",
    "Date 11th of May 2017\n",
    "\n",
    "Version 1.3: use of Google News words vectors\n",
    "\n",
    "Version 1.2: use of XGBoost - differences in length as feature\n",
    "\n",
    "Version 1: initial framework\n",
    "\n",
    "Gilles Daquin\n",
    "\n",
    "#### Difficulties: \n",
    "\n",
    "size of files \n",
    "\n",
    "spelling mistakes\n",
    "\n",
    "no treatment of sematics \n",
    "\n",
    "some unicode characters not recognized by system \n",
    "\n",
    "laptop not setup for this type development\n",
    "\n",
    "#### Main difficulties: \n",
    "\n",
    "a) extracting features to input in a Machine Learning algorithm\n",
    "\n",
    "b) a lot of pre-processing on the data is necessary"
   ]
  },
  {
   "cell_type": "markdown",
   "metadata": {},
   "source": [
    "# Synopsis\n",
    "\n",
    "### Preparation\n",
    "a) loading data\n",
    "\n",
    "b) cleaning up the data\n",
    "\n",
    "c) creation of dictionary\n",
    "\n",
    "d) tokenization of questions\n",
    "\n",
    "e) vectorization of questions\n",
    "\n",
    "f) feature creation\n",
    "\n",
    "### Feature creation (base)\n",
    "a) Shared word percentage: SharedWord\n",
    "\n",
    "b) lengths and difference of lengths:    \n",
    "\n",
    "c) Cosine similarity:      CosineSim\n",
    "\n",
    "e) other?...\n",
    "\n",
    "### Feature extension (did not give good results)\n",
    "a) X*X\n",
    "\n",
    "b) X*Y\n",
    "\n",
    "c) Log X\n",
    "\n",
    "d) Sqrt(X)\n",
    "\n",
    "### Feature validation\n",
    "a) Assessment of feature strength with Random forest algorithm\n",
    "\n",
    "### Training of model & test\n",
    "a) train model (could be anything at this stage)\n",
    "\n",
    "b) Test\n",
    "\n",
    "### Prepare submission\n",
    "a) save submission data\n"
   ]
  },
  {
   "cell_type": "markdown",
   "metadata": {},
   "source": [
    "# Preparation"
   ]
  },
  {
   "cell_type": "code",
   "execution_count": 2,
   "metadata": {
    "collapsed": false
   },
   "outputs": [
    {
     "name": "stderr",
     "output_type": "stream",
     "text": [
      "/home/gilles/anaconda3/envs/py27/lib/python2.7/site-packages/sklearn/cross_validation.py:44: DeprecationWarning: This module was deprecated in version 0.18 in favor of the model_selection module into which all the refactored classes and functions are moved. Also note that the interface of the new CV iterators are different from that of this module. This module will be removed in 0.20.\n",
      "  \"This module will be removed in 0.20.\", DeprecationWarning)\n"
     ]
    }
   ],
   "source": [
    "%matplotlib inline\n",
    "\n",
    "#imports\n",
    "import numpy as np \n",
    "import pandas as pd \n",
    "import matplotlib.pyplot as plt\n",
    "import re\n",
    "\n",
    "import sklearn as sk\n",
    "import nltk\n",
    "from nltk import word_tokenize, ngrams\n",
    "from nltk.corpus import stopwords\n",
    "import gensim\n",
    "\n",
    "from nltk import bigrams\n",
    "from nltk import trigrams\n",
    "\n",
    "import xgboost\n"
   ]
  },
  {
   "cell_type": "code",
   "execution_count": 3,
   "metadata": {
    "collapsed": false
   },
   "outputs": [
    {
     "name": "stdout",
     "output_type": "stream",
     "text": [
      "showing info https://raw.githubusercontent.com/nltk/nltk_data/gh-pages/index.xml\n"
     ]
    }
   ],
   "source": [
    "verbose = False\n",
    "nltk.download()\n",
    "#prepare the stop words\n",
    "STOP_WORDS = nltk.corpus.stopwords.words('english')"
   ]
  },
  {
   "cell_type": "code",
   "execution_count": 48,
   "metadata": {
    "collapsed": false
   },
   "outputs": [],
   "source": [
    "#download the datasets\n",
    "df_train = pd.read_csv(\"/home/gilles/Documents/NLP code/Data/train.csv\")\n",
    "df_tosubmit = pd.read_csv(\"/home/gilles/Documents/NLP code/Data/test.csv\")\n",
    "\n",
    "if (verbose):\n",
    "    print(df_train.shape)\n",
    "    print(df_test.shape)"
   ]
  },
  {
   "cell_type": "markdown",
   "metadata": {},
   "source": [
    "### Reduce size of training set for development\n",
    "\n",
    "Data set is more than 400K long, let's reduce it to speed up development time and testing of code\n"
   ]
  },
  {
   "cell_type": "code",
   "execution_count": 49,
   "metadata": {
    "collapsed": false
   },
   "outputs": [],
   "source": [
    "df_train_clean= df_train.sample(frac=1).reset_index(drop=True)\n",
    "if (verbose):\n",
    "     df_train_clean[\"is_duplicate\"].sum()"
   ]
  },
  {
   "cell_type": "code",
   "execution_count": 50,
   "metadata": {
    "collapsed": false
   },
   "outputs": [],
   "source": [
    "if (verbose):\n",
    "    df_train_clean.head()"
   ]
  },
  {
   "cell_type": "code",
   "execution_count": 51,
   "metadata": {
    "collapsed": false
   },
   "outputs": [],
   "source": [
    "#check for NANs\n",
    "if (verbose):\n",
    "    df_train_clean.isnull().sum()"
   ]
  },
  {
   "cell_type": "markdown",
   "metadata": {},
   "source": [
    "## Clean up the NaNs"
   ]
  },
  {
   "cell_type": "code",
   "execution_count": 53,
   "metadata": {
    "collapsed": true
   },
   "outputs": [],
   "source": [
    "# we need to clean these NaNs\n",
    "df_train_clean = df_train_clean.dropna()\n",
    "df_tosubmit.fillna(\" \", inplace = True)"
   ]
  },
  {
   "cell_type": "code",
   "execution_count": 56,
   "metadata": {
    "collapsed": false
   },
   "outputs": [],
   "source": [
    "if (verbose):\n",
    "    print df_tosubmit.isnull().sum()\n",
    "    print df_tosubmit.shape"
   ]
  },
  {
   "cell_type": "code",
   "execution_count": 57,
   "metadata": {
    "collapsed": true
   },
   "outputs": [],
   "source": [
    "verbose = False"
   ]
  },
  {
   "cell_type": "code",
   "execution_count": 58,
   "metadata": {
    "collapsed": false
   },
   "outputs": [],
   "source": [
    "if (verbose):\n",
    "    print df_train_clean.isnull().sum()\n",
    "    print df_train_clean.shape"
   ]
  },
  {
   "cell_type": "markdown",
   "metadata": {},
   "source": [
    "### Before processing count number of words to try and differentiate the classes\n"
   ]
  },
  {
   "cell_type": "code",
   "execution_count": 59,
   "metadata": {
    "collapsed": true
   },
   "outputs": [],
   "source": [
    "def compute_length(sentence):\n",
    "    \"remove chars that are not letters or numbers, downcase\"\n",
    "    regex = re.compile('([^\\s\\w]|_)+')\n",
    "    sentence = regex.sub('', sentence).lower()\n",
    "    length = len(sentence.split(\" \"))\n",
    "    \n",
    "    return length\n",
    "\n"
   ]
  },
  {
   "cell_type": "code",
   "execution_count": 60,
   "metadata": {
    "collapsed": false
   },
   "outputs": [],
   "source": [
    "df_train_clean[\"lengthQ1\"]= df_train_clean[\"question1\"].apply(compute_length)\n",
    "df_train_clean[\"lengthQ2\"]= df_train_clean[\"question2\"].apply(compute_length)"
   ]
  },
  {
   "cell_type": "code",
   "execution_count": 61,
   "metadata": {
    "collapsed": true
   },
   "outputs": [],
   "source": [
    "df_tosubmit[\"lengthQ1\"]= df_tosubmit[\"question1\"].apply(compute_length)\n",
    "df_tosubmit[\"lengthQ2\"]= df_tosubmit[\"question2\"].apply(compute_length)"
   ]
  },
  {
   "cell_type": "code",
   "execution_count": 62,
   "metadata": {
    "collapsed": false
   },
   "outputs": [
    {
     "data": {
      "text/html": [
       "<div>\n",
       "<table border=\"1\" class=\"dataframe\">\n",
       "  <thead>\n",
       "    <tr style=\"text-align: right;\">\n",
       "      <th></th>\n",
       "      <th>test_id</th>\n",
       "      <th>question1</th>\n",
       "      <th>question2</th>\n",
       "      <th>lengthQ1</th>\n",
       "      <th>lengthQ2</th>\n",
       "    </tr>\n",
       "  </thead>\n",
       "  <tbody>\n",
       "    <tr>\n",
       "      <th>0</th>\n",
       "      <td>0</td>\n",
       "      <td>How does the Surface Pro himself 4 compare wit...</td>\n",
       "      <td>Why did Microsoft choose core m3 and not core ...</td>\n",
       "      <td>11</td>\n",
       "      <td>14</td>\n",
       "    </tr>\n",
       "    <tr>\n",
       "      <th>1</th>\n",
       "      <td>1</td>\n",
       "      <td>Should I have a hair transplant at age 24? How...</td>\n",
       "      <td>How much cost does hair transplant require?</td>\n",
       "      <td>14</td>\n",
       "      <td>7</td>\n",
       "    </tr>\n",
       "    <tr>\n",
       "      <th>2</th>\n",
       "      <td>2</td>\n",
       "      <td>What but is the best way to send money from Ch...</td>\n",
       "      <td>What you send money to China?</td>\n",
       "      <td>14</td>\n",
       "      <td>6</td>\n",
       "    </tr>\n",
       "    <tr>\n",
       "      <th>3</th>\n",
       "      <td>3</td>\n",
       "      <td>Which food not emulsifiers?</td>\n",
       "      <td>What foods fibre?</td>\n",
       "      <td>4</td>\n",
       "      <td>3</td>\n",
       "    </tr>\n",
       "    <tr>\n",
       "      <th>4</th>\n",
       "      <td>4</td>\n",
       "      <td>How \"aberystwyth\" start reading?</td>\n",
       "      <td>How their can I start reading?</td>\n",
       "      <td>4</td>\n",
       "      <td>6</td>\n",
       "    </tr>\n",
       "  </tbody>\n",
       "</table>\n",
       "</div>"
      ],
      "text/plain": [
       "   test_id                                          question1  \\\n",
       "0        0  How does the Surface Pro himself 4 compare wit...   \n",
       "1        1  Should I have a hair transplant at age 24? How...   \n",
       "2        2  What but is the best way to send money from Ch...   \n",
       "3        3                        Which food not emulsifiers?   \n",
       "4        4                   How \"aberystwyth\" start reading?   \n",
       "\n",
       "                                           question2  lengthQ1  lengthQ2  \n",
       "0  Why did Microsoft choose core m3 and not core ...        11        14  \n",
       "1        How much cost does hair transplant require?        14         7  \n",
       "2                      What you send money to China?        14         6  \n",
       "3                                  What foods fibre?         4         3  \n",
       "4                     How their can I start reading?         4         6  "
      ]
     },
     "execution_count": 62,
     "metadata": {},
     "output_type": "execute_result"
    }
   ],
   "source": [
    "df_tosubmit.head()"
   ]
  },
  {
   "cell_type": "markdown",
   "metadata": {},
   "source": [
    "### Stop words removal"
   ]
  },
  {
   "cell_type": "code",
   "execution_count": 64,
   "metadata": {
    "collapsed": true
   },
   "outputs": [],
   "source": [
    "def clean_sentence(val):\n",
    "    \"remove chars that are not letters or numbers, downcase, then remove stop words\"\n",
    "    regex = re.compile('([^\\s\\w]|_)+')\n",
    "    sentence = regex.sub('', val).lower()\n",
    "    sentence = sentence.split(\" \")\n",
    "    \n",
    "    for word in list(sentence):\n",
    "        if word in STOP_WORDS:\n",
    "            sentence.remove(word)  \n",
    "            \n",
    "    sentence = \" \".join(sentence)\n",
    "    return sentence"
   ]
  },
  {
   "cell_type": "code",
   "execution_count": 65,
   "metadata": {
    "collapsed": false
   },
   "outputs": [],
   "source": [
    "df_train_clean[\"question1_nostopword\"] = df_train_clean[\"question1\"].apply(clean_sentence)\n",
    "df_train_clean[\"question2_nostopword\"] = df_train_clean[\"question2\"].apply(clean_sentence)"
   ]
  },
  {
   "cell_type": "code",
   "execution_count": 66,
   "metadata": {
    "collapsed": false
   },
   "outputs": [],
   "source": [
    "df_tosubmit[\"question1_nostopword\"] = df_tosubmit[\"question1\"].apply(clean_sentence)\n",
    "df_tosubmit[\"question2_nostopword\"] = df_tosubmit[\"question2\"].apply(clean_sentence)"
   ]
  },
  {
   "cell_type": "code",
   "execution_count": 80,
   "metadata": {
    "collapsed": true
   },
   "outputs": [],
   "source": [
    "df_train_clean[\"lengthQ1_nostopword\"]= df_train_clean[\"question1_nostopword\"].apply(compute_length)\n",
    "df_train_clean[\"lengthQ2_nostopword\"]= df_train_clean[\"question2_nostopword\"].apply(compute_length)"
   ]
  },
  {
   "cell_type": "code",
   "execution_count": 81,
   "metadata": {
    "collapsed": true
   },
   "outputs": [],
   "source": [
    "df_tosubmit[\"lengthQ1_nostopword\"]= df_tosubmit[\"question1_nostopword\"].apply(compute_length)\n",
    "df_tosubmit[\"lengthQ2_nostopword\"]= df_tosubmit[\"question2_nostopword\"].apply(compute_length)"
   ]
  },
  {
   "cell_type": "markdown",
   "metadata": {},
   "source": [
    "## Look for common words"
   ]
  },
  {
   "cell_type": "code",
   "execution_count": 82,
   "metadata": {
    "collapsed": false
   },
   "outputs": [],
   "source": [
    "def commom_words(sentence1, sentence2):\n",
    "    \n",
    "    commonwords = [None] * len(sentence1)\n",
    "    \n",
    "    for i in range(len(sentence1)):\n",
    "        sameWords = set.intersection(set(sentence1[i].split(\" \")), set(sentence2[i].split(\" \")))\n",
    "        numberOfWords = len(sameWords)\n",
    "\n",
    "        commonwords[i] = sameWords\n",
    "    \n",
    "    return commonwords"
   ]
  },
  {
   "cell_type": "code",
   "execution_count": 83,
   "metadata": {
    "collapsed": false
   },
   "outputs": [
    {
     "data": {
      "text/plain": [
       "404288"
      ]
     },
     "execution_count": 83,
     "metadata": {},
     "output_type": "execute_result"
    }
   ],
   "source": [
    "len(df_train_clean)"
   ]
  },
  {
   "cell_type": "code",
   "execution_count": 84,
   "metadata": {
    "collapsed": true
   },
   "outputs": [],
   "source": [
    "#one of the indices doesn't load, reindex the data frame\n",
    "df_train_clean = df_train_clean.reset_index(drop=True)"
   ]
  },
  {
   "cell_type": "code",
   "execution_count": 85,
   "metadata": {
    "collapsed": false
   },
   "outputs": [],
   "source": [
    "#check the words that in common\n",
    "df_train_clean[\"Common\"]= commom_words(df_train_clean[\"question1\"],df_train_clean[\"question2\"])\n",
    "df_train_clean[\"Common_nostopword\"]= commom_words(df_train_clean[\"question1_nostopword\"],df_train_clean[\"question2_nostopword\"])"
   ]
  },
  {
   "cell_type": "code",
   "execution_count": 87,
   "metadata": {
    "collapsed": true
   },
   "outputs": [],
   "source": [
    "df_tosubmit[\"Common\"]= commom_words(df_tosubmit[\"question1\"],df_tosubmit[\"question2\"])\n",
    "df_tosubmit[\"Common_nostopword\"]= commom_words(df_tosubmit[\"question1_nostopword\"],df_tosubmit[\"question2_nostopword\"])"
   ]
  },
  {
   "cell_type": "code",
   "execution_count": 88,
   "metadata": {
    "collapsed": false
   },
   "outputs": [],
   "source": [
    "#compute the number of common words\n",
    "df_train_clean[\"CommonLength\"] = df_train_clean[\"Common\"].apply(lambda x: len(x))\n",
    "df_train_clean[\"CommonLength_nostopword\"] = df_train_clean[\"Common_nostopword\"].apply(lambda x: len(x))"
   ]
  },
  {
   "cell_type": "code",
   "execution_count": 89,
   "metadata": {
    "collapsed": true
   },
   "outputs": [],
   "source": [
    "df_tosubmit[\"CommonLength\"] = df_tosubmit[\"Common\"].apply(lambda x: len(x))\n",
    "df_tosubmit[\"CommonLength_nostopword\"] = df_tosubmit[\"Common_nostopword\"].apply(lambda x: len(x))"
   ]
  },
  {
   "cell_type": "code",
   "execution_count": 90,
   "metadata": {
    "collapsed": true
   },
   "outputs": [],
   "source": [
    "#compute the average length of share words\n",
    "def average_shared_length(length1, length2, shared):\n",
    "    \n",
    "    share_length = [None] * len(length1)\n",
    "    \n",
    "    for i in range(len(length1)):\n",
    "        # print shared[i+1]\n",
    "        if (float(length1[i]+length2[i])>0):\n",
    "            share_length[i] = float(shared[i])/float(length1[i]+length2[i])\n",
    "        else:\n",
    "            share_length[i] = 0\n",
    "\n",
    "    return share_length"
   ]
  },
  {
   "cell_type": "code",
   "execution_count": 91,
   "metadata": {
    "collapsed": false
   },
   "outputs": [],
   "source": [
    "df_train_clean[\"Shared\"]= average_shared_length(df_train_clean[\"lengthQ1\"],df_train_clean[\"lengthQ2\"],\n",
    "                                                df_train_clean[\"CommonLength\"])"
   ]
  },
  {
   "cell_type": "code",
   "execution_count": 92,
   "metadata": {
    "collapsed": true
   },
   "outputs": [],
   "source": [
    "df_tosubmit[\"Shared\"]= average_shared_length(df_tosubmit[\"lengthQ1\"],df_tosubmit[\"lengthQ2\"],\n",
    "                                                df_tosubmit[\"CommonLength\"])"
   ]
  },
  {
   "cell_type": "code",
   "execution_count": 93,
   "metadata": {
    "collapsed": true
   },
   "outputs": [],
   "source": [
    "df_train_clean[\"Shared_nostopword\"]= average_shared_length(df_train_clean[\"lengthQ1_nostopword\"],df_train_clean[\"lengthQ2_nostopword\"],\n",
    "                                                df_train_clean[\"CommonLength_nostopword\"])"
   ]
  },
  {
   "cell_type": "code",
   "execution_count": 94,
   "metadata": {
    "collapsed": true
   },
   "outputs": [],
   "source": [
    "df_tosubmit[\"Shared_nostopword\"]= average_shared_length(df_tosubmit[\"lengthQ1_nostopword\"],df_tosubmit[\"lengthQ2_nostopword\"],\n",
    "                                                df_tosubmit[\"CommonLength_nostopword\"])"
   ]
  },
  {
   "cell_type": "code",
   "execution_count": 95,
   "metadata": {
    "collapsed": false
   },
   "outputs": [
    {
     "data": {
      "text/html": [
       "<div>\n",
       "<table border=\"1\" class=\"dataframe\">\n",
       "  <thead>\n",
       "    <tr style=\"text-align: right;\">\n",
       "      <th></th>\n",
       "      <th>id</th>\n",
       "      <th>qid1</th>\n",
       "      <th>qid2</th>\n",
       "      <th>question1</th>\n",
       "      <th>question2</th>\n",
       "      <th>is_duplicate</th>\n",
       "      <th>lengthQ1</th>\n",
       "      <th>lengthQ2</th>\n",
       "      <th>question1_nostopword</th>\n",
       "      <th>question2_nostopword</th>\n",
       "      <th>Common</th>\n",
       "      <th>CommonLength</th>\n",
       "      <th>Shared</th>\n",
       "      <th>lengthQ1_nostopword</th>\n",
       "      <th>lengthQ2_nostopword</th>\n",
       "      <th>Common_nostopword</th>\n",
       "      <th>CommonLength_nostopword</th>\n",
       "      <th>Shared_nostopword</th>\n",
       "    </tr>\n",
       "  </thead>\n",
       "  <tbody>\n",
       "    <tr>\n",
       "      <th>0</th>\n",
       "      <td>230037</td>\n",
       "      <td>10403</td>\n",
       "      <td>339472</td>\n",
       "      <td>How is Katrina Kaif still surviving in the ind...</td>\n",
       "      <td>Why is Katrina Kaif still in India when she al...</td>\n",
       "      <td>0</td>\n",
       "      <td>12</td>\n",
       "      <td>15</td>\n",
       "      <td>katrina kaif still surviving industry without ...</td>\n",
       "      <td>katrina kaif still india already realizes tale...</td>\n",
       "      <td>{still, Kaif, is, Katrina, in}</td>\n",
       "      <td>5</td>\n",
       "      <td>0.185185</td>\n",
       "      <td>8</td>\n",
       "      <td>7</td>\n",
       "      <td>{still, kaif, katrina}</td>\n",
       "      <td>3</td>\n",
       "      <td>0.200000</td>\n",
       "    </tr>\n",
       "    <tr>\n",
       "      <th>1</th>\n",
       "      <td>347840</td>\n",
       "      <td>476336</td>\n",
       "      <td>476337</td>\n",
       "      <td>What is stopping OLET (Organic Light-Emitting ...</td>\n",
       "      <td>Has OLET (Organic Light-Emitting Transistors) ...</td>\n",
       "      <td>1</td>\n",
       "      <td>11</td>\n",
       "      <td>7</td>\n",
       "      <td>stopping olet organic lightemitting transistor...</td>\n",
       "      <td>olet organic lightemitting transistors abandoned</td>\n",
       "      <td>{OLET, (Organic, Light-Emitting, Transistors)}</td>\n",
       "      <td>4</td>\n",
       "      <td>0.222222</td>\n",
       "      <td>7</td>\n",
       "      <td>5</td>\n",
       "      <td>{lightemitting, olet, transistors, organic}</td>\n",
       "      <td>4</td>\n",
       "      <td>0.333333</td>\n",
       "    </tr>\n",
       "    <tr>\n",
       "      <th>2</th>\n",
       "      <td>391501</td>\n",
       "      <td>524083</td>\n",
       "      <td>183040</td>\n",
       "      <td>What is the significance of the Peepal tree in...</td>\n",
       "      <td>How is it possible that the Peepal tree releas...</td>\n",
       "      <td>0</td>\n",
       "      <td>11</td>\n",
       "      <td>13</td>\n",
       "      <td>significance peepal tree indian culture</td>\n",
       "      <td>possible peepal tree releases oxygen time</td>\n",
       "      <td>{is, Peepal, tree, the}</td>\n",
       "      <td>4</td>\n",
       "      <td>0.166667</td>\n",
       "      <td>5</td>\n",
       "      <td>6</td>\n",
       "      <td>{peepal, tree}</td>\n",
       "      <td>2</td>\n",
       "      <td>0.181818</td>\n",
       "    </tr>\n",
       "  </tbody>\n",
       "</table>\n",
       "</div>"
      ],
      "text/plain": [
       "       id    qid1    qid2                                          question1  \\\n",
       "0  230037   10403  339472  How is Katrina Kaif still surviving in the ind...   \n",
       "1  347840  476336  476337  What is stopping OLET (Organic Light-Emitting ...   \n",
       "2  391501  524083  183040  What is the significance of the Peepal tree in...   \n",
       "\n",
       "                                           question2  is_duplicate  lengthQ1  \\\n",
       "0  Why is Katrina Kaif still in India when she al...             0        12   \n",
       "1  Has OLET (Organic Light-Emitting Transistors) ...             1        11   \n",
       "2  How is it possible that the Peepal tree releas...             0        11   \n",
       "\n",
       "   lengthQ2                               question1_nostopword  \\\n",
       "0        15  katrina kaif still surviving industry without ...   \n",
       "1         7  stopping olet organic lightemitting transistor...   \n",
       "2        13            significance peepal tree indian culture   \n",
       "\n",
       "                                question2_nostopword  \\\n",
       "0  katrina kaif still india already realizes tale...   \n",
       "1   olet organic lightemitting transistors abandoned   \n",
       "2          possible peepal tree releases oxygen time   \n",
       "\n",
       "                                           Common  CommonLength    Shared  \\\n",
       "0                  {still, Kaif, is, Katrina, in}             5  0.185185   \n",
       "1  {OLET, (Organic, Light-Emitting, Transistors)}             4  0.222222   \n",
       "2                         {is, Peepal, tree, the}             4  0.166667   \n",
       "\n",
       "   lengthQ1_nostopword  lengthQ2_nostopword  \\\n",
       "0                    8                    7   \n",
       "1                    7                    5   \n",
       "2                    5                    6   \n",
       "\n",
       "                             Common_nostopword  CommonLength_nostopword  \\\n",
       "0                       {still, kaif, katrina}                        3   \n",
       "1  {lightemitting, olet, transistors, organic}                        4   \n",
       "2                               {peepal, tree}                        2   \n",
       "\n",
       "   Shared_nostopword  \n",
       "0           0.200000  \n",
       "1           0.333333  \n",
       "2           0.181818  "
      ]
     },
     "execution_count": 95,
     "metadata": {},
     "output_type": "execute_result"
    }
   ],
   "source": [
    "df_train_clean.head(3)"
   ]
  },
  {
   "cell_type": "markdown",
   "metadata": {},
   "source": [
    "## Lemmatization\n",
    "\n",
    "(recheck position in preparation)"
   ]
  },
  {
   "cell_type": "code",
   "execution_count": 96,
   "metadata": {
    "collapsed": false
   },
   "outputs": [],
   "source": [
    "#let's do some lemmatization\n",
    "from nltk.stem.wordnet import WordNetLemmatizer\n",
    "lmtzr = WordNetLemmatizer()\n",
    "\n",
    "df_train_clean[\"question1_lem\"] = df_train_clean[\"question1_nostopword\"].apply(lmtzr.lemmatize)\n",
    "df_train_clean[\"question2_lem\"] = df_train_clean[\"question2_nostopword\"].apply(lmtzr.lemmatize)"
   ]
  },
  {
   "cell_type": "code",
   "execution_count": 97,
   "metadata": {
    "collapsed": true
   },
   "outputs": [],
   "source": [
    "df_tosubmit[\"question1_lem\"] = df_tosubmit[\"question1_nostopword\"].apply(lmtzr.lemmatize)\n",
    "df_tosubmit[\"question2_lem\"] = df_tosubmit[\"question2_nostopword\"].apply(lmtzr.lemmatize)"
   ]
  },
  {
   "cell_type": "code",
   "execution_count": 98,
   "metadata": {
    "collapsed": false
   },
   "outputs": [
    {
     "data": {
      "text/html": [
       "<div>\n",
       "<table border=\"1\" class=\"dataframe\">\n",
       "  <thead>\n",
       "    <tr style=\"text-align: right;\">\n",
       "      <th></th>\n",
       "      <th>id</th>\n",
       "      <th>qid1</th>\n",
       "      <th>qid2</th>\n",
       "      <th>question1</th>\n",
       "      <th>question2</th>\n",
       "      <th>is_duplicate</th>\n",
       "      <th>lengthQ1</th>\n",
       "      <th>lengthQ2</th>\n",
       "      <th>question1_nostopword</th>\n",
       "      <th>question2_nostopword</th>\n",
       "      <th>Common</th>\n",
       "      <th>CommonLength</th>\n",
       "      <th>Shared</th>\n",
       "      <th>lengthQ1_nostopword</th>\n",
       "      <th>lengthQ2_nostopword</th>\n",
       "      <th>Common_nostopword</th>\n",
       "      <th>CommonLength_nostopword</th>\n",
       "      <th>Shared_nostopword</th>\n",
       "      <th>question1_lem</th>\n",
       "      <th>question2_lem</th>\n",
       "    </tr>\n",
       "  </thead>\n",
       "  <tbody>\n",
       "    <tr>\n",
       "      <th>0</th>\n",
       "      <td>230037</td>\n",
       "      <td>10403</td>\n",
       "      <td>339472</td>\n",
       "      <td>How is Katrina Kaif still surviving in the ind...</td>\n",
       "      <td>Why is Katrina Kaif still in India when she al...</td>\n",
       "      <td>0</td>\n",
       "      <td>12</td>\n",
       "      <td>15</td>\n",
       "      <td>katrina kaif still surviving industry without ...</td>\n",
       "      <td>katrina kaif still india already realizes tale...</td>\n",
       "      <td>{still, Kaif, is, Katrina, in}</td>\n",
       "      <td>5</td>\n",
       "      <td>0.185185</td>\n",
       "      <td>8</td>\n",
       "      <td>7</td>\n",
       "      <td>{still, kaif, katrina}</td>\n",
       "      <td>3</td>\n",
       "      <td>0.200000</td>\n",
       "      <td>katrina kaif still surviving industry without ...</td>\n",
       "      <td>katrina kaif still india already realizes tale...</td>\n",
       "    </tr>\n",
       "    <tr>\n",
       "      <th>1</th>\n",
       "      <td>347840</td>\n",
       "      <td>476336</td>\n",
       "      <td>476337</td>\n",
       "      <td>What is stopping OLET (Organic Light-Emitting ...</td>\n",
       "      <td>Has OLET (Organic Light-Emitting Transistors) ...</td>\n",
       "      <td>1</td>\n",
       "      <td>11</td>\n",
       "      <td>7</td>\n",
       "      <td>stopping olet organic lightemitting transistor...</td>\n",
       "      <td>olet organic lightemitting transistors abandoned</td>\n",
       "      <td>{OLET, (Organic, Light-Emitting, Transistors)}</td>\n",
       "      <td>4</td>\n",
       "      <td>0.222222</td>\n",
       "      <td>7</td>\n",
       "      <td>5</td>\n",
       "      <td>{lightemitting, olet, transistors, organic}</td>\n",
       "      <td>4</td>\n",
       "      <td>0.333333</td>\n",
       "      <td>stopping olet organic lightemitting transistor...</td>\n",
       "      <td>olet organic lightemitting transistors abandoned</td>\n",
       "    </tr>\n",
       "    <tr>\n",
       "      <th>2</th>\n",
       "      <td>391501</td>\n",
       "      <td>524083</td>\n",
       "      <td>183040</td>\n",
       "      <td>What is the significance of the Peepal tree in...</td>\n",
       "      <td>How is it possible that the Peepal tree releas...</td>\n",
       "      <td>0</td>\n",
       "      <td>11</td>\n",
       "      <td>13</td>\n",
       "      <td>significance peepal tree indian culture</td>\n",
       "      <td>possible peepal tree releases oxygen time</td>\n",
       "      <td>{is, Peepal, tree, the}</td>\n",
       "      <td>4</td>\n",
       "      <td>0.166667</td>\n",
       "      <td>5</td>\n",
       "      <td>6</td>\n",
       "      <td>{peepal, tree}</td>\n",
       "      <td>2</td>\n",
       "      <td>0.181818</td>\n",
       "      <td>significance peepal tree indian culture</td>\n",
       "      <td>possible peepal tree releases oxygen time</td>\n",
       "    </tr>\n",
       "  </tbody>\n",
       "</table>\n",
       "</div>"
      ],
      "text/plain": [
       "       id    qid1    qid2                                          question1  \\\n",
       "0  230037   10403  339472  How is Katrina Kaif still surviving in the ind...   \n",
       "1  347840  476336  476337  What is stopping OLET (Organic Light-Emitting ...   \n",
       "2  391501  524083  183040  What is the significance of the Peepal tree in...   \n",
       "\n",
       "                                           question2  is_duplicate  lengthQ1  \\\n",
       "0  Why is Katrina Kaif still in India when she al...             0        12   \n",
       "1  Has OLET (Organic Light-Emitting Transistors) ...             1        11   \n",
       "2  How is it possible that the Peepal tree releas...             0        11   \n",
       "\n",
       "   lengthQ2                               question1_nostopword  \\\n",
       "0        15  katrina kaif still surviving industry without ...   \n",
       "1         7  stopping olet organic lightemitting transistor...   \n",
       "2        13            significance peepal tree indian culture   \n",
       "\n",
       "                                question2_nostopword  \\\n",
       "0  katrina kaif still india already realizes tale...   \n",
       "1   olet organic lightemitting transistors abandoned   \n",
       "2          possible peepal tree releases oxygen time   \n",
       "\n",
       "                                           Common  CommonLength    Shared  \\\n",
       "0                  {still, Kaif, is, Katrina, in}             5  0.185185   \n",
       "1  {OLET, (Organic, Light-Emitting, Transistors)}             4  0.222222   \n",
       "2                         {is, Peepal, tree, the}             4  0.166667   \n",
       "\n",
       "   lengthQ1_nostopword  lengthQ2_nostopword  \\\n",
       "0                    8                    7   \n",
       "1                    7                    5   \n",
       "2                    5                    6   \n",
       "\n",
       "                             Common_nostopword  CommonLength_nostopword  \\\n",
       "0                       {still, kaif, katrina}                        3   \n",
       "1  {lightemitting, olet, transistors, organic}                        4   \n",
       "2                               {peepal, tree}                        2   \n",
       "\n",
       "   Shared_nostopword                                      question1_lem  \\\n",
       "0           0.200000  katrina kaif still surviving industry without ...   \n",
       "1           0.333333  stopping olet organic lightemitting transistor...   \n",
       "2           0.181818            significance peepal tree indian culture   \n",
       "\n",
       "                                       question2_lem  \n",
       "0  katrina kaif still india already realizes tale...  \n",
       "1   olet organic lightemitting transistors abandoned  \n",
       "2          possible peepal tree releases oxygen time  "
      ]
     },
     "execution_count": 98,
     "metadata": {},
     "output_type": "execute_result"
    }
   ],
   "source": [
    "df_train_clean.head(3)"
   ]
  },
  {
   "cell_type": "markdown",
   "metadata": {},
   "source": [
    "## Stemming"
   ]
  },
  {
   "cell_type": "code",
   "execution_count": 99,
   "metadata": {
    "collapsed": false
   },
   "outputs": [],
   "source": [
    "from nltk.stem.porter import PorterStemmer\n",
    "\n",
    "def stem_tokens(tokens):\n",
    " \n",
    "    porter_stemmer = PorterStemmer()\n",
    "    #print tokens\n",
    "    wordList = re.sub(\"[^\\w]\", \" \",  tokens).split()\n",
    "    stemmed = []\n",
    "    for item in wordList:\n",
    "        stemmed.append(porter_stemmer.stem(item))\n",
    "    print stemmed    \n",
    "    return stemmed\n",
    "\n"
   ]
  },
  {
   "cell_type": "code",
   "execution_count": 102,
   "metadata": {
    "collapsed": false
   },
   "outputs": [],
   "source": [
    "execute = 0\n",
    "#a bit too long\n",
    "if (execute==1):\n",
    "    df_train_clean[\"question1_stem\"] = df_train_clean[\"question1_lem\"].apply(stem_tokens)\n",
    "    df_train_clean[\"question2_stem\"] = df_train_clean[\"question2_lem\"].apply(stem_tokens)\n",
    "    df_tosubmit[\"question1_stem\"] = df_tosubmit[\"question1_lem\"].apply(stem_tokens)\n",
    "    df_tosubmit[\"question2_stem\"] = df_tosubmit[\"question2_lem\"].apply(stem_tokens)\n",
    "    "
   ]
  },
  {
   "cell_type": "markdown",
   "metadata": {},
   "source": [
    "## Compute lengths post-process"
   ]
  },
  {
   "cell_type": "code",
   "execution_count": 104,
   "metadata": {
    "collapsed": true
   },
   "outputs": [],
   "source": [
    "df_train_clean[\"lengthPP_Q1\"]= df_train_clean[\"question1_lem\"].apply(compute_length)\n",
    "df_train_clean[\"lengthPP_Q2\"]= df_train_clean[\"question2_lem\"].apply(compute_length)"
   ]
  },
  {
   "cell_type": "code",
   "execution_count": 105,
   "metadata": {
    "collapsed": false
   },
   "outputs": [],
   "source": [
    "df_train_clean[\"SharedPP\"]= average_shared_length(df_train_clean[\"lengthPP_Q1\"],df_train_clean[\"lengthPP_Q2\"],\n",
    "                                                df_train_clean[\"CommonLength\"])"
   ]
  },
  {
   "cell_type": "code",
   "execution_count": 106,
   "metadata": {
    "collapsed": true
   },
   "outputs": [],
   "source": [
    "df_tosubmit[\"lengthPP_Q1\"]= df_tosubmit[\"question1_lem\"].apply(compute_length)\n",
    "df_tosubmit[\"lengthPP_Q2\"]= df_tosubmit[\"question2_lem\"].apply(compute_length)"
   ]
  },
  {
   "cell_type": "code",
   "execution_count": 107,
   "metadata": {
    "collapsed": true
   },
   "outputs": [],
   "source": [
    "df_tosubmit[\"SharedPP\"]= average_shared_length(df_tosubmit[\"lengthPP_Q1\"],df_tosubmit[\"lengthPP_Q2\"],\n",
    "                                                df_tosubmit[\"CommonLength\"])"
   ]
  },
  {
   "cell_type": "code",
   "execution_count": 108,
   "metadata": {
    "collapsed": false
   },
   "outputs": [
    {
     "data": {
      "text/html": [
       "<div>\n",
       "<table border=\"1\" class=\"dataframe\">\n",
       "  <thead>\n",
       "    <tr style=\"text-align: right;\">\n",
       "      <th></th>\n",
       "      <th>id</th>\n",
       "      <th>qid1</th>\n",
       "      <th>qid2</th>\n",
       "      <th>question1</th>\n",
       "      <th>question2</th>\n",
       "      <th>is_duplicate</th>\n",
       "      <th>lengthQ1</th>\n",
       "      <th>lengthQ2</th>\n",
       "      <th>question1_nostopword</th>\n",
       "      <th>question2_nostopword</th>\n",
       "      <th>...</th>\n",
       "      <th>lengthQ1_nostopword</th>\n",
       "      <th>lengthQ2_nostopword</th>\n",
       "      <th>Common_nostopword</th>\n",
       "      <th>CommonLength_nostopword</th>\n",
       "      <th>Shared_nostopword</th>\n",
       "      <th>question1_lem</th>\n",
       "      <th>question2_lem</th>\n",
       "      <th>lengthPP_Q1</th>\n",
       "      <th>lengthPP_Q2</th>\n",
       "      <th>SharedPP</th>\n",
       "    </tr>\n",
       "  </thead>\n",
       "  <tbody>\n",
       "    <tr>\n",
       "      <th>0</th>\n",
       "      <td>230037</td>\n",
       "      <td>10403</td>\n",
       "      <td>339472</td>\n",
       "      <td>How is Katrina Kaif still surviving in the ind...</td>\n",
       "      <td>Why is Katrina Kaif still in India when she al...</td>\n",
       "      <td>0</td>\n",
       "      <td>12</td>\n",
       "      <td>15</td>\n",
       "      <td>katrina kaif still surviving industry without ...</td>\n",
       "      <td>katrina kaif still india already realizes tale...</td>\n",
       "      <td>...</td>\n",
       "      <td>8</td>\n",
       "      <td>7</td>\n",
       "      <td>{still, kaif, katrina}</td>\n",
       "      <td>3</td>\n",
       "      <td>0.200000</td>\n",
       "      <td>katrina kaif still surviving industry without ...</td>\n",
       "      <td>katrina kaif still india already realizes tale...</td>\n",
       "      <td>8</td>\n",
       "      <td>7</td>\n",
       "      <td>0.333333</td>\n",
       "    </tr>\n",
       "    <tr>\n",
       "      <th>1</th>\n",
       "      <td>347840</td>\n",
       "      <td>476336</td>\n",
       "      <td>476337</td>\n",
       "      <td>What is stopping OLET (Organic Light-Emitting ...</td>\n",
       "      <td>Has OLET (Organic Light-Emitting Transistors) ...</td>\n",
       "      <td>1</td>\n",
       "      <td>11</td>\n",
       "      <td>7</td>\n",
       "      <td>stopping olet organic lightemitting transistor...</td>\n",
       "      <td>olet organic lightemitting transistors abandoned</td>\n",
       "      <td>...</td>\n",
       "      <td>7</td>\n",
       "      <td>5</td>\n",
       "      <td>{lightemitting, olet, transistors, organic}</td>\n",
       "      <td>4</td>\n",
       "      <td>0.333333</td>\n",
       "      <td>stopping olet organic lightemitting transistor...</td>\n",
       "      <td>olet organic lightemitting transistors abandoned</td>\n",
       "      <td>7</td>\n",
       "      <td>5</td>\n",
       "      <td>0.333333</td>\n",
       "    </tr>\n",
       "    <tr>\n",
       "      <th>2</th>\n",
       "      <td>391501</td>\n",
       "      <td>524083</td>\n",
       "      <td>183040</td>\n",
       "      <td>What is the significance of the Peepal tree in...</td>\n",
       "      <td>How is it possible that the Peepal tree releas...</td>\n",
       "      <td>0</td>\n",
       "      <td>11</td>\n",
       "      <td>13</td>\n",
       "      <td>significance peepal tree indian culture</td>\n",
       "      <td>possible peepal tree releases oxygen time</td>\n",
       "      <td>...</td>\n",
       "      <td>5</td>\n",
       "      <td>6</td>\n",
       "      <td>{peepal, tree}</td>\n",
       "      <td>2</td>\n",
       "      <td>0.181818</td>\n",
       "      <td>significance peepal tree indian culture</td>\n",
       "      <td>possible peepal tree releases oxygen time</td>\n",
       "      <td>5</td>\n",
       "      <td>6</td>\n",
       "      <td>0.363636</td>\n",
       "    </tr>\n",
       "  </tbody>\n",
       "</table>\n",
       "<p>3 rows × 23 columns</p>\n",
       "</div>"
      ],
      "text/plain": [
       "       id    qid1    qid2                                          question1  \\\n",
       "0  230037   10403  339472  How is Katrina Kaif still surviving in the ind...   \n",
       "1  347840  476336  476337  What is stopping OLET (Organic Light-Emitting ...   \n",
       "2  391501  524083  183040  What is the significance of the Peepal tree in...   \n",
       "\n",
       "                                           question2  is_duplicate  lengthQ1  \\\n",
       "0  Why is Katrina Kaif still in India when she al...             0        12   \n",
       "1  Has OLET (Organic Light-Emitting Transistors) ...             1        11   \n",
       "2  How is it possible that the Peepal tree releas...             0        11   \n",
       "\n",
       "   lengthQ2                               question1_nostopword  \\\n",
       "0        15  katrina kaif still surviving industry without ...   \n",
       "1         7  stopping olet organic lightemitting transistor...   \n",
       "2        13            significance peepal tree indian culture   \n",
       "\n",
       "                                question2_nostopword    ...     \\\n",
       "0  katrina kaif still india already realizes tale...    ...      \n",
       "1   olet organic lightemitting transistors abandoned    ...      \n",
       "2          possible peepal tree releases oxygen time    ...      \n",
       "\n",
       "  lengthQ1_nostopword  lengthQ2_nostopword  \\\n",
       "0                   8                    7   \n",
       "1                   7                    5   \n",
       "2                   5                    6   \n",
       "\n",
       "                             Common_nostopword  CommonLength_nostopword  \\\n",
       "0                       {still, kaif, katrina}                        3   \n",
       "1  {lightemitting, olet, transistors, organic}                        4   \n",
       "2                               {peepal, tree}                        2   \n",
       "\n",
       "   Shared_nostopword                                      question1_lem  \\\n",
       "0           0.200000  katrina kaif still surviving industry without ...   \n",
       "1           0.333333  stopping olet organic lightemitting transistor...   \n",
       "2           0.181818            significance peepal tree indian culture   \n",
       "\n",
       "                                       question2_lem  lengthPP_Q1 lengthPP_Q2  \\\n",
       "0  katrina kaif still india already realizes tale...            8           7   \n",
       "1   olet organic lightemitting transistors abandoned            7           5   \n",
       "2          possible peepal tree releases oxygen time            5           6   \n",
       "\n",
       "   SharedPP  \n",
       "0  0.333333  \n",
       "1  0.333333  \n",
       "2  0.363636  \n",
       "\n",
       "[3 rows x 23 columns]"
      ]
     },
     "execution_count": 108,
     "metadata": {},
     "output_type": "execute_result"
    }
   ],
   "source": [
    "#sanity check\n",
    "df_train_clean.head(3)"
   ]
  },
  {
   "cell_type": "markdown",
   "metadata": {},
   "source": [
    "## Build length differences features"
   ]
  },
  {
   "cell_type": "code",
   "execution_count": 109,
   "metadata": {
    "collapsed": true
   },
   "outputs": [],
   "source": [
    "df_train_clean[\"lenth_diff\"] = np.abs(df_train_clean[\"lengthQ2\"]-df_train_clean[\"lengthQ1\"])\n",
    "df_train_clean[\"lengthPP_diff\"]= np.abs(df_train_clean[\"lengthPP_Q1\"]-df_train_clean[\"lengthPP_Q2\"])\n",
    "df_train_clean[\"lenth_diff_nostopword\"] = np.abs(df_train_clean[\"lengthQ2_nostopword\"]-df_train_clean[\"lengthQ1_nostopword\"])"
   ]
  },
  {
   "cell_type": "code",
   "execution_count": 110,
   "metadata": {
    "collapsed": true
   },
   "outputs": [],
   "source": [
    "df_tosubmit[\"lenth_diff\"] = np.abs(df_tosubmit[\"lengthQ2\"]-df_tosubmit[\"lengthQ1\"])\n",
    "df_tosubmit[\"lengthPP_diff\"]= np.abs(df_tosubmit[\"lengthPP_Q1\"]-df_tosubmit[\"lengthPP_Q2\"])\n",
    "df_tosubmit[\"lenth_diff_nostopword\"] = np.abs(df_tosubmit[\"lengthQ2_nostopword\"]-df_tosubmit[\"lengthQ1_nostopword\"])"
   ]
  },
  {
   "cell_type": "code",
   "execution_count": 111,
   "metadata": {
    "collapsed": false
   },
   "outputs": [
    {
     "data": {
      "text/html": [
       "<div>\n",
       "<table border=\"1\" class=\"dataframe\">\n",
       "  <thead>\n",
       "    <tr style=\"text-align: right;\">\n",
       "      <th></th>\n",
       "      <th>id</th>\n",
       "      <th>qid1</th>\n",
       "      <th>qid2</th>\n",
       "      <th>question1</th>\n",
       "      <th>question2</th>\n",
       "      <th>is_duplicate</th>\n",
       "      <th>lengthQ1</th>\n",
       "      <th>lengthQ2</th>\n",
       "      <th>question1_nostopword</th>\n",
       "      <th>question2_nostopword</th>\n",
       "      <th>...</th>\n",
       "      <th>CommonLength_nostopword</th>\n",
       "      <th>Shared_nostopword</th>\n",
       "      <th>question1_lem</th>\n",
       "      <th>question2_lem</th>\n",
       "      <th>lengthPP_Q1</th>\n",
       "      <th>lengthPP_Q2</th>\n",
       "      <th>SharedPP</th>\n",
       "      <th>lenth_diff</th>\n",
       "      <th>lengthPP_diff</th>\n",
       "      <th>lenth_diff_nostopword</th>\n",
       "    </tr>\n",
       "  </thead>\n",
       "  <tbody>\n",
       "    <tr>\n",
       "      <th>0</th>\n",
       "      <td>230037</td>\n",
       "      <td>10403</td>\n",
       "      <td>339472</td>\n",
       "      <td>How is Katrina Kaif still surviving in the ind...</td>\n",
       "      <td>Why is Katrina Kaif still in India when she al...</td>\n",
       "      <td>0</td>\n",
       "      <td>12</td>\n",
       "      <td>15</td>\n",
       "      <td>katrina kaif still surviving industry without ...</td>\n",
       "      <td>katrina kaif still india already realizes tale...</td>\n",
       "      <td>...</td>\n",
       "      <td>3</td>\n",
       "      <td>0.200000</td>\n",
       "      <td>katrina kaif still surviving industry without ...</td>\n",
       "      <td>katrina kaif still india already realizes tale...</td>\n",
       "      <td>8</td>\n",
       "      <td>7</td>\n",
       "      <td>0.333333</td>\n",
       "      <td>3</td>\n",
       "      <td>1</td>\n",
       "      <td>1</td>\n",
       "    </tr>\n",
       "    <tr>\n",
       "      <th>1</th>\n",
       "      <td>347840</td>\n",
       "      <td>476336</td>\n",
       "      <td>476337</td>\n",
       "      <td>What is stopping OLET (Organic Light-Emitting ...</td>\n",
       "      <td>Has OLET (Organic Light-Emitting Transistors) ...</td>\n",
       "      <td>1</td>\n",
       "      <td>11</td>\n",
       "      <td>7</td>\n",
       "      <td>stopping olet organic lightemitting transistor...</td>\n",
       "      <td>olet organic lightemitting transistors abandoned</td>\n",
       "      <td>...</td>\n",
       "      <td>4</td>\n",
       "      <td>0.333333</td>\n",
       "      <td>stopping olet organic lightemitting transistor...</td>\n",
       "      <td>olet organic lightemitting transistors abandoned</td>\n",
       "      <td>7</td>\n",
       "      <td>5</td>\n",
       "      <td>0.333333</td>\n",
       "      <td>4</td>\n",
       "      <td>2</td>\n",
       "      <td>2</td>\n",
       "    </tr>\n",
       "    <tr>\n",
       "      <th>2</th>\n",
       "      <td>391501</td>\n",
       "      <td>524083</td>\n",
       "      <td>183040</td>\n",
       "      <td>What is the significance of the Peepal tree in...</td>\n",
       "      <td>How is it possible that the Peepal tree releas...</td>\n",
       "      <td>0</td>\n",
       "      <td>11</td>\n",
       "      <td>13</td>\n",
       "      <td>significance peepal tree indian culture</td>\n",
       "      <td>possible peepal tree releases oxygen time</td>\n",
       "      <td>...</td>\n",
       "      <td>2</td>\n",
       "      <td>0.181818</td>\n",
       "      <td>significance peepal tree indian culture</td>\n",
       "      <td>possible peepal tree releases oxygen time</td>\n",
       "      <td>5</td>\n",
       "      <td>6</td>\n",
       "      <td>0.363636</td>\n",
       "      <td>2</td>\n",
       "      <td>1</td>\n",
       "      <td>1</td>\n",
       "    </tr>\n",
       "  </tbody>\n",
       "</table>\n",
       "<p>3 rows × 26 columns</p>\n",
       "</div>"
      ],
      "text/plain": [
       "       id    qid1    qid2                                          question1  \\\n",
       "0  230037   10403  339472  How is Katrina Kaif still surviving in the ind...   \n",
       "1  347840  476336  476337  What is stopping OLET (Organic Light-Emitting ...   \n",
       "2  391501  524083  183040  What is the significance of the Peepal tree in...   \n",
       "\n",
       "                                           question2  is_duplicate  lengthQ1  \\\n",
       "0  Why is Katrina Kaif still in India when she al...             0        12   \n",
       "1  Has OLET (Organic Light-Emitting Transistors) ...             1        11   \n",
       "2  How is it possible that the Peepal tree releas...             0        11   \n",
       "\n",
       "   lengthQ2                               question1_nostopword  \\\n",
       "0        15  katrina kaif still surviving industry without ...   \n",
       "1         7  stopping olet organic lightemitting transistor...   \n",
       "2        13            significance peepal tree indian culture   \n",
       "\n",
       "                                question2_nostopword          ...           \\\n",
       "0  katrina kaif still india already realizes tale...          ...            \n",
       "1   olet organic lightemitting transistors abandoned          ...            \n",
       "2          possible peepal tree releases oxygen time          ...            \n",
       "\n",
       "  CommonLength_nostopword  Shared_nostopword  \\\n",
       "0                       3           0.200000   \n",
       "1                       4           0.333333   \n",
       "2                       2           0.181818   \n",
       "\n",
       "                                       question1_lem  \\\n",
       "0  katrina kaif still surviving industry without ...   \n",
       "1  stopping olet organic lightemitting transistor...   \n",
       "2            significance peepal tree indian culture   \n",
       "\n",
       "                                       question2_lem  lengthPP_Q1 lengthPP_Q2  \\\n",
       "0  katrina kaif still india already realizes tale...            8           7   \n",
       "1   olet organic lightemitting transistors abandoned            7           5   \n",
       "2          possible peepal tree releases oxygen time            5           6   \n",
       "\n",
       "   SharedPP  lenth_diff lengthPP_diff lenth_diff_nostopword  \n",
       "0  0.333333           3             1                     1  \n",
       "1  0.333333           4             2                     2  \n",
       "2  0.363636           2             1                     1  \n",
       "\n",
       "[3 rows x 26 columns]"
      ]
     },
     "execution_count": 111,
     "metadata": {},
     "output_type": "execute_result"
    }
   ],
   "source": [
    "df_train_clean.head(3)"
   ]
  },
  {
   "cell_type": "markdown",
   "metadata": {},
   "source": [
    "## Use Google's word 2 vec Model (currently 30h for similarity computation!...)\n",
    "\n",
    "### switch back to word2vec with the questions corpus\n"
   ]
  },
  {
   "cell_type": "code",
   "execution_count": 112,
   "metadata": {
    "collapsed": false
   },
   "outputs": [],
   "source": [
    "from gensim.models import KeyedVectors\n",
    "\n",
    "GoogleModel = 0\n",
    "\n",
    "if(GoogleModel):\n",
    "    # Load Google's pre-trained Word2Vec model.\n",
    "    model = KeyedVectors.load_word2vec_format('./Data/GoogleNews-vectors-negative300.bin', binary=True)\n",
    "    min_count = 2\n",
    "    size = 300\n",
    "    window = 4"
   ]
  },
  {
   "cell_type": "code",
   "execution_count": 113,
   "metadata": {
    "collapsed": false
   },
   "outputs": [],
   "source": [
    "def build_corpus(data):\n",
    "    \"Creates a list of lists containing words from each sentence\"\n",
    "    corpus = []\n",
    "    for col in ['question1_nostopword', 'question2_nostopword']:\n",
    "        for sentence in data[col].iteritems():\n",
    "            word_list = sentence[1].split(\" \")\n",
    "            corpus.append(word_list)\n",
    "            \n",
    "    return corpus\n"
   ]
  },
  {
   "cell_type": "code",
   "execution_count": 114,
   "metadata": {
    "collapsed": true
   },
   "outputs": [],
   "source": [
    "from gensim.models import Word2Vec\n",
    "\n",
    "if(GoogleModel == 0):\n",
    "    corpus = build_corpus(df_train_clean)\n",
    "    min_count = 2\n",
    "    size = 100\n",
    "    window = 4\n",
    "    model = Word2Vec(corpus, min_count=min_count, size=size, window=window)"
   ]
  },
  {
   "cell_type": "code",
   "execution_count": 115,
   "metadata": {
    "collapsed": false
   },
   "outputs": [
    {
     "data": {
      "text/plain": [
       "0.38970312785645772"
      ]
     },
     "execution_count": 115,
     "metadata": {},
     "output_type": "execute_result"
    }
   ],
   "source": [
    "model.similarity(\"plane\",\"train\")"
   ]
  },
  {
   "cell_type": "markdown",
   "metadata": {},
   "source": [
    "### compute cosine similarity between two questions\n",
    "\n",
    "for each questions, we will compute the vector for each word then we will sum all the vectors and will take the average value as the length of each questions maye be different and will compare the results of one question against the other to determine the cosine similarity"
   ]
  },
  {
   "cell_type": "code",
   "execution_count": 116,
   "metadata": {
    "collapsed": false
   },
   "outputs": [],
   "source": [
    "#This function takes too much time other the full training data (+40 hours)\n",
    "def avg_feature_vector(words, model, num_features, index2word_set):\n",
    "        #function to average all words vectors in a given paragraph\n",
    "        featureVec = np.zeros((num_features,), dtype=\"float32\")\n",
    "        nwords = 0\n",
    "        #print words\n",
    "        #wordList = re.sub(\"[^\\w]\", \" \",  words[1]).split()\n",
    "        wordList = words.split()\n",
    "        #list containing names of words in the vocabulary\n",
    "        for word in wordList:\n",
    "            if word in index2word_set:\n",
    "                nwords = nwords+1\n",
    "                featureVec = np.add(featureVec, model[word])\n",
    "                \n",
    "        if(nwords>0):\n",
    "            featureVec = np.divide(featureVec, nwords)\n",
    "        return featureVec"
   ]
  },
  {
   "cell_type": "code",
   "execution_count": 123,
   "metadata": {
    "collapsed": false
   },
   "outputs": [],
   "source": [
    "from scipy import spatial\n",
    "\n",
    "#Becareful\n",
    "#word2vec uses model.wv.index2word\n",
    "#Keyedvector uses model.index2word\n",
    "\n",
    "def computeCosine(df1,df2):\n",
    "    cosineSimilarity = [None] * len(df1)\n",
    "    \n",
    "    for i in range(len(df1)):\n",
    "        if((i%30000) == 1): print i-1 #show how we are progression\n",
    "        sentence_1_avg_vector = avg_feature_vector(df1[i], model, size, model.wv.index2word)\n",
    "        sentence_2_avg_vector = avg_feature_vector(df2[i], model, size, model.wv.index2word)\n",
    "        cosineSimilarity[i] =  1 - spatial.distance.cosine(sentence_1_avg_vector,sentence_2_avg_vector)\n",
    "    return cosineSimilarity"
   ]
  },
  {
   "cell_type": "code",
   "execution_count": 118,
   "metadata": {
    "collapsed": false
   },
   "outputs": [],
   "source": [
    "#useful to re-initialize while developping\n",
    "df_train_clean[\"cosine\"] = 0\n",
    "df_tosubmit[\"cosine\"] = 0"
   ]
  },
  {
   "cell_type": "code",
   "execution_count": 119,
   "metadata": {
    "collapsed": false
   },
   "outputs": [
    {
     "data": {
      "text/html": [
       "<div>\n",
       "<table border=\"1\" class=\"dataframe\">\n",
       "  <thead>\n",
       "    <tr style=\"text-align: right;\">\n",
       "      <th></th>\n",
       "      <th>id</th>\n",
       "      <th>qid1</th>\n",
       "      <th>qid2</th>\n",
       "      <th>question1</th>\n",
       "      <th>question2</th>\n",
       "      <th>is_duplicate</th>\n",
       "      <th>lengthQ1</th>\n",
       "      <th>lengthQ2</th>\n",
       "      <th>question1_nostopword</th>\n",
       "      <th>question2_nostopword</th>\n",
       "      <th>...</th>\n",
       "      <th>Shared_nostopword</th>\n",
       "      <th>question1_lem</th>\n",
       "      <th>question2_lem</th>\n",
       "      <th>lengthPP_Q1</th>\n",
       "      <th>lengthPP_Q2</th>\n",
       "      <th>SharedPP</th>\n",
       "      <th>lenth_diff</th>\n",
       "      <th>lengthPP_diff</th>\n",
       "      <th>lenth_diff_nostopword</th>\n",
       "      <th>cosine</th>\n",
       "    </tr>\n",
       "  </thead>\n",
       "  <tbody>\n",
       "    <tr>\n",
       "      <th>0</th>\n",
       "      <td>230037</td>\n",
       "      <td>10403</td>\n",
       "      <td>339472</td>\n",
       "      <td>How is Katrina Kaif still surviving in the ind...</td>\n",
       "      <td>Why is Katrina Kaif still in India when she al...</td>\n",
       "      <td>0</td>\n",
       "      <td>12</td>\n",
       "      <td>15</td>\n",
       "      <td>katrina kaif still surviving industry without ...</td>\n",
       "      <td>katrina kaif still india already realizes tale...</td>\n",
       "      <td>...</td>\n",
       "      <td>0.200000</td>\n",
       "      <td>katrina kaif still surviving industry without ...</td>\n",
       "      <td>katrina kaif still india already realizes tale...</td>\n",
       "      <td>8</td>\n",
       "      <td>7</td>\n",
       "      <td>0.333333</td>\n",
       "      <td>3</td>\n",
       "      <td>1</td>\n",
       "      <td>1</td>\n",
       "      <td>0</td>\n",
       "    </tr>\n",
       "    <tr>\n",
       "      <th>1</th>\n",
       "      <td>347840</td>\n",
       "      <td>476336</td>\n",
       "      <td>476337</td>\n",
       "      <td>What is stopping OLET (Organic Light-Emitting ...</td>\n",
       "      <td>Has OLET (Organic Light-Emitting Transistors) ...</td>\n",
       "      <td>1</td>\n",
       "      <td>11</td>\n",
       "      <td>7</td>\n",
       "      <td>stopping olet organic lightemitting transistor...</td>\n",
       "      <td>olet organic lightemitting transistors abandoned</td>\n",
       "      <td>...</td>\n",
       "      <td>0.333333</td>\n",
       "      <td>stopping olet organic lightemitting transistor...</td>\n",
       "      <td>olet organic lightemitting transistors abandoned</td>\n",
       "      <td>7</td>\n",
       "      <td>5</td>\n",
       "      <td>0.333333</td>\n",
       "      <td>4</td>\n",
       "      <td>2</td>\n",
       "      <td>2</td>\n",
       "      <td>0</td>\n",
       "    </tr>\n",
       "    <tr>\n",
       "      <th>2</th>\n",
       "      <td>391501</td>\n",
       "      <td>524083</td>\n",
       "      <td>183040</td>\n",
       "      <td>What is the significance of the Peepal tree in...</td>\n",
       "      <td>How is it possible that the Peepal tree releas...</td>\n",
       "      <td>0</td>\n",
       "      <td>11</td>\n",
       "      <td>13</td>\n",
       "      <td>significance peepal tree indian culture</td>\n",
       "      <td>possible peepal tree releases oxygen time</td>\n",
       "      <td>...</td>\n",
       "      <td>0.181818</td>\n",
       "      <td>significance peepal tree indian culture</td>\n",
       "      <td>possible peepal tree releases oxygen time</td>\n",
       "      <td>5</td>\n",
       "      <td>6</td>\n",
       "      <td>0.363636</td>\n",
       "      <td>2</td>\n",
       "      <td>1</td>\n",
       "      <td>1</td>\n",
       "      <td>0</td>\n",
       "    </tr>\n",
       "  </tbody>\n",
       "</table>\n",
       "<p>3 rows × 27 columns</p>\n",
       "</div>"
      ],
      "text/plain": [
       "       id    qid1    qid2                                          question1  \\\n",
       "0  230037   10403  339472  How is Katrina Kaif still surviving in the ind...   \n",
       "1  347840  476336  476337  What is stopping OLET (Organic Light-Emitting ...   \n",
       "2  391501  524083  183040  What is the significance of the Peepal tree in...   \n",
       "\n",
       "                                           question2  is_duplicate  lengthQ1  \\\n",
       "0  Why is Katrina Kaif still in India when she al...             0        12   \n",
       "1  Has OLET (Organic Light-Emitting Transistors) ...             1        11   \n",
       "2  How is it possible that the Peepal tree releas...             0        11   \n",
       "\n",
       "   lengthQ2                               question1_nostopword  \\\n",
       "0        15  katrina kaif still surviving industry without ...   \n",
       "1         7  stopping olet organic lightemitting transistor...   \n",
       "2        13            significance peepal tree indian culture   \n",
       "\n",
       "                                question2_nostopword  ...   Shared_nostopword  \\\n",
       "0  katrina kaif still india already realizes tale...  ...            0.200000   \n",
       "1   olet organic lightemitting transistors abandoned  ...            0.333333   \n",
       "2          possible peepal tree releases oxygen time  ...            0.181818   \n",
       "\n",
       "                                       question1_lem  \\\n",
       "0  katrina kaif still surviving industry without ...   \n",
       "1  stopping olet organic lightemitting transistor...   \n",
       "2            significance peepal tree indian culture   \n",
       "\n",
       "                                       question2_lem  lengthPP_Q1  \\\n",
       "0  katrina kaif still india already realizes tale...            8   \n",
       "1   olet organic lightemitting transistors abandoned            7   \n",
       "2          possible peepal tree releases oxygen time            5   \n",
       "\n",
       "   lengthPP_Q2  SharedPP  lenth_diff  lengthPP_diff lenth_diff_nostopword  \\\n",
       "0            7  0.333333           3              1                     1   \n",
       "1            5  0.333333           4              2                     2   \n",
       "2            6  0.363636           2              1                     1   \n",
       "\n",
       "  cosine  \n",
       "0      0  \n",
       "1      0  \n",
       "2      0  \n",
       "\n",
       "[3 rows x 27 columns]"
      ]
     },
     "execution_count": 119,
     "metadata": {},
     "output_type": "execute_result"
    }
   ],
   "source": [
    "df_train_clean.head(3)"
   ]
  },
  {
   "cell_type": "code",
   "execution_count": 120,
   "metadata": {
    "collapsed": false
   },
   "outputs": [],
   "source": [
    "#test\n",
    "#a = model.most_similar_cosmul(positive=['difference', 'yield','curve','par'])"
   ]
  },
  {
   "cell_type": "code",
   "execution_count": 121,
   "metadata": {
    "collapsed": false
   },
   "outputs": [],
   "source": [
    "#distance = model.wmdistance(\"difference yield curve par curve\", \"certification prefer itil currently certified\")"
   ]
  },
  {
   "cell_type": "code",
   "execution_count": 122,
   "metadata": {
    "collapsed": false
   },
   "outputs": [
    {
     "name": "stdout",
     "output_type": "stream",
     "text": [
      "0\n"
     ]
    },
    {
     "name": "stderr",
     "output_type": "stream",
     "text": [
      "/home/gilles/anaconda3/envs/py27/lib/python2.7/site-packages/scipy/spatial/distance.py:326: RuntimeWarning: invalid value encountered in true_divide\n",
      "  dist = 1.0 - np.dot(u, v) / (norm(u) * norm(v))\n"
     ]
    },
    {
     "name": "stdout",
     "output_type": "stream",
     "text": [
      "50000\n",
      "100000\n",
      "150000\n",
      "200000\n",
      "250000\n",
      "300000\n",
      "350000\n",
      "400000\n"
     ]
    }
   ],
   "source": [
    "#for i in range(len(df_train_clean)):\n",
    "#df_train_clean[\"cosine\"][:3] = computeCosine(df_train_clean[\"question1_nostopword\"][:3],df_train_clean[\"question2_nostopword\"][:3])\n",
    "df_train_clean[\"cosine\"]= computeCosine(df_train_clean[\"question1_nostopword\"],df_train_clean[\"question2_nostopword\"])"
   ]
  },
  {
   "cell_type": "code",
   "execution_count": 124,
   "metadata": {
    "collapsed": false
   },
   "outputs": [
    {
     "name": "stdout",
     "output_type": "stream",
     "text": [
      "0\n",
      "30000\n",
      "60000\n",
      "90000\n",
      "120000\n",
      "150000\n",
      "180000\n",
      "210000\n",
      "240000\n",
      "270000\n",
      "300000\n",
      "330000\n",
      "360000\n",
      "390000\n",
      "420000\n",
      "450000\n",
      "480000\n",
      "510000\n",
      "540000\n",
      "570000\n",
      "600000\n",
      "630000\n",
      "660000\n",
      "690000\n",
      "720000\n",
      "750000\n",
      "780000\n",
      "810000\n",
      "840000\n",
      "870000\n",
      "900000\n",
      "930000\n",
      "960000\n",
      "990000\n",
      "1020000\n",
      "1050000\n",
      "1080000\n",
      "1110000\n",
      "1140000\n",
      "1170000\n",
      "1200000\n",
      "1230000\n",
      "1260000\n",
      "1290000\n",
      "1320000\n",
      "1350000\n",
      "1380000\n",
      "1410000\n",
      "1440000\n",
      "1470000\n",
      "1500000\n",
      "1530000\n",
      "1560000\n",
      "1590000\n",
      "1620000\n",
      "1650000\n",
      "1680000\n",
      "1710000\n",
      "1740000\n",
      "1770000\n",
      "1800000\n",
      "1830000\n",
      "1860000\n",
      "1890000\n",
      "1920000\n",
      "1950000\n",
      "1980000\n",
      "2010000\n",
      "2040000\n",
      "2070000\n",
      "2100000\n",
      "2130000\n",
      "2160000\n",
      "2190000\n",
      "2220000\n",
      "2250000\n",
      "2280000\n",
      "2310000\n",
      "2340000\n"
     ]
    }
   ],
   "source": [
    "df_tosubmit[\"cosine\"]= computeCosine(df_tosubmit[\"question1_nostopword\"],df_tosubmit[\"question2_nostopword\"])"
   ]
  },
  {
   "cell_type": "code",
   "execution_count": 125,
   "metadata": {
    "collapsed": false
   },
   "outputs": [
    {
     "data": {
      "text/html": [
       "<div>\n",
       "<table border=\"1\" class=\"dataframe\">\n",
       "  <thead>\n",
       "    <tr style=\"text-align: right;\">\n",
       "      <th></th>\n",
       "      <th>id</th>\n",
       "      <th>qid1</th>\n",
       "      <th>qid2</th>\n",
       "      <th>question1</th>\n",
       "      <th>question2</th>\n",
       "      <th>is_duplicate</th>\n",
       "      <th>lengthQ1</th>\n",
       "      <th>lengthQ2</th>\n",
       "      <th>question1_nostopword</th>\n",
       "      <th>question2_nostopword</th>\n",
       "      <th>...</th>\n",
       "      <th>Shared_nostopword</th>\n",
       "      <th>question1_lem</th>\n",
       "      <th>question2_lem</th>\n",
       "      <th>lengthPP_Q1</th>\n",
       "      <th>lengthPP_Q2</th>\n",
       "      <th>SharedPP</th>\n",
       "      <th>lenth_diff</th>\n",
       "      <th>lengthPP_diff</th>\n",
       "      <th>lenth_diff_nostopword</th>\n",
       "      <th>cosine</th>\n",
       "    </tr>\n",
       "  </thead>\n",
       "  <tbody>\n",
       "    <tr>\n",
       "      <th>710</th>\n",
       "      <td>55507</td>\n",
       "      <td>97850</td>\n",
       "      <td>97851</td>\n",
       "      <td>What is clax?</td>\n",
       "      <td>What is #?</td>\n",
       "      <td>0</td>\n",
       "      <td>3</td>\n",
       "      <td>3</td>\n",
       "      <td>clax</td>\n",
       "      <td></td>\n",
       "      <td>...</td>\n",
       "      <td>0.0</td>\n",
       "      <td>clax</td>\n",
       "      <td></td>\n",
       "      <td>1</td>\n",
       "      <td>1</td>\n",
       "      <td>1.0</td>\n",
       "      <td>0</td>\n",
       "      <td>0</td>\n",
       "      <td>0</td>\n",
       "      <td>NaN</td>\n",
       "    </tr>\n",
       "    <tr>\n",
       "      <th>1011</th>\n",
       "      <td>17245</td>\n",
       "      <td>32795</td>\n",
       "      <td>32796</td>\n",
       "      <td>If [math](mn+3)^2=-|m+n+2|[/math], what is [ma...</td>\n",
       "      <td>What are some gentle music?</td>\n",
       "      <td>0</td>\n",
       "      <td>5</td>\n",
       "      <td>5</td>\n",
       "      <td>mathmn32mn2math mathm2n2mn2math</td>\n",
       "      <td>gentle music</td>\n",
       "      <td>...</td>\n",
       "      <td>0.0</td>\n",
       "      <td>mathmn32mn2math mathm2n2mn2math</td>\n",
       "      <td>gentle music</td>\n",
       "      <td>2</td>\n",
       "      <td>2</td>\n",
       "      <td>0.0</td>\n",
       "      <td>0</td>\n",
       "      <td>0</td>\n",
       "      <td>0</td>\n",
       "      <td>NaN</td>\n",
       "    </tr>\n",
       "    <tr>\n",
       "      <th>1376</th>\n",
       "      <td>185028</td>\n",
       "      <td>282557</td>\n",
       "      <td>282558</td>\n",
       "      <td>What is dicyclohexylcarbodiimide?</td>\n",
       "      <td>How do I keep updating my service with Verizon?</td>\n",
       "      <td>0</td>\n",
       "      <td>3</td>\n",
       "      <td>9</td>\n",
       "      <td>dicyclohexylcarbodiimide</td>\n",
       "      <td>keep updating service verizon</td>\n",
       "      <td>...</td>\n",
       "      <td>0.0</td>\n",
       "      <td>dicyclohexylcarbodiimide</td>\n",
       "      <td>keep updating service verizon</td>\n",
       "      <td>1</td>\n",
       "      <td>4</td>\n",
       "      <td>0.0</td>\n",
       "      <td>6</td>\n",
       "      <td>3</td>\n",
       "      <td>3</td>\n",
       "      <td>NaN</td>\n",
       "    </tr>\n",
       "  </tbody>\n",
       "</table>\n",
       "<p>3 rows × 27 columns</p>\n",
       "</div>"
      ],
      "text/plain": [
       "          id    qid1    qid2  \\\n",
       "710    55507   97850   97851   \n",
       "1011   17245   32795   32796   \n",
       "1376  185028  282557  282558   \n",
       "\n",
       "                                              question1  \\\n",
       "710                                       What is clax?   \n",
       "1011  If [math](mn+3)^2=-|m+n+2|[/math], what is [ma...   \n",
       "1376                  What is dicyclohexylcarbodiimide?   \n",
       "\n",
       "                                            question2  is_duplicate  lengthQ1  \\\n",
       "710                                        What is #?             0         3   \n",
       "1011                      What are some gentle music?             0         5   \n",
       "1376  How do I keep updating my service with Verizon?             0         3   \n",
       "\n",
       "      lengthQ2             question1_nostopword  \\\n",
       "710          3                             clax   \n",
       "1011         5  mathmn32mn2math mathm2n2mn2math   \n",
       "1376         9         dicyclohexylcarbodiimide   \n",
       "\n",
       "               question2_nostopword  ...   Shared_nostopword  \\\n",
       "710                                  ...                 0.0   \n",
       "1011                   gentle music  ...                 0.0   \n",
       "1376  keep updating service verizon  ...                 0.0   \n",
       "\n",
       "                        question1_lem                  question2_lem  \\\n",
       "710                              clax                                  \n",
       "1011  mathmn32mn2math mathm2n2mn2math                   gentle music   \n",
       "1376         dicyclohexylcarbodiimide  keep updating service verizon   \n",
       "\n",
       "      lengthPP_Q1  lengthPP_Q2 SharedPP  lenth_diff  lengthPP_diff  \\\n",
       "710             1            1      1.0           0              0   \n",
       "1011            2            2      0.0           0              0   \n",
       "1376            1            4      0.0           6              3   \n",
       "\n",
       "     lenth_diff_nostopword cosine  \n",
       "710                      0    NaN  \n",
       "1011                     0    NaN  \n",
       "1376                     3    NaN  \n",
       "\n",
       "[3 rows x 27 columns]"
      ]
     },
     "execution_count": 125,
     "metadata": {},
     "output_type": "execute_result"
    }
   ],
   "source": [
    "df_train_clean[df_train_clean[\"cosine\"].isnull()].head(3)"
   ]
  },
  {
   "cell_type": "markdown",
   "metadata": {},
   "source": [
    "### check we did not have any aberation for cosinus similarity (strange characters, etc...)"
   ]
  },
  {
   "cell_type": "code",
   "execution_count": 131,
   "metadata": {
    "collapsed": true
   },
   "outputs": [],
   "source": [
    "df_train_clean[\"cosine\"].fillna(0, inplace=True)"
   ]
  },
  {
   "cell_type": "code",
   "execution_count": 132,
   "metadata": {
    "collapsed": false
   },
   "outputs": [],
   "source": [
    "df_tosubmit[\"cosine\"].fillna(0, inplace=True)"
   ]
  },
  {
   "cell_type": "code",
   "execution_count": 133,
   "metadata": {
    "collapsed": false
   },
   "outputs": [
    {
     "data": {
      "text/plain": [
       "0"
      ]
     },
     "execution_count": 133,
     "metadata": {},
     "output_type": "execute_result"
    }
   ],
   "source": [
    "df_tosubmit[\"cosine\"].isnull().sum()"
   ]
  },
  {
   "cell_type": "code",
   "execution_count": 134,
   "metadata": {
    "collapsed": false
   },
   "outputs": [
    {
     "data": {
      "text/html": [
       "<div>\n",
       "<table border=\"1\" class=\"dataframe\">\n",
       "  <thead>\n",
       "    <tr style=\"text-align: right;\">\n",
       "      <th></th>\n",
       "      <th>id</th>\n",
       "      <th>qid1</th>\n",
       "      <th>qid2</th>\n",
       "      <th>question1</th>\n",
       "      <th>question2</th>\n",
       "      <th>is_duplicate</th>\n",
       "      <th>lengthQ1</th>\n",
       "      <th>lengthQ2</th>\n",
       "      <th>question1_nostopword</th>\n",
       "      <th>question2_nostopword</th>\n",
       "      <th>...</th>\n",
       "      <th>Shared_nostopword</th>\n",
       "      <th>question1_lem</th>\n",
       "      <th>question2_lem</th>\n",
       "      <th>lengthPP_Q1</th>\n",
       "      <th>lengthPP_Q2</th>\n",
       "      <th>SharedPP</th>\n",
       "      <th>lenth_diff</th>\n",
       "      <th>lengthPP_diff</th>\n",
       "      <th>lenth_diff_nostopword</th>\n",
       "      <th>cosine</th>\n",
       "    </tr>\n",
       "  </thead>\n",
       "  <tbody>\n",
       "    <tr>\n",
       "      <th>0</th>\n",
       "      <td>230037</td>\n",
       "      <td>10403</td>\n",
       "      <td>339472</td>\n",
       "      <td>How is Katrina Kaif still surviving in the ind...</td>\n",
       "      <td>Why is Katrina Kaif still in India when she al...</td>\n",
       "      <td>0</td>\n",
       "      <td>12</td>\n",
       "      <td>15</td>\n",
       "      <td>katrina kaif still surviving industry without ...</td>\n",
       "      <td>katrina kaif still india already realizes tale...</td>\n",
       "      <td>...</td>\n",
       "      <td>0.200000</td>\n",
       "      <td>katrina kaif still surviving industry without ...</td>\n",
       "      <td>katrina kaif still india already realizes tale...</td>\n",
       "      <td>8</td>\n",
       "      <td>7</td>\n",
       "      <td>0.333333</td>\n",
       "      <td>3</td>\n",
       "      <td>1</td>\n",
       "      <td>1</td>\n",
       "      <td>0.598396</td>\n",
       "    </tr>\n",
       "    <tr>\n",
       "      <th>1</th>\n",
       "      <td>347840</td>\n",
       "      <td>476336</td>\n",
       "      <td>476337</td>\n",
       "      <td>What is stopping OLET (Organic Light-Emitting ...</td>\n",
       "      <td>Has OLET (Organic Light-Emitting Transistors) ...</td>\n",
       "      <td>1</td>\n",
       "      <td>11</td>\n",
       "      <td>7</td>\n",
       "      <td>stopping olet organic lightemitting transistor...</td>\n",
       "      <td>olet organic lightemitting transistors abandoned</td>\n",
       "      <td>...</td>\n",
       "      <td>0.333333</td>\n",
       "      <td>stopping olet organic lightemitting transistor...</td>\n",
       "      <td>olet organic lightemitting transistors abandoned</td>\n",
       "      <td>7</td>\n",
       "      <td>5</td>\n",
       "      <td>0.333333</td>\n",
       "      <td>4</td>\n",
       "      <td>2</td>\n",
       "      <td>2</td>\n",
       "      <td>0.912492</td>\n",
       "    </tr>\n",
       "    <tr>\n",
       "      <th>2</th>\n",
       "      <td>391501</td>\n",
       "      <td>524083</td>\n",
       "      <td>183040</td>\n",
       "      <td>What is the significance of the Peepal tree in...</td>\n",
       "      <td>How is it possible that the Peepal tree releas...</td>\n",
       "      <td>0</td>\n",
       "      <td>11</td>\n",
       "      <td>13</td>\n",
       "      <td>significance peepal tree indian culture</td>\n",
       "      <td>possible peepal tree releases oxygen time</td>\n",
       "      <td>...</td>\n",
       "      <td>0.181818</td>\n",
       "      <td>significance peepal tree indian culture</td>\n",
       "      <td>possible peepal tree releases oxygen time</td>\n",
       "      <td>5</td>\n",
       "      <td>6</td>\n",
       "      <td>0.363636</td>\n",
       "      <td>2</td>\n",
       "      <td>1</td>\n",
       "      <td>1</td>\n",
       "      <td>0.070620</td>\n",
       "    </tr>\n",
       "  </tbody>\n",
       "</table>\n",
       "<p>3 rows × 27 columns</p>\n",
       "</div>"
      ],
      "text/plain": [
       "       id    qid1    qid2                                          question1  \\\n",
       "0  230037   10403  339472  How is Katrina Kaif still surviving in the ind...   \n",
       "1  347840  476336  476337  What is stopping OLET (Organic Light-Emitting ...   \n",
       "2  391501  524083  183040  What is the significance of the Peepal tree in...   \n",
       "\n",
       "                                           question2  is_duplicate  lengthQ1  \\\n",
       "0  Why is Katrina Kaif still in India when she al...             0        12   \n",
       "1  Has OLET (Organic Light-Emitting Transistors) ...             1        11   \n",
       "2  How is it possible that the Peepal tree releas...             0        11   \n",
       "\n",
       "   lengthQ2                               question1_nostopword  \\\n",
       "0        15  katrina kaif still surviving industry without ...   \n",
       "1         7  stopping olet organic lightemitting transistor...   \n",
       "2        13            significance peepal tree indian culture   \n",
       "\n",
       "                                question2_nostopword    ...     \\\n",
       "0  katrina kaif still india already realizes tale...    ...      \n",
       "1   olet organic lightemitting transistors abandoned    ...      \n",
       "2          possible peepal tree releases oxygen time    ...      \n",
       "\n",
       "  Shared_nostopword                                      question1_lem  \\\n",
       "0          0.200000  katrina kaif still surviving industry without ...   \n",
       "1          0.333333  stopping olet organic lightemitting transistor...   \n",
       "2          0.181818            significance peepal tree indian culture   \n",
       "\n",
       "                                       question2_lem  lengthPP_Q1  \\\n",
       "0  katrina kaif still india already realizes tale...            8   \n",
       "1   olet organic lightemitting transistors abandoned            7   \n",
       "2          possible peepal tree releases oxygen time            5   \n",
       "\n",
       "   lengthPP_Q2  SharedPP  lenth_diff  lengthPP_diff lenth_diff_nostopword  \\\n",
       "0            7  0.333333           3              1                     1   \n",
       "1            5  0.333333           4              2                     2   \n",
       "2            6  0.363636           2              1                     1   \n",
       "\n",
       "     cosine  \n",
       "0  0.598396  \n",
       "1  0.912492  \n",
       "2  0.070620  \n",
       "\n",
       "[3 rows x 27 columns]"
      ]
     },
     "execution_count": 134,
     "metadata": {},
     "output_type": "execute_result"
    }
   ],
   "source": [
    "df_train_clean.head(3)"
   ]
  },
  {
   "cell_type": "code",
   "execution_count": 135,
   "metadata": {
    "collapsed": false
   },
   "outputs": [
    {
     "name": "stdout",
     "output_type": "stream",
     "text": [
      "404288\n",
      "2345796\n"
     ]
    }
   ],
   "source": [
    "print len(df_train_clean)\n",
    "print len(df_tosubmit)"
   ]
  },
  {
   "cell_type": "markdown",
   "metadata": {},
   "source": [
    "### check use of TF-IDF\n",
    "\n",
    "time allowing probably with not have too much used due too much sparsity"
   ]
  },
  {
   "cell_type": "code",
   "execution_count": 70,
   "metadata": {
    "collapsed": false
   },
   "outputs": [],
   "source": [
    "#Needs to check in conjunction with word2vec\n",
    "#tfidf = models.TfidfModel(corpus)"
   ]
  },
  {
   "cell_type": "markdown",
   "metadata": {
    "collapsed": true
   },
   "source": [
    "# Apply Model"
   ]
  },
  {
   "cell_type": "markdown",
   "metadata": {},
   "source": [
    "### Scale the data"
   ]
  },
  {
   "cell_type": "code",
   "execution_count": 136,
   "metadata": {
    "collapsed": false
   },
   "outputs": [
    {
     "data": {
      "text/plain": [
       "Index([u'id', u'qid1', u'qid2', u'question1', u'question2', u'is_duplicate',\n",
       "       u'lengthQ1', u'lengthQ2', u'question1_nostopword',\n",
       "       u'question2_nostopword', u'Common', u'CommonLength', u'Shared',\n",
       "       u'lengthQ1_nostopword', u'lengthQ2_nostopword', u'Common_nostopword',\n",
       "       u'CommonLength_nostopword', u'Shared_nostopword', u'question1_lem',\n",
       "       u'question2_lem', u'lengthPP_Q1', u'lengthPP_Q2', u'SharedPP',\n",
       "       u'lenth_diff', u'lengthPP_diff', u'lenth_diff_nostopword', u'cosine'],\n",
       "      dtype='object')"
      ]
     },
     "execution_count": 136,
     "metadata": {},
     "output_type": "execute_result"
    }
   ],
   "source": [
    "df_train_clean.columns"
   ]
  },
  {
   "cell_type": "code",
   "execution_count": 137,
   "metadata": {
    "collapsed": false
   },
   "outputs": [
    {
     "data": {
      "text/plain": [
       "Index([u'test_id', u'question1', u'question2', u'lengthQ1', u'lengthQ2',\n",
       "       u'question1_nostopword', u'question2_nostopword', u'Common',\n",
       "       u'CommonLength', u'Shared', u'lengthQ1_nostopword',\n",
       "       u'lengthQ2_nostopword', u'Common_nostopword',\n",
       "       u'CommonLength_nostopword', u'Shared_nostopword', u'question1_lem',\n",
       "       u'question2_lem', u'lengthPP_Q1', u'lengthPP_Q2', u'SharedPP',\n",
       "       u'lenth_diff', u'lengthPP_diff', u'lenth_diff_nostopword', u'cosine'],\n",
       "      dtype='object')"
      ]
     },
     "execution_count": 137,
     "metadata": {},
     "output_type": "execute_result"
    }
   ],
   "source": [
    "df_tosubmit.columns"
   ]
  },
  {
   "cell_type": "code",
   "execution_count": 195,
   "metadata": {
    "collapsed": false
   },
   "outputs": [],
   "source": [
    "from sklearn.preprocessing import MinMaxScaler\n",
    "scaler = MinMaxScaler()\n",
    "\n",
    "\n",
    "list_of_Numeric_fields= ['CommonLength', \n",
    "                         'CommonLength_nostopword',\n",
    "                         'lengthPP_Q1', \n",
    "                         'lengthPP_Q2', \n",
    "                         'lenth_diff', \n",
    "                         'lengthPP_diff', \n",
    "                         'lenth_diff_nostopword', \n",
    "                         'Shared',\n",
    "                         'SharedPP',\n",
    "                         'Shared_nostopword',\n",
    "                         'cosine']\n",
    "\n",
    "list_of_Numeric_fields_save= ['lengthQ1', 'lengthQ2',\n",
    "                         'CommonLength','Shared', \n",
    "                         'cosine', 'lengthPP_Q1', \n",
    "                         'lengthPP_Q2','SharedPP',\n",
    "                         'lenth_diff','lengthPP_diff']\n",
    "\n"
   ]
  },
  {
   "cell_type": "code",
   "execution_count": 196,
   "metadata": {
    "collapsed": false
   },
   "outputs": [
    {
     "data": {
      "text/html": [
       "<div>\n",
       "<table border=\"1\" class=\"dataframe\">\n",
       "  <thead>\n",
       "    <tr style=\"text-align: right;\">\n",
       "      <th></th>\n",
       "      <th>CommonLength</th>\n",
       "      <th>CommonLength_nostopword</th>\n",
       "      <th>lengthPP_Q1</th>\n",
       "      <th>lengthPP_Q2</th>\n",
       "      <th>lenth_diff</th>\n",
       "      <th>lengthPP_diff</th>\n",
       "      <th>lenth_diff_nostopword</th>\n",
       "      <th>Shared</th>\n",
       "      <th>SharedPP</th>\n",
       "      <th>Shared_nostopword</th>\n",
       "      <th>cosine</th>\n",
       "    </tr>\n",
       "  </thead>\n",
       "  <tbody>\n",
       "    <tr>\n",
       "      <th>0</th>\n",
       "      <td>5</td>\n",
       "      <td>3</td>\n",
       "      <td>8</td>\n",
       "      <td>7</td>\n",
       "      <td>3</td>\n",
       "      <td>1</td>\n",
       "      <td>1</td>\n",
       "      <td>0.185185</td>\n",
       "      <td>0.333333</td>\n",
       "      <td>0.200000</td>\n",
       "      <td>0.598396</td>\n",
       "    </tr>\n",
       "    <tr>\n",
       "      <th>1</th>\n",
       "      <td>4</td>\n",
       "      <td>4</td>\n",
       "      <td>7</td>\n",
       "      <td>5</td>\n",
       "      <td>4</td>\n",
       "      <td>2</td>\n",
       "      <td>2</td>\n",
       "      <td>0.222222</td>\n",
       "      <td>0.333333</td>\n",
       "      <td>0.333333</td>\n",
       "      <td>0.912492</td>\n",
       "    </tr>\n",
       "    <tr>\n",
       "      <th>2</th>\n",
       "      <td>4</td>\n",
       "      <td>2</td>\n",
       "      <td>5</td>\n",
       "      <td>6</td>\n",
       "      <td>2</td>\n",
       "      <td>1</td>\n",
       "      <td>1</td>\n",
       "      <td>0.166667</td>\n",
       "      <td>0.363636</td>\n",
       "      <td>0.181818</td>\n",
       "      <td>0.070620</td>\n",
       "    </tr>\n",
       "    <tr>\n",
       "      <th>3</th>\n",
       "      <td>1</td>\n",
       "      <td>0</td>\n",
       "      <td>7</td>\n",
       "      <td>6</td>\n",
       "      <td>4</td>\n",
       "      <td>1</td>\n",
       "      <td>1</td>\n",
       "      <td>0.035714</td>\n",
       "      <td>0.076923</td>\n",
       "      <td>0.000000</td>\n",
       "      <td>0.513880</td>\n",
       "    </tr>\n",
       "    <tr>\n",
       "      <th>4</th>\n",
       "      <td>3</td>\n",
       "      <td>3</td>\n",
       "      <td>8</td>\n",
       "      <td>5</td>\n",
       "      <td>9</td>\n",
       "      <td>3</td>\n",
       "      <td>3</td>\n",
       "      <td>0.130435</td>\n",
       "      <td>0.230769</td>\n",
       "      <td>0.230769</td>\n",
       "      <td>0.758771</td>\n",
       "    </tr>\n",
       "  </tbody>\n",
       "</table>\n",
       "</div>"
      ],
      "text/plain": [
       "   CommonLength  CommonLength_nostopword  lengthPP_Q1  lengthPP_Q2  \\\n",
       "0             5                        3            8            7   \n",
       "1             4                        4            7            5   \n",
       "2             4                        2            5            6   \n",
       "3             1                        0            7            6   \n",
       "4             3                        3            8            5   \n",
       "\n",
       "   lenth_diff  lengthPP_diff  lenth_diff_nostopword    Shared  SharedPP  \\\n",
       "0           3              1                      1  0.185185  0.333333   \n",
       "1           4              2                      2  0.222222  0.333333   \n",
       "2           2              1                      1  0.166667  0.363636   \n",
       "3           4              1                      1  0.035714  0.076923   \n",
       "4           9              3                      3  0.130435  0.230769   \n",
       "\n",
       "   Shared_nostopword    cosine  \n",
       "0           0.200000  0.598396  \n",
       "1           0.333333  0.912492  \n",
       "2           0.181818  0.070620  \n",
       "3           0.000000  0.513880  \n",
       "4           0.230769  0.758771  "
      ]
     },
     "execution_count": 196,
     "metadata": {},
     "output_type": "execute_result"
    }
   ],
   "source": [
    "df_train_clean[list_of_Numeric_fields].head()"
   ]
  },
  {
   "cell_type": "code",
   "execution_count": 197,
   "metadata": {
    "collapsed": true
   },
   "outputs": [],
   "source": [
    "df_test = df_train_clean.copy()\n",
    "dt_submit = df_tosubmit.copy()"
   ]
  },
  {
   "cell_type": "code",
   "execution_count": 198,
   "metadata": {
    "collapsed": false
   },
   "outputs": [
    {
     "data": {
      "text/html": [
       "<div>\n",
       "<table border=\"1\" class=\"dataframe\">\n",
       "  <thead>\n",
       "    <tr style=\"text-align: right;\">\n",
       "      <th></th>\n",
       "      <th>CommonLength</th>\n",
       "      <th>CommonLength_nostopword</th>\n",
       "      <th>lengthPP_Q1</th>\n",
       "      <th>lengthPP_Q2</th>\n",
       "      <th>lenth_diff</th>\n",
       "      <th>lengthPP_diff</th>\n",
       "      <th>lenth_diff_nostopword</th>\n",
       "      <th>Shared</th>\n",
       "      <th>SharedPP</th>\n",
       "      <th>Shared_nostopword</th>\n",
       "      <th>cosine</th>\n",
       "    </tr>\n",
       "  </thead>\n",
       "  <tbody>\n",
       "    <tr>\n",
       "      <th>0</th>\n",
       "      <td>5</td>\n",
       "      <td>3</td>\n",
       "      <td>8</td>\n",
       "      <td>7</td>\n",
       "      <td>3</td>\n",
       "      <td>1</td>\n",
       "      <td>1</td>\n",
       "      <td>0.185185</td>\n",
       "      <td>0.333333</td>\n",
       "      <td>0.200000</td>\n",
       "      <td>0.598396</td>\n",
       "    </tr>\n",
       "    <tr>\n",
       "      <th>1</th>\n",
       "      <td>4</td>\n",
       "      <td>4</td>\n",
       "      <td>7</td>\n",
       "      <td>5</td>\n",
       "      <td>4</td>\n",
       "      <td>2</td>\n",
       "      <td>2</td>\n",
       "      <td>0.222222</td>\n",
       "      <td>0.333333</td>\n",
       "      <td>0.333333</td>\n",
       "      <td>0.912492</td>\n",
       "    </tr>\n",
       "    <tr>\n",
       "      <th>2</th>\n",
       "      <td>4</td>\n",
       "      <td>2</td>\n",
       "      <td>5</td>\n",
       "      <td>6</td>\n",
       "      <td>2</td>\n",
       "      <td>1</td>\n",
       "      <td>1</td>\n",
       "      <td>0.166667</td>\n",
       "      <td>0.363636</td>\n",
       "      <td>0.181818</td>\n",
       "      <td>0.070620</td>\n",
       "    </tr>\n",
       "    <tr>\n",
       "      <th>3</th>\n",
       "      <td>1</td>\n",
       "      <td>0</td>\n",
       "      <td>7</td>\n",
       "      <td>6</td>\n",
       "      <td>4</td>\n",
       "      <td>1</td>\n",
       "      <td>1</td>\n",
       "      <td>0.035714</td>\n",
       "      <td>0.076923</td>\n",
       "      <td>0.000000</td>\n",
       "      <td>0.513880</td>\n",
       "    </tr>\n",
       "    <tr>\n",
       "      <th>4</th>\n",
       "      <td>3</td>\n",
       "      <td>3</td>\n",
       "      <td>8</td>\n",
       "      <td>5</td>\n",
       "      <td>9</td>\n",
       "      <td>3</td>\n",
       "      <td>3</td>\n",
       "      <td>0.130435</td>\n",
       "      <td>0.230769</td>\n",
       "      <td>0.230769</td>\n",
       "      <td>0.758771</td>\n",
       "    </tr>\n",
       "  </tbody>\n",
       "</table>\n",
       "</div>"
      ],
      "text/plain": [
       "   CommonLength  CommonLength_nostopword  lengthPP_Q1  lengthPP_Q2  \\\n",
       "0             5                        3            8            7   \n",
       "1             4                        4            7            5   \n",
       "2             4                        2            5            6   \n",
       "3             1                        0            7            6   \n",
       "4             3                        3            8            5   \n",
       "\n",
       "   lenth_diff  lengthPP_diff  lenth_diff_nostopword    Shared  SharedPP  \\\n",
       "0           3              1                      1  0.185185  0.333333   \n",
       "1           4              2                      2  0.222222  0.333333   \n",
       "2           2              1                      1  0.166667  0.363636   \n",
       "3           4              1                      1  0.035714  0.076923   \n",
       "4           9              3                      3  0.130435  0.230769   \n",
       "\n",
       "   Shared_nostopword    cosine  \n",
       "0           0.200000  0.598396  \n",
       "1           0.333333  0.912492  \n",
       "2           0.181818  0.070620  \n",
       "3           0.000000  0.513880  \n",
       "4           0.230769  0.758771  "
      ]
     },
     "execution_count": 198,
     "metadata": {},
     "output_type": "execute_result"
    }
   ],
   "source": [
    "df_train_clean[list_of_Numeric_fields].head()"
   ]
  },
  {
   "cell_type": "code",
   "execution_count": 199,
   "metadata": {
    "collapsed": false
   },
   "outputs": [],
   "source": [
    "def scaler(column):\n",
    "    scaled_x = [0.0] * len(column)\n",
    "    \n",
    "    minimum = column.min()\n",
    "    maximum = column.max()\n",
    "        \n",
    "    difference = maximum - minimum\n",
    "    \n",
    "    for i in range(len(column)):\n",
    "        scaled_x[i] = (column[i] - minimum) / float(difference)   \n",
    "    return scaled_x"
   ]
  },
  {
   "cell_type": "code",
   "execution_count": 200,
   "metadata": {
    "collapsed": false
   },
   "outputs": [],
   "source": [
    "for i in list_of_Numeric_fields:\n",
    "        df_test[i] = scaler(df_test[i])\n",
    "        dt_submit[i]= scaler(dt_submit[i])"
   ]
  },
  {
   "cell_type": "code",
   "execution_count": 201,
   "metadata": {
    "collapsed": false
   },
   "outputs": [
    {
     "data": {
      "text/html": [
       "<div>\n",
       "<table border=\"1\" class=\"dataframe\">\n",
       "  <thead>\n",
       "    <tr style=\"text-align: right;\">\n",
       "      <th></th>\n",
       "      <th>CommonLength</th>\n",
       "      <th>CommonLength_nostopword</th>\n",
       "      <th>lengthPP_Q1</th>\n",
       "      <th>lengthPP_Q2</th>\n",
       "      <th>lenth_diff</th>\n",
       "      <th>lengthPP_diff</th>\n",
       "      <th>lenth_diff_nostopword</th>\n",
       "      <th>Shared</th>\n",
       "      <th>SharedPP</th>\n",
       "      <th>Shared_nostopword</th>\n",
       "      <th>cosine</th>\n",
       "    </tr>\n",
       "  </thead>\n",
       "  <tbody>\n",
       "    <tr>\n",
       "      <th>0</th>\n",
       "      <td>0.119048</td>\n",
       "      <td>0.125000</td>\n",
       "      <td>0.132075</td>\n",
       "      <td>0.056604</td>\n",
       "      <td>0.013453</td>\n",
       "      <td>0.009901</td>\n",
       "      <td>0.009901</td>\n",
       "      <td>0.370370</td>\n",
       "      <td>0.083333</td>\n",
       "      <td>0.400000</td>\n",
       "      <td>0.709992</td>\n",
       "    </tr>\n",
       "    <tr>\n",
       "      <th>1</th>\n",
       "      <td>0.095238</td>\n",
       "      <td>0.166667</td>\n",
       "      <td>0.113208</td>\n",
       "      <td>0.037736</td>\n",
       "      <td>0.017937</td>\n",
       "      <td>0.019802</td>\n",
       "      <td>0.019802</td>\n",
       "      <td>0.444444</td>\n",
       "      <td>0.083333</td>\n",
       "      <td>0.666667</td>\n",
       "      <td>0.936808</td>\n",
       "    </tr>\n",
       "    <tr>\n",
       "      <th>2</th>\n",
       "      <td>0.095238</td>\n",
       "      <td>0.083333</td>\n",
       "      <td>0.075472</td>\n",
       "      <td>0.047170</td>\n",
       "      <td>0.008969</td>\n",
       "      <td>0.009901</td>\n",
       "      <td>0.009901</td>\n",
       "      <td>0.333333</td>\n",
       "      <td>0.090909</td>\n",
       "      <td>0.363636</td>\n",
       "      <td>0.328871</td>\n",
       "    </tr>\n",
       "    <tr>\n",
       "      <th>3</th>\n",
       "      <td>0.023810</td>\n",
       "      <td>0.000000</td>\n",
       "      <td>0.113208</td>\n",
       "      <td>0.047170</td>\n",
       "      <td>0.017937</td>\n",
       "      <td>0.009901</td>\n",
       "      <td>0.009901</td>\n",
       "      <td>0.071429</td>\n",
       "      <td>0.019231</td>\n",
       "      <td>0.000000</td>\n",
       "      <td>0.648960</td>\n",
       "    </tr>\n",
       "    <tr>\n",
       "      <th>4</th>\n",
       "      <td>0.071429</td>\n",
       "      <td>0.125000</td>\n",
       "      <td>0.132075</td>\n",
       "      <td>0.037736</td>\n",
       "      <td>0.040359</td>\n",
       "      <td>0.029703</td>\n",
       "      <td>0.029703</td>\n",
       "      <td>0.260870</td>\n",
       "      <td>0.057692</td>\n",
       "      <td>0.461538</td>\n",
       "      <td>0.825802</td>\n",
       "    </tr>\n",
       "  </tbody>\n",
       "</table>\n",
       "</div>"
      ],
      "text/plain": [
       "   CommonLength  CommonLength_nostopword  lengthPP_Q1  lengthPP_Q2  \\\n",
       "0      0.119048                 0.125000     0.132075     0.056604   \n",
       "1      0.095238                 0.166667     0.113208     0.037736   \n",
       "2      0.095238                 0.083333     0.075472     0.047170   \n",
       "3      0.023810                 0.000000     0.113208     0.047170   \n",
       "4      0.071429                 0.125000     0.132075     0.037736   \n",
       "\n",
       "   lenth_diff  lengthPP_diff  lenth_diff_nostopword    Shared  SharedPP  \\\n",
       "0    0.013453       0.009901               0.009901  0.370370  0.083333   \n",
       "1    0.017937       0.019802               0.019802  0.444444  0.083333   \n",
       "2    0.008969       0.009901               0.009901  0.333333  0.090909   \n",
       "3    0.017937       0.009901               0.009901  0.071429  0.019231   \n",
       "4    0.040359       0.029703               0.029703  0.260870  0.057692   \n",
       "\n",
       "   Shared_nostopword    cosine  \n",
       "0           0.400000  0.709992  \n",
       "1           0.666667  0.936808  \n",
       "2           0.363636  0.328871  \n",
       "3           0.000000  0.648960  \n",
       "4           0.461538  0.825802  "
      ]
     },
     "execution_count": 201,
     "metadata": {},
     "output_type": "execute_result"
    }
   ],
   "source": [
    "df_test[list_of_Numeric_fields].head()"
   ]
  },
  {
   "cell_type": "code",
   "execution_count": 202,
   "metadata": {
    "collapsed": false
   },
   "outputs": [
    {
     "data": {
      "text/html": [
       "<div>\n",
       "<table border=\"1\" class=\"dataframe\">\n",
       "  <thead>\n",
       "    <tr style=\"text-align: right;\">\n",
       "      <th></th>\n",
       "      <th>CommonLength</th>\n",
       "      <th>CommonLength_nostopword</th>\n",
       "      <th>lengthPP_Q1</th>\n",
       "      <th>lengthPP_Q2</th>\n",
       "      <th>lenth_diff</th>\n",
       "      <th>lengthPP_diff</th>\n",
       "      <th>lenth_diff_nostopword</th>\n",
       "      <th>Shared</th>\n",
       "      <th>SharedPP</th>\n",
       "      <th>Shared_nostopword</th>\n",
       "      <th>cosine</th>\n",
       "    </tr>\n",
       "  </thead>\n",
       "  <tbody>\n",
       "    <tr>\n",
       "      <th>0</th>\n",
       "      <td>0.045455</td>\n",
       "      <td>0.111111</td>\n",
       "      <td>0.047170</td>\n",
       "      <td>0.084112</td>\n",
       "      <td>0.013636</td>\n",
       "      <td>0.039604</td>\n",
       "      <td>0.039604</td>\n",
       "      <td>0.160000</td>\n",
       "      <td>0.035714</td>\n",
       "      <td>0.375000</td>\n",
       "      <td>0.827131</td>\n",
       "    </tr>\n",
       "    <tr>\n",
       "      <th>1</th>\n",
       "      <td>0.090909</td>\n",
       "      <td>0.148148</td>\n",
       "      <td>0.056604</td>\n",
       "      <td>0.037383</td>\n",
       "      <td>0.031818</td>\n",
       "      <td>0.019802</td>\n",
       "      <td>0.019802</td>\n",
       "      <td>0.380952</td>\n",
       "      <td>0.095238</td>\n",
       "      <td>0.666667</td>\n",
       "      <td>0.882305</td>\n",
       "    </tr>\n",
       "    <tr>\n",
       "      <th>2</th>\n",
       "      <td>0.090909</td>\n",
       "      <td>0.111111</td>\n",
       "      <td>0.047170</td>\n",
       "      <td>0.018692</td>\n",
       "      <td>0.036364</td>\n",
       "      <td>0.029703</td>\n",
       "      <td>0.029703</td>\n",
       "      <td>0.400000</td>\n",
       "      <td>0.126984</td>\n",
       "      <td>0.666667</td>\n",
       "      <td>0.893680</td>\n",
       "    </tr>\n",
       "    <tr>\n",
       "      <th>3</th>\n",
       "      <td>0.000000</td>\n",
       "      <td>0.000000</td>\n",
       "      <td>0.009434</td>\n",
       "      <td>0.009346</td>\n",
       "      <td>0.004545</td>\n",
       "      <td>0.000000</td>\n",
       "      <td>0.000000</td>\n",
       "      <td>0.000000</td>\n",
       "      <td>0.000000</td>\n",
       "      <td>0.000000</td>\n",
       "      <td>0.783066</td>\n",
       "    </tr>\n",
       "    <tr>\n",
       "      <th>4</th>\n",
       "      <td>0.068182</td>\n",
       "      <td>0.074074</td>\n",
       "      <td>0.018868</td>\n",
       "      <td>0.009346</td>\n",
       "      <td>0.009091</td>\n",
       "      <td>0.009901</td>\n",
       "      <td>0.009901</td>\n",
       "      <td>0.600000</td>\n",
       "      <td>0.171429</td>\n",
       "      <td>0.800000</td>\n",
       "      <td>1.000000</td>\n",
       "    </tr>\n",
       "  </tbody>\n",
       "</table>\n",
       "</div>"
      ],
      "text/plain": [
       "   CommonLength  CommonLength_nostopword  lengthPP_Q1  lengthPP_Q2  \\\n",
       "0      0.045455                 0.111111     0.047170     0.084112   \n",
       "1      0.090909                 0.148148     0.056604     0.037383   \n",
       "2      0.090909                 0.111111     0.047170     0.018692   \n",
       "3      0.000000                 0.000000     0.009434     0.009346   \n",
       "4      0.068182                 0.074074     0.018868     0.009346   \n",
       "\n",
       "   lenth_diff  lengthPP_diff  lenth_diff_nostopword    Shared  SharedPP  \\\n",
       "0    0.013636       0.039604               0.039604  0.160000  0.035714   \n",
       "1    0.031818       0.019802               0.019802  0.380952  0.095238   \n",
       "2    0.036364       0.029703               0.029703  0.400000  0.126984   \n",
       "3    0.004545       0.000000               0.000000  0.000000  0.000000   \n",
       "4    0.009091       0.009901               0.009901  0.600000  0.171429   \n",
       "\n",
       "   Shared_nostopword    cosine  \n",
       "0           0.375000  0.827131  \n",
       "1           0.666667  0.882305  \n",
       "2           0.666667  0.893680  \n",
       "3           0.000000  0.783066  \n",
       "4           0.800000  1.000000  "
      ]
     },
     "execution_count": 202,
     "metadata": {},
     "output_type": "execute_result"
    }
   ],
   "source": [
    "dt_submit[list_of_Numeric_fields].head()"
   ]
  },
  {
   "cell_type": "code",
   "execution_count": 203,
   "metadata": {
    "collapsed": false
   },
   "outputs": [],
   "source": [
    "#scale only the numerical features of our dataset\n",
    "#to retry\n",
    "#scaler.fit_transform(df_train_clean[list_of_Numeric_fields])"
   ]
  },
  {
   "cell_type": "markdown",
   "metadata": {},
   "source": [
    "### Prepare the entry data"
   ]
  },
  {
   "cell_type": "code",
   "execution_count": 204,
   "metadata": {
    "collapsed": false
   },
   "outputs": [],
   "source": [
    "Y = df_test.is_duplicate"
   ]
  },
  {
   "cell_type": "code",
   "execution_count": 250,
   "metadata": {
    "collapsed": false
   },
   "outputs": [],
   "source": [
    "from sklearn.cross_validation import train_test_split\n",
    "\n",
    "#vary test size, for submission, train on full sample\n",
    "TEST_SIZE = 0.20\n",
    "\n",
    "#separate our data between training and test data\n",
    "X_train, X_test, y_train, y_test = train_test_split(df_test[list_of_Numeric_fields], Y, test_size = TEST_SIZE)"
   ]
  },
  {
   "cell_type": "code",
   "execution_count": 206,
   "metadata": {
    "collapsed": false
   },
   "outputs": [
    {
     "data": {
      "text/html": [
       "<div>\n",
       "<table border=\"1\" class=\"dataframe\">\n",
       "  <thead>\n",
       "    <tr style=\"text-align: right;\">\n",
       "      <th></th>\n",
       "      <th>CommonLength</th>\n",
       "      <th>CommonLength_nostopword</th>\n",
       "      <th>lengthPP_Q1</th>\n",
       "      <th>lengthPP_Q2</th>\n",
       "      <th>lenth_diff</th>\n",
       "      <th>lengthPP_diff</th>\n",
       "      <th>lenth_diff_nostopword</th>\n",
       "      <th>Shared</th>\n",
       "      <th>SharedPP</th>\n",
       "      <th>Shared_nostopword</th>\n",
       "      <th>cosine</th>\n",
       "    </tr>\n",
       "  </thead>\n",
       "  <tbody>\n",
       "    <tr>\n",
       "      <th>231027</th>\n",
       "      <td>0.023810</td>\n",
       "      <td>0.000000</td>\n",
       "      <td>0.075472</td>\n",
       "      <td>0.047170</td>\n",
       "      <td>0.000000</td>\n",
       "      <td>0.009901</td>\n",
       "      <td>0.009901</td>\n",
       "      <td>0.111111</td>\n",
       "      <td>0.022727</td>\n",
       "      <td>0.000000</td>\n",
       "      <td>0.429322</td>\n",
       "    </tr>\n",
       "    <tr>\n",
       "      <th>7197</th>\n",
       "      <td>0.047619</td>\n",
       "      <td>0.083333</td>\n",
       "      <td>0.075472</td>\n",
       "      <td>0.094340</td>\n",
       "      <td>0.022422</td>\n",
       "      <td>0.059406</td>\n",
       "      <td>0.059406</td>\n",
       "      <td>0.137931</td>\n",
       "      <td>0.031250</td>\n",
       "      <td>0.250000</td>\n",
       "      <td>0.855901</td>\n",
       "    </tr>\n",
       "    <tr>\n",
       "      <th>275231</th>\n",
       "      <td>0.071429</td>\n",
       "      <td>0.041667</td>\n",
       "      <td>0.075472</td>\n",
       "      <td>0.037736</td>\n",
       "      <td>0.004484</td>\n",
       "      <td>0.000000</td>\n",
       "      <td>0.000000</td>\n",
       "      <td>0.315789</td>\n",
       "      <td>0.075000</td>\n",
       "      <td>0.200000</td>\n",
       "      <td>0.684602</td>\n",
       "    </tr>\n",
       "    <tr>\n",
       "      <th>294708</th>\n",
       "      <td>0.071429</td>\n",
       "      <td>0.041667</td>\n",
       "      <td>0.075472</td>\n",
       "      <td>0.047170</td>\n",
       "      <td>0.008969</td>\n",
       "      <td>0.009901</td>\n",
       "      <td>0.009901</td>\n",
       "      <td>0.300000</td>\n",
       "      <td>0.068182</td>\n",
       "      <td>0.181818</td>\n",
       "      <td>0.771652</td>\n",
       "    </tr>\n",
       "    <tr>\n",
       "      <th>221249</th>\n",
       "      <td>0.119048</td>\n",
       "      <td>0.166667</td>\n",
       "      <td>0.075472</td>\n",
       "      <td>0.084906</td>\n",
       "      <td>0.058296</td>\n",
       "      <td>0.049505</td>\n",
       "      <td>0.049505</td>\n",
       "      <td>0.322581</td>\n",
       "      <td>0.083333</td>\n",
       "      <td>0.533333</td>\n",
       "      <td>0.947739</td>\n",
       "    </tr>\n",
       "  </tbody>\n",
       "</table>\n",
       "</div>"
      ],
      "text/plain": [
       "        CommonLength  CommonLength_nostopword  lengthPP_Q1  lengthPP_Q2  \\\n",
       "231027      0.023810                 0.000000     0.075472     0.047170   \n",
       "7197        0.047619                 0.083333     0.075472     0.094340   \n",
       "275231      0.071429                 0.041667     0.075472     0.037736   \n",
       "294708      0.071429                 0.041667     0.075472     0.047170   \n",
       "221249      0.119048                 0.166667     0.075472     0.084906   \n",
       "\n",
       "        lenth_diff  lengthPP_diff  lenth_diff_nostopword    Shared  SharedPP  \\\n",
       "231027    0.000000       0.009901               0.009901  0.111111  0.022727   \n",
       "7197      0.022422       0.059406               0.059406  0.137931  0.031250   \n",
       "275231    0.004484       0.000000               0.000000  0.315789  0.075000   \n",
       "294708    0.008969       0.009901               0.009901  0.300000  0.068182   \n",
       "221249    0.058296       0.049505               0.049505  0.322581  0.083333   \n",
       "\n",
       "        Shared_nostopword    cosine  \n",
       "231027           0.000000  0.429322  \n",
       "7197             0.250000  0.855901  \n",
       "275231           0.200000  0.684602  \n",
       "294708           0.181818  0.771652  \n",
       "221249           0.533333  0.947739  "
      ]
     },
     "execution_count": 206,
     "metadata": {},
     "output_type": "execute_result"
    }
   ],
   "source": [
    "X_train.head()"
   ]
  },
  {
   "cell_type": "markdown",
   "metadata": {},
   "source": [
    "### Run the models"
   ]
  },
  {
   "cell_type": "code",
   "execution_count": 207,
   "metadata": {
    "collapsed": false
   },
   "outputs": [],
   "source": [
    "from sklearn.ensemble import RandomForestClassifier, AdaBoostClassifier\n",
    "\n",
    "# (a)select a classifier: here random forest\n",
    "forest = RandomForestClassifier(n_estimators = 60)\n",
    "\n",
    "adab = AdaBoostClassifier(n_estimators = 60)\n"
   ]
  },
  {
   "cell_type": "code",
   "execution_count": 208,
   "metadata": {
    "collapsed": false
   },
   "outputs": [],
   "source": [
    "# (b)train the model\n",
    "forestC = forest.fit(X_train,y_train.values.ravel())\n",
    "adabC = adab.fit(X_train,y_train.values.ravel())"
   ]
  },
  {
   "cell_type": "code",
   "execution_count": 209,
   "metadata": {
    "collapsed": false
   },
   "outputs": [],
   "source": [
    "## Try SVM\n",
    "#Timing of SVM for half data: 13:30 -> 13:40\n",
    "excute_SVM = 0\n",
    "from sklearn import svm\n",
    "if(excute_SVM):\n",
    "    svmC = svm.SVC()\n",
    "    svmC.fit(X_train,y_train)"
   ]
  },
  {
   "cell_type": "code",
   "execution_count": 210,
   "metadata": {
    "collapsed": false
   },
   "outputs": [
    {
     "data": {
      "text/plain": [
       "XGBClassifier(base_score=0.5, colsample_bylevel=1, colsample_bytree=1,\n",
       "       gamma=0, learning_rate=0.1, max_delta_step=0, max_depth=3,\n",
       "       min_child_weight=1, missing=None, n_estimators=100, nthread=-1,\n",
       "       objective='binary:logistic', reg_alpha=0, reg_lambda=1,\n",
       "       scale_pos_weight=1, seed=0, silent=True, subsample=1)"
      ]
     },
     "execution_count": 210,
     "metadata": {},
     "output_type": "execute_result"
    }
   ],
   "source": [
    "# fit XGB model \n",
    "modelXGB = xgboost.XGBClassifier(base_score=0.5)\n",
    "modelXGB.fit(X_train, y_train)"
   ]
  },
  {
   "cell_type": "markdown",
   "metadata": {},
   "source": [
    "### Get the scores"
   ]
  },
  {
   "cell_type": "code",
   "execution_count": 211,
   "metadata": {
    "collapsed": false
   },
   "outputs": [
    {
     "data": {
      "text/plain": [
       "0.63005515842588244"
      ]
     },
     "execution_count": 211,
     "metadata": {},
     "output_type": "execute_result"
    }
   ],
   "source": [
    "#score with fixed decision\n",
    "1-y_test.sum()/float(len(y_test))"
   ]
  },
  {
   "cell_type": "code",
   "execution_count": 212,
   "metadata": {
    "collapsed": false
   },
   "outputs": [],
   "source": [
    "if(excute_SVM):\n",
    "    svmC.score(X_test,y_test.values.ravel())"
   ]
  },
  {
   "cell_type": "code",
   "execution_count": 213,
   "metadata": {
    "collapsed": false
   },
   "outputs": [
    {
     "data": {
      "text/plain": [
       "0.71866729327957657"
      ]
     },
     "execution_count": 213,
     "metadata": {},
     "output_type": "execute_result"
    }
   ],
   "source": [
    "#score with random forest\n",
    "forestC.score(X_test,y_test.values.ravel())"
   ]
  },
  {
   "cell_type": "code",
   "execution_count": 214,
   "metadata": {
    "collapsed": false
   },
   "outputs": [
    {
     "data": {
      "text/plain": [
       "0.72535803507383312"
      ]
     },
     "execution_count": 214,
     "metadata": {},
     "output_type": "execute_result"
    }
   ],
   "source": [
    "#score with Adaboost\n",
    "adabC.score(X_test,y_test.values.ravel())"
   ]
  },
  {
   "cell_type": "code",
   "execution_count": 215,
   "metadata": {
    "collapsed": true
   },
   "outputs": [],
   "source": [
    "# make predictions for test data\n",
    "y_pred = modelXGB.predict(X_test)\n",
    "predictions = [round(value) for value in y_pred]"
   ]
  },
  {
   "cell_type": "code",
   "execution_count": 216,
   "metadata": {
    "collapsed": false
   },
   "outputs": [
    {
     "name": "stdout",
     "output_type": "stream",
     "text": [
      "0.733978085038\n"
     ]
    }
   ],
   "source": [
    "# evaluate predictions\n",
    "from sklearn.metrics import accuracy_score\n",
    "accuracy = accuracy_score(y_test, predictions)\n",
    "#print(\"Accuracy: %.2f%%\" % (accuracy * 100.0))\n",
    "print accuracy"
   ]
  },
  {
   "cell_type": "code",
   "execution_count": 217,
   "metadata": {
    "collapsed": false
   },
   "outputs": [],
   "source": [
    "#print(model)"
   ]
  },
  {
   "cell_type": "markdown",
   "metadata": {},
   "source": [
    "# Use regressors\n",
    "\n",
    "(kaggle code)"
   ]
  },
  {
   "cell_type": "code",
   "execution_count": 218,
   "metadata": {
    "collapsed": true
   },
   "outputs": [],
   "source": [
    "from sklearn.metrics import log_loss\n",
    "\n",
    "def calculate_logloss(y_true, y_pred):\n",
    "    loss_cal = log_loss(y_true, y_pred)\n",
    "    return loss_cal"
   ]
  },
  {
   "cell_type": "code",
   "execution_count": 219,
   "metadata": {
    "collapsed": false
   },
   "outputs": [
    {
     "data": {
      "text/plain": [
       "RandomForestRegressor(bootstrap=True, criterion='mse', max_depth=None,\n",
       "           max_features='auto', max_leaf_nodes=None,\n",
       "           min_impurity_split=1e-07, min_samples_leaf=1,\n",
       "           min_samples_split=2, min_weight_fraction_leaf=0.0,\n",
       "           n_estimators=10, n_jobs=1, oob_score=False, random_state=None,\n",
       "           verbose=0, warm_start=False)"
      ]
     },
     "execution_count": 219,
     "metadata": {},
     "output_type": "execute_result"
    }
   ],
   "source": [
    "from sklearn.ensemble import RandomForestRegressor\n",
    "rfr = RandomForestRegressor()\n",
    "rfr.fit(X_train, y_train)"
   ]
  },
  {
   "cell_type": "code",
   "execution_count": 220,
   "metadata": {
    "collapsed": true
   },
   "outputs": [],
   "source": [
    "from sklearn.svm import SVR\n",
    "#computation time for half data 30 minutes\n",
    "if(excute_SVM):\n",
    "    svr = SVR()\n",
    "    svr.fit(X_train,y_train)"
   ]
  },
  {
   "cell_type": "code",
   "execution_count": 221,
   "metadata": {
    "collapsed": true
   },
   "outputs": [],
   "source": [
    "y_rfr_predicted = rfr.predict(X_test)\n",
    "\n",
    "if(excute_SVM):\n",
    "    y_svr_predicted = svr.predict(X_test)\n",
    "    \n",
    "y_xgb_predicted = modelXGB.predict_proba(X_test)    "
   ]
  },
  {
   "cell_type": "code",
   "execution_count": 222,
   "metadata": {
    "collapsed": false
   },
   "outputs": [
    {
     "name": "stdout",
     "output_type": "stream",
     "text": [
      "The calculated log loss value on the test set using RFR is = 1.127208\n",
      "The calculated log loss value on the test set using XGB is = 0.469804\n"
     ]
    }
   ],
   "source": [
    "logloss_rfr = calculate_logloss(y_test, y_rfr_predicted)\n",
    "logloss_xgb = calculate_logloss(y_test, y_xgb_predicted)\n",
    "\n",
    "if(excute_SVM):\n",
    "    logloss_svr = calculate_logloss(y_test, y_svr_predicted)\n",
    "\n",
    "\n",
    "print (\"The calculated log loss value on the test set using RFR is = %f\" %logloss_rfr)\n",
    "\n",
    "#SVM regressor takes very long for so so results\n",
    "if(excute_SVM):\n",
    "    print (\"The calculated log loss value on the test set using SVR is = %f\" %logloss_svr)\n",
    "\n",
    "print (\"The calculated log loss value on the test set using XGB is = %f\" %logloss_xgb)"
   ]
  },
  {
   "cell_type": "markdown",
   "metadata": {},
   "source": [
    "## Check what features are important"
   ]
  },
  {
   "cell_type": "code",
   "execution_count": 223,
   "metadata": {
    "collapsed": true
   },
   "outputs": [],
   "source": [
    "#pick all the features\n",
    "features = pd.DataFrame(forest.feature_importances_)\n"
   ]
  },
  {
   "cell_type": "code",
   "execution_count": 224,
   "metadata": {
    "collapsed": true
   },
   "outputs": [],
   "source": [
    "#rank the features by order of importance for classification\n",
    "#this will be useful \n",
    "importances = forest.feature_importances_\n",
    "std = np.std([tree.feature_importances_ for tree in forest.estimators_],\n",
    "             axis=0)\n",
    "indices = np.argsort(importances)[::-1]"
   ]
  },
  {
   "cell_type": "code",
   "execution_count": 225,
   "metadata": {
    "collapsed": false
   },
   "outputs": [
    {
     "name": "stdout",
     "output_type": "stream",
     "text": [
      "Feature ranking:\n",
      "1. feature 10 (0.445519) percentage 1.000000\n",
      "2. feature 7 (0.167739) percentage 0.376503\n",
      "3. feature 9 (0.114126) percentage 0.256165\n",
      "4. feature 4 (0.068454) percentage 0.153650\n",
      "5. feature 8 (0.064658) percentage 0.145130\n",
      "6. feature 0 (0.033623) percentage 0.075470\n",
      "7. feature 1 (0.030465) percentage 0.068381\n",
      "8. feature 3 (0.023957) percentage 0.053773\n",
      "9. feature 2 (0.023802) percentage 0.053425\n",
      "10. feature 6 (0.014233) percentage 0.031947\n",
      "11. feature 5 (0.013424) percentage 0.030132\n"
     ]
    }
   ],
   "source": [
    "# Print the feature ranking (comes from trial and error looking at the graph below)\n",
    "Max_number_of_indices = len(list_of_Numeric_fields)\n",
    "\n",
    "print(\"Feature ranking:\")\n",
    "\n",
    "for f in range(Max_number_of_indices):\n",
    "    print(\"%d. feature %d (%f) percentage %f\" % (f + 1, indices[f], importances[indices[f]] , \n",
    "                                                 importances[indices[f]]/importances[indices[0]]))\n"
   ]
  },
  {
   "cell_type": "code",
   "execution_count": 226,
   "metadata": {
    "collapsed": true
   },
   "outputs": [],
   "source": [
    "#top_indices really means here \"most important features selected\" - first show all the features\n",
    "Max_number_of_indices = len(importances)\n",
    "\n",
    "top_indices = indices[:Max_number_of_indices]\n"
   ]
  },
  {
   "cell_type": "code",
   "execution_count": 227,
   "metadata": {
    "collapsed": false
   },
   "outputs": [
    {
     "data": {
      "image/png": "[encoded data removed]",
      "text/plain": [
       "<matplotlib.figure.Figure at 0x7f3800efccd0>"
      ]
     },
     "metadata": {},
     "output_type": "display_data"
    }
   ],
   "source": [
    "# Plot the feature importances of the forest\n",
    "plt.figure()\n",
    "plt.title(\"Feature importances\")\n",
    "plt.bar(np.arange(Max_number_of_indices), importances[top_indices], color=\"r\", align=\"center\")\n",
    "plt.xlim([-1, Max_number_of_indices])\n",
    "plt.ion()\n",
    "plt.show()"
   ]
  },
  {
   "cell_type": "code",
   "execution_count": 228,
   "metadata": {
    "collapsed": false
   },
   "outputs": [
    {
     "data": {
      "text/html": [
       "<div>\n",
       "<table border=\"1\" class=\"dataframe\">\n",
       "  <thead>\n",
       "    <tr style=\"text-align: right;\">\n",
       "      <th></th>\n",
       "      <th>cosine</th>\n",
       "      <th>Shared</th>\n",
       "      <th>Shared_nostopword</th>\n",
       "      <th>lenth_diff</th>\n",
       "      <th>SharedPP</th>\n",
       "      <th>CommonLength</th>\n",
       "      <th>CommonLength_nostopword</th>\n",
       "      <th>lengthPP_Q2</th>\n",
       "      <th>lengthPP_Q1</th>\n",
       "      <th>lenth_diff_nostopword</th>\n",
       "      <th>lengthPP_diff</th>\n",
       "    </tr>\n",
       "  </thead>\n",
       "  <tbody>\n",
       "    <tr>\n",
       "      <th>231027</th>\n",
       "      <td>0.429322</td>\n",
       "      <td>0.111111</td>\n",
       "      <td>0.000000</td>\n",
       "      <td>0.000000</td>\n",
       "      <td>0.022727</td>\n",
       "      <td>0.023810</td>\n",
       "      <td>0.000000</td>\n",
       "      <td>0.047170</td>\n",
       "      <td>0.075472</td>\n",
       "      <td>0.009901</td>\n",
       "      <td>0.009901</td>\n",
       "    </tr>\n",
       "    <tr>\n",
       "      <th>7197</th>\n",
       "      <td>0.855901</td>\n",
       "      <td>0.137931</td>\n",
       "      <td>0.250000</td>\n",
       "      <td>0.022422</td>\n",
       "      <td>0.031250</td>\n",
       "      <td>0.047619</td>\n",
       "      <td>0.083333</td>\n",
       "      <td>0.094340</td>\n",
       "      <td>0.075472</td>\n",
       "      <td>0.059406</td>\n",
       "      <td>0.059406</td>\n",
       "    </tr>\n",
       "    <tr>\n",
       "      <th>275231</th>\n",
       "      <td>0.684602</td>\n",
       "      <td>0.315789</td>\n",
       "      <td>0.200000</td>\n",
       "      <td>0.004484</td>\n",
       "      <td>0.075000</td>\n",
       "      <td>0.071429</td>\n",
       "      <td>0.041667</td>\n",
       "      <td>0.037736</td>\n",
       "      <td>0.075472</td>\n",
       "      <td>0.000000</td>\n",
       "      <td>0.000000</td>\n",
       "    </tr>\n",
       "    <tr>\n",
       "      <th>294708</th>\n",
       "      <td>0.771652</td>\n",
       "      <td>0.300000</td>\n",
       "      <td>0.181818</td>\n",
       "      <td>0.008969</td>\n",
       "      <td>0.068182</td>\n",
       "      <td>0.071429</td>\n",
       "      <td>0.041667</td>\n",
       "      <td>0.047170</td>\n",
       "      <td>0.075472</td>\n",
       "      <td>0.009901</td>\n",
       "      <td>0.009901</td>\n",
       "    </tr>\n",
       "    <tr>\n",
       "      <th>221249</th>\n",
       "      <td>0.947739</td>\n",
       "      <td>0.322581</td>\n",
       "      <td>0.533333</td>\n",
       "      <td>0.058296</td>\n",
       "      <td>0.083333</td>\n",
       "      <td>0.119048</td>\n",
       "      <td>0.166667</td>\n",
       "      <td>0.084906</td>\n",
       "      <td>0.075472</td>\n",
       "      <td>0.049505</td>\n",
       "      <td>0.049505</td>\n",
       "    </tr>\n",
       "  </tbody>\n",
       "</table>\n",
       "</div>"
      ],
      "text/plain": [
       "          cosine    Shared  Shared_nostopword  lenth_diff  SharedPP  \\\n",
       "231027  0.429322  0.111111           0.000000    0.000000  0.022727   \n",
       "7197    0.855901  0.137931           0.250000    0.022422  0.031250   \n",
       "275231  0.684602  0.315789           0.200000    0.004484  0.075000   \n",
       "294708  0.771652  0.300000           0.181818    0.008969  0.068182   \n",
       "221249  0.947739  0.322581           0.533333    0.058296  0.083333   \n",
       "\n",
       "        CommonLength  CommonLength_nostopword  lengthPP_Q2  lengthPP_Q1  \\\n",
       "231027      0.023810                 0.000000     0.047170     0.075472   \n",
       "7197        0.047619                 0.083333     0.094340     0.075472   \n",
       "275231      0.071429                 0.041667     0.037736     0.075472   \n",
       "294708      0.071429                 0.041667     0.047170     0.075472   \n",
       "221249      0.119048                 0.166667     0.084906     0.075472   \n",
       "\n",
       "        lenth_diff_nostopword  lengthPP_diff  \n",
       "231027               0.009901       0.009901  \n",
       "7197                 0.059406       0.059406  \n",
       "275231               0.000000       0.000000  \n",
       "294708               0.009901       0.009901  \n",
       "221249               0.049505       0.049505  "
      ]
     },
     "execution_count": 228,
     "metadata": {},
     "output_type": "execute_result"
    }
   ],
   "source": [
    "X_train[top_indices].head()"
   ]
  },
  {
   "cell_type": "markdown",
   "metadata": {},
   "source": [
    "not surprisingly, the cosine similarity is the most significative features in the classification"
   ]
  },
  {
   "cell_type": "markdown",
   "metadata": {
    "collapsed": true
   },
   "source": [
    "# Results part\n",
    "\n",
    "Train final model on full training data\n",
    "\n",
    "Predict questions similarity\n",
    "\n",
    "Save answers for submission"
   ]
  },
  {
   "cell_type": "code",
   "execution_count": 251,
   "metadata": {
    "collapsed": false
   },
   "outputs": [
    {
     "data": {
      "text/html": [
       "<div>\n",
       "<table border=\"1\" class=\"dataframe\">\n",
       "  <thead>\n",
       "    <tr style=\"text-align: right;\">\n",
       "      <th></th>\n",
       "      <th>CommonLength</th>\n",
       "      <th>CommonLength_nostopword</th>\n",
       "      <th>lengthPP_Q1</th>\n",
       "      <th>lengthPP_Q2</th>\n",
       "      <th>lenth_diff</th>\n",
       "      <th>lengthPP_diff</th>\n",
       "      <th>lenth_diff_nostopword</th>\n",
       "      <th>Shared</th>\n",
       "      <th>SharedPP</th>\n",
       "      <th>Shared_nostopword</th>\n",
       "      <th>cosine</th>\n",
       "    </tr>\n",
       "  </thead>\n",
       "  <tbody>\n",
       "    <tr>\n",
       "      <th>311876</th>\n",
       "      <td>0.095238</td>\n",
       "      <td>0.083333</td>\n",
       "      <td>0.037736</td>\n",
       "      <td>0.009434</td>\n",
       "      <td>0.013453</td>\n",
       "      <td>0.009901</td>\n",
       "      <td>0.009901</td>\n",
       "      <td>0.615385</td>\n",
       "      <td>0.200000</td>\n",
       "      <td>0.800000</td>\n",
       "      <td>1.000000</td>\n",
       "    </tr>\n",
       "    <tr>\n",
       "      <th>136761</th>\n",
       "      <td>0.119048</td>\n",
       "      <td>0.125000</td>\n",
       "      <td>0.075472</td>\n",
       "      <td>0.028302</td>\n",
       "      <td>0.004484</td>\n",
       "      <td>0.009901</td>\n",
       "      <td>0.009901</td>\n",
       "      <td>0.588235</td>\n",
       "      <td>0.138889</td>\n",
       "      <td>0.666667</td>\n",
       "      <td>0.953555</td>\n",
       "    </tr>\n",
       "    <tr>\n",
       "      <th>17054</th>\n",
       "      <td>0.095238</td>\n",
       "      <td>0.083333</td>\n",
       "      <td>0.037736</td>\n",
       "      <td>0.018868</td>\n",
       "      <td>0.000000</td>\n",
       "      <td>0.000000</td>\n",
       "      <td>0.000000</td>\n",
       "      <td>0.500000</td>\n",
       "      <td>0.166667</td>\n",
       "      <td>0.666667</td>\n",
       "      <td>0.841392</td>\n",
       "    </tr>\n",
       "    <tr>\n",
       "      <th>128629</th>\n",
       "      <td>0.047619</td>\n",
       "      <td>0.083333</td>\n",
       "      <td>0.094340</td>\n",
       "      <td>0.037736</td>\n",
       "      <td>0.004484</td>\n",
       "      <td>0.009901</td>\n",
       "      <td>0.009901</td>\n",
       "      <td>0.190476</td>\n",
       "      <td>0.045455</td>\n",
       "      <td>0.363636</td>\n",
       "      <td>0.821344</td>\n",
       "    </tr>\n",
       "    <tr>\n",
       "      <th>58256</th>\n",
       "      <td>0.000000</td>\n",
       "      <td>0.083333</td>\n",
       "      <td>0.150943</td>\n",
       "      <td>0.037736</td>\n",
       "      <td>0.049327</td>\n",
       "      <td>0.039604</td>\n",
       "      <td>0.039604</td>\n",
       "      <td>0.000000</td>\n",
       "      <td>0.000000</td>\n",
       "      <td>0.285714</td>\n",
       "      <td>0.883968</td>\n",
       "    </tr>\n",
       "  </tbody>\n",
       "</table>\n",
       "</div>"
      ],
      "text/plain": [
       "        CommonLength  CommonLength_nostopword  lengthPP_Q1  lengthPP_Q2  \\\n",
       "311876      0.095238                 0.083333     0.037736     0.009434   \n",
       "136761      0.119048                 0.125000     0.075472     0.028302   \n",
       "17054       0.095238                 0.083333     0.037736     0.018868   \n",
       "128629      0.047619                 0.083333     0.094340     0.037736   \n",
       "58256       0.000000                 0.083333     0.150943     0.037736   \n",
       "\n",
       "        lenth_diff  lengthPP_diff  lenth_diff_nostopword    Shared  SharedPP  \\\n",
       "311876    0.013453       0.009901               0.009901  0.615385  0.200000   \n",
       "136761    0.004484       0.009901               0.009901  0.588235  0.138889   \n",
       "17054     0.000000       0.000000               0.000000  0.500000  0.166667   \n",
       "128629    0.004484       0.009901               0.009901  0.190476  0.045455   \n",
       "58256     0.049327       0.039604               0.039604  0.000000  0.000000   \n",
       "\n",
       "        Shared_nostopword    cosine  \n",
       "311876           0.800000  1.000000  \n",
       "136761           0.666667  0.953555  \n",
       "17054            0.666667  0.841392  \n",
       "128629           0.363636  0.821344  \n",
       "58256            0.285714  0.883968  "
      ]
     },
     "execution_count": 251,
     "metadata": {},
     "output_type": "execute_result"
    }
   ],
   "source": [
    "X_train.head()"
   ]
  },
  {
   "cell_type": "markdown",
   "metadata": {
    "collapsed": true
   },
   "source": [
    "## Train final model on full training data"
   ]
  },
  {
   "cell_type": "code",
   "execution_count": 252,
   "metadata": {
    "collapsed": false
   },
   "outputs": [
    {
     "data": {
      "text/plain": [
       "XGBClassifier(base_score=0.5, colsample_bylevel=1, colsample_bytree=1,\n",
       "       gamma=0, learning_rate=0.1, max_delta_step=0, max_depth=3,\n",
       "       min_child_weight=1, missing=None, n_estimators=100, nthread=-1,\n",
       "       objective='binary:logistic', reg_alpha=0, reg_lambda=1,\n",
       "       scale_pos_weight=1, seed=0, silent=True, subsample=1)"
      ]
     },
     "execution_count": 252,
     "metadata": {},
     "output_type": "execute_result"
    }
   ],
   "source": [
    "# fit XGB model \n",
    "modelXGB = xgboost.XGBClassifier(base_score=0.5)\n",
    "modelXGB.fit(df_test[list_of_Numeric_fields], Y)"
   ]
  },
  {
   "cell_type": "markdown",
   "metadata": {
    "collapsed": true
   },
   "source": [
    "## Predict questions similarity"
   ]
  },
  {
   "cell_type": "code",
   "execution_count": 253,
   "metadata": {
    "collapsed": true
   },
   "outputs": [],
   "source": [
    "y_xgb_predicted = modelXGB.predict_proba(dt_submit[list_of_Numeric_fields])    "
   ]
  },
  {
   "cell_type": "code",
   "execution_count": 264,
   "metadata": {
    "collapsed": false
   },
   "outputs": [],
   "source": [
    "result_list = [res[0] for res in y_xgb_predicted]"
   ]
  },
  {
   "cell_type": "markdown",
   "metadata": {},
   "source": [
    "## Save answers for submission"
   ]
  },
  {
   "cell_type": "code",
   "execution_count": 265,
   "metadata": {
    "collapsed": false
   },
   "outputs": [
    {
     "data": {
      "text/html": [
       "<div>\n",
       "<table border=\"1\" class=\"dataframe\">\n",
       "  <thead>\n",
       "    <tr style=\"text-align: right;\">\n",
       "      <th></th>\n",
       "      <th>test_id</th>\n",
       "      <th>is_duplicate</th>\n",
       "    </tr>\n",
       "  </thead>\n",
       "  <tbody>\n",
       "    <tr>\n",
       "      <th>0</th>\n",
       "      <td>0</td>\n",
       "      <td>0.891770</td>\n",
       "    </tr>\n",
       "    <tr>\n",
       "      <th>1</th>\n",
       "      <td>1</td>\n",
       "      <td>0.352745</td>\n",
       "    </tr>\n",
       "    <tr>\n",
       "      <th>2</th>\n",
       "      <td>2</td>\n",
       "      <td>0.379189</td>\n",
       "    </tr>\n",
       "    <tr>\n",
       "      <th>3</th>\n",
       "      <td>3</td>\n",
       "      <td>0.998068</td>\n",
       "    </tr>\n",
       "    <tr>\n",
       "      <th>4</th>\n",
       "      <td>4</td>\n",
       "      <td>0.603235</td>\n",
       "    </tr>\n",
       "  </tbody>\n",
       "</table>\n",
       "</div>"
      ],
      "text/plain": [
       "   test_id  is_duplicate\n",
       "0        0      0.891770\n",
       "1        1      0.352745\n",
       "2        2      0.379189\n",
       "3        3      0.998068\n",
       "4        4      0.603235"
      ]
     },
     "execution_count": 265,
     "metadata": {},
     "output_type": "execute_result"
    }
   ],
   "source": [
    "submission = pd.DataFrame()\n",
    "\n",
    "submission['test_id'] = dt_submit['test_id']\n",
    "submission['is_duplicate'] = result_list \n",
    "\n",
    "submission.head()"
   ]
  },
  {
   "cell_type": "code",
   "execution_count": 266,
   "metadata": {
    "collapsed": true
   },
   "outputs": [],
   "source": [
    "submission.to_csv('subsmission.csv', index=False)"
   ]
  },
  {
   "cell_type": "code",
   "execution_count": null,
   "metadata": {
    "collapsed": true
   },
   "outputs": [],
   "source": []
  }
 ],
 "metadata": {
  "kernelspec": {
   "display_name": "Python 2",
   "language": "python",
   "name": "python2"
  },
  "language_info": {
   "codemirror_mode": {
    "name": "ipython",
    "version": 2
   },
   "file_extension": ".py",
   "mimetype": "text/x-python",
   "name": "python",
   "nbconvert_exporter": "python",
   "pygments_lexer": "ipython2",
   "version": "2.7.13"
  }
 },
 "nbformat": 4,
 "nbformat_minor": 0
}
