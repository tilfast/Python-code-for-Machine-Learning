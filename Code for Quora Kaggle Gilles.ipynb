{
 "cells": [
  {
   "cell_type": "markdown",
   "metadata": {},
   "source": [
    "# Detecting duplicate questions"
   ]
  },
  {
   "cell_type": "markdown",
   "metadata": {},
   "source": [
    "### Info \n",
    "Date 1st of May 2017\n",
    "\n",
    "Version 1 \n",
    "\n",
    "Gilles Daquin\n",
    "\n",
    "#### Difficulties: \n",
    "\n",
    "size of files \n",
    "\n",
    "spelling mistakes\n",
    "\n",
    "no treatment of sematics \n",
    "\n",
    "some unicode characters not recognized by system \n",
    "\n",
    "laptop not setup for this type development\n",
    "\n",
    "#### Main difficulties: \n",
    "\n",
    "a) extracting features to input in a Machine Learning algorithm\n",
    "\n",
    "b) a lot of pre-processing on the data is necessary"
   ]
  },
  {
   "cell_type": "markdown",
   "metadata": {},
   "source": [
    "# Synopsis\n",
    "\n",
    "### Preparation\n",
    "a) loading data\n",
    "\n",
    "b) cleaning up the data\n",
    "\n",
    "c) creation of dictionary\n",
    "\n",
    "d) tokenization of questions\n",
    "\n",
    "e) vectorization of questions\n",
    "\n",
    "f) Theme description per question\n",
    "\n",
    "g) Rework training set to fit distribution of test set\n",
    "\n",
    "### Feature creation (base)\n",
    "a) Shared word percentage: SharedWord\n",
    "\n",
    "b) Number of character:    NumberCharaters\n",
    "\n",
    "c) Cosine similarity:      CosineSim\n",
    "\n",
    "d) Proximity of Themes:    ThemesProx\n",
    "\n",
    "e) other?...\n",
    "\n",
    "### Feature extension\n",
    "a) X*X\n",
    "\n",
    "b) X*Y\n",
    "\n",
    "c) Log X\n",
    "\n",
    "d) Sqrt(X)\n",
    "\n",
    "### Feature validation\n",
    "a) Assessment of feature strength with Random forest algorithm\n",
    "\n",
    "### Training of model & test\n",
    "a) train model (could be anything at this stage)\n",
    "\n",
    "b) Test\n",
    "\n",
    "### Prepare submission\n",
    "a) save submission data\n"
   ]
  },
  {
   "cell_type": "markdown",
   "metadata": {},
   "source": [
    "# Preparation"
   ]
  },
  {
   "cell_type": "code",
   "execution_count": 1,
   "metadata": {
    "collapsed": false
   },
   "outputs": [],
   "source": [
    "%matplotlib inline\n",
    "\n",
    "#imports\n",
    "import numpy as np \n",
    "import pandas as pd \n",
    "import matplotlib.pyplot as plt\n",
    "import re\n",
    "\n",
    "import sklearn as sk\n",
    "import nltk\n",
    "from nltk import word_tokenize, ngrams\n",
    "from nltk.corpus import stopwords\n",
    "import gensim\n",
    "\n",
    "from nltk import bigrams\n",
    "from nltk import trigrams\n"
   ]
  },
  {
   "cell_type": "code",
   "execution_count": 2,
   "metadata": {
    "collapsed": true
   },
   "outputs": [],
   "source": [
    "verbose = False\n",
    "#prepare the stop words\n",
    "STOP_WORDS = nltk.corpus.stopwords.words()"
   ]
  },
  {
   "cell_type": "code",
   "execution_count": 3,
   "metadata": {
    "collapsed": false
   },
   "outputs": [],
   "source": [
    "#download the datasets\n",
    "df_train = pd.read_csv(\"../Data/train.csv\")\n",
    "df_test = pd.read_csv(\"../Data/test.csv\")\n",
    "\n",
    "if (verbose):\n",
    "    print(df_train.shape)\n",
    "    print(df_test.shape)"
   ]
  },
  {
   "cell_type": "markdown",
   "metadata": {},
   "source": [
    "### Reduce size of training set for development\n",
    "\n",
    "Data set is more than 400K long, let's reduce it to speed up development time and testing of code\n"
   ]
  },
  {
   "cell_type": "code",
   "execution_count": 4,
   "metadata": {
    "collapsed": false
   },
   "outputs": [],
   "source": [
    "df_train_clean= df_train.sample(frac=0.1).reset_index(drop=True)\n",
    "if (verbose):\n",
    "     df_train_clean[\"is_duplicate\"].sum()"
   ]
  },
  {
   "cell_type": "code",
   "execution_count": 5,
   "metadata": {
    "collapsed": false
   },
   "outputs": [],
   "source": [
    "if (verbose):\n",
    "    df_train_clean.head()"
   ]
  },
  {
   "cell_type": "code",
   "execution_count": 6,
   "metadata": {
    "collapsed": false
   },
   "outputs": [],
   "source": [
    "#check for NANs\n",
    "if (verbose):\n",
    "    df_train_clean.isnull().sum()"
   ]
  },
  {
   "cell_type": "code",
   "execution_count": 7,
   "metadata": {
    "collapsed": true
   },
   "outputs": [],
   "source": [
    "# we need to clean these NaNs\n",
    "df_train_clean = df_train_clean.dropna()"
   ]
  },
  {
   "cell_type": "code",
   "execution_count": 8,
   "metadata": {
    "collapsed": true
   },
   "outputs": [],
   "source": [
    "#verbose = False"
   ]
  },
  {
   "cell_type": "code",
   "execution_count": 9,
   "metadata": {
    "collapsed": false
   },
   "outputs": [],
   "source": [
    "if (verbose):\n",
    "    print df_train_clean.isnull().sum()\n",
    "    print df_train_clean.shape"
   ]
  },
  {
   "cell_type": "markdown",
   "metadata": {},
   "source": [
    "### Before processing count number of words to try and differentiate the classes\n"
   ]
  },
  {
   "cell_type": "code",
   "execution_count": 10,
   "metadata": {
    "collapsed": true
   },
   "outputs": [],
   "source": [
    "def compute_length(sentence):\n",
    "    \"remove chars that are not letters or numbers, downcase\"\n",
    "    regex = re.compile('([^\\s\\w]|_)+')\n",
    "    sentence = regex.sub('', sentence).lower()\n",
    "    length = len(sentence.split(\" \"))\n",
    "    \n",
    "    return length\n",
    "\n"
   ]
  },
  {
   "cell_type": "code",
   "execution_count": 11,
   "metadata": {
    "collapsed": false
   },
   "outputs": [],
   "source": [
    "df_train_clean[\"lengthQ1\"]= df_train_clean[\"question1\"].apply(compute_length)\n",
    "df_train_clean[\"lengthQ2\"]= df_train_clean[\"question2\"].apply(compute_length)\n"
   ]
  },
  {
   "cell_type": "markdown",
   "metadata": {},
   "source": [
    "### Stop words removal"
   ]
  },
  {
   "cell_type": "code",
   "execution_count": 12,
   "metadata": {
    "collapsed": true
   },
   "outputs": [],
   "source": [
    "def clean_sentence(val):\n",
    "    \"remove chars that are not letters or numbers, downcase, then remove stop words\"\n",
    "    regex = re.compile('([^\\s\\w]|_)+')\n",
    "    sentence = regex.sub('', val).lower()\n",
    "    sentence = sentence.split(\" \")\n",
    "    \n",
    "    for word in list(sentence):\n",
    "        if word in STOP_WORDS:\n",
    "            sentence.remove(word)  \n",
    "            \n",
    "    sentence = \" \".join(sentence)\n",
    "    return sentence"
   ]
  },
  {
   "cell_type": "code",
   "execution_count": 13,
   "metadata": {
    "collapsed": false
   },
   "outputs": [],
   "source": [
    "if (verbose):\n",
    "    df_train_clean[\"question1\"][1:10]\n",
    "    df_train_clean[\"question2\"][1:10] "
   ]
  },
  {
   "cell_type": "code",
   "execution_count": 14,
   "metadata": {
    "collapsed": false
   },
   "outputs": [],
   "source": [
    "df_train_clean[\"question1\"] = df_train_clean[\"question1\"].apply(clean_sentence)\n",
    "df_train_clean[\"question2\"] = df_train_clean[\"question2\"].apply(clean_sentence)"
   ]
  },
  {
   "cell_type": "code",
   "execution_count": 15,
   "metadata": {
    "collapsed": false
   },
   "outputs": [],
   "source": [
    "if (verbose):\n",
    "    df_train_clean[\"question1\"][10:20]"
   ]
  },
  {
   "cell_type": "markdown",
   "metadata": {},
   "source": [
    "## Look for common words"
   ]
  },
  {
   "cell_type": "code",
   "execution_count": 16,
   "metadata": {
    "collapsed": false
   },
   "outputs": [],
   "source": [
    "def commom_words(sentence1, sentence2):\n",
    "    \n",
    "    commonwords = [None] * len(sentence1)\n",
    "    \n",
    "    for i in range(len(sentence1)):\n",
    "        sameWords = set.intersection(set(sentence1[i].split(\" \")), set(sentence2[i].split(\" \")))\n",
    "        numberOfWords = len(sameWords)\n",
    "\n",
    "        commonwords[i] = sameWords\n",
    "    \n",
    "    return commonwords"
   ]
  },
  {
   "cell_type": "code",
   "execution_count": 17,
   "metadata": {
    "collapsed": false
   },
   "outputs": [],
   "source": [
    "#df_train_clean.reset_index(drop=True)\n",
    "#df_train_clean = df_train_clean.reindex(index=range(1, len(df_train_clean)), fill_value=0)\n",
    "#df_train_clean.loc[374] = pd.Series({'id':0, 'qid1':0, 'qid2':0, 'question1':\" \",'question2':\" \",'is_duplicate':0\n",
    "#                                    , 'lengthQ1':0,'lengthQ2':0 , 'Common':0})\n"
   ]
  },
  {
   "cell_type": "code",
   "execution_count": 18,
   "metadata": {
    "collapsed": false
   },
   "outputs": [
    {
     "data": {
      "text/plain": [
       "40429"
      ]
     },
     "execution_count": 18,
     "metadata": {},
     "output_type": "execute_result"
    }
   ],
   "source": [
    "len(df_train_clean)"
   ]
  },
  {
   "cell_type": "code",
   "execution_count": 19,
   "metadata": {
    "collapsed": false
   },
   "outputs": [],
   "source": [
    "#check the words that in common\n",
    "df_train_clean[\"Common\"]= commom_words(df_train_clean[\"question1\"],df_train_clean[\"question2\"])"
   ]
  },
  {
   "cell_type": "code",
   "execution_count": 20,
   "metadata": {
    "collapsed": false
   },
   "outputs": [],
   "source": [
    "#compute the number of common words\n",
    "df_train_clean[\"CommonLength\"] = df_train_clean[\"Common\"].apply(lambda x: len(x))"
   ]
  },
  {
   "cell_type": "code",
   "execution_count": 21,
   "metadata": {
    "collapsed": true
   },
   "outputs": [],
   "source": [
    "#compute the average length of share words\n",
    "def average_shared_length(length1, length2, shared):\n",
    "    \n",
    "    share_length = [None] * len(length1)\n",
    "    \n",
    "    for i in range(len(length1)):\n",
    "        # print shared[i+1]\n",
    "        if (float(length1[i]+length2[i])>0):\n",
    "            share_length[i] = float(shared[i])/float(length1[i]+length2[i])\n",
    "        else:\n",
    "            share_length[i] = 0\n",
    "\n",
    "    return share_length"
   ]
  },
  {
   "cell_type": "code",
   "execution_count": 22,
   "metadata": {
    "collapsed": false
   },
   "outputs": [],
   "source": [
    "df_train_clean[\"Shared\"]= average_shared_length(df_train_clean[\"lengthQ1\"],df_train_clean[\"lengthQ2\"],\n",
    "                                                df_train_clean[\"CommonLength\"])"
   ]
  },
  {
   "cell_type": "code",
   "execution_count": 23,
   "metadata": {
    "collapsed": false
   },
   "outputs": [
    {
     "data": {
      "text/html": [
       "<div>\n",
       "<table border=\"1\" class=\"dataframe\">\n",
       "  <thead>\n",
       "    <tr style=\"text-align: right;\">\n",
       "      <th></th>\n",
       "      <th>id</th>\n",
       "      <th>qid1</th>\n",
       "      <th>qid2</th>\n",
       "      <th>question1</th>\n",
       "      <th>question2</th>\n",
       "      <th>is_duplicate</th>\n",
       "      <th>lengthQ1</th>\n",
       "      <th>lengthQ2</th>\n",
       "      <th>Common</th>\n",
       "      <th>CommonLength</th>\n",
       "      <th>Shared</th>\n",
       "    </tr>\n",
       "  </thead>\n",
       "  <tbody>\n",
       "    <tr>\n",
       "      <th>0</th>\n",
       "      <td>143138</td>\n",
       "      <td>226851</td>\n",
       "      <td>226852</td>\n",
       "      <td>crush girl lives far away long relative</td>\n",
       "      <td>tell girl actually cares thinks lives far away</td>\n",
       "      <td>0</td>\n",
       "      <td>23</td>\n",
       "      <td>19</td>\n",
       "      <td>{far, away, lives, girl}</td>\n",
       "      <td>4</td>\n",
       "      <td>0.095238</td>\n",
       "    </tr>\n",
       "    <tr>\n",
       "      <th>1</th>\n",
       "      <td>236967</td>\n",
       "      <td>348022</td>\n",
       "      <td>348023</td>\n",
       "      <td>australia 100 million people powerful would ec...</td>\n",
       "      <td>abs go away eat carbs</td>\n",
       "      <td>0</td>\n",
       "      <td>15</td>\n",
       "      <td>10</td>\n",
       "      <td>{}</td>\n",
       "      <td>0</td>\n",
       "      <td>0.000000</td>\n",
       "    </tr>\n",
       "    <tr>\n",
       "      <th>2</th>\n",
       "      <td>140246</td>\n",
       "      <td>222901</td>\n",
       "      <td>222902</td>\n",
       "      <td>fundamental form truth</td>\n",
       "      <td>fundamental truth know</td>\n",
       "      <td>0</td>\n",
       "      <td>8</td>\n",
       "      <td>8</td>\n",
       "      <td>{fundamental, truth}</td>\n",
       "      <td>2</td>\n",
       "      <td>0.125000</td>\n",
       "    </tr>\n",
       "    <tr>\n",
       "      <th>3</th>\n",
       "      <td>31808</td>\n",
       "      <td>58616</td>\n",
       "      <td>58617</td>\n",
       "      <td>one better game development  python javascript</td>\n",
       "      <td>game development pygame one better good future</td>\n",
       "      <td>0</td>\n",
       "      <td>11</td>\n",
       "      <td>15</td>\n",
       "      <td>{development, better, game, one}</td>\n",
       "      <td>4</td>\n",
       "      <td>0.153846</td>\n",
       "    </tr>\n",
       "    <tr>\n",
       "      <th>4</th>\n",
       "      <td>292805</td>\n",
       "      <td>414466</td>\n",
       "      <td>414467</td>\n",
       "      <td>could female orgasm</td>\n",
       "      <td>get female orgasm</td>\n",
       "      <td>0</td>\n",
       "      <td>6</td>\n",
       "      <td>8</td>\n",
       "      <td>{orgasm, female}</td>\n",
       "      <td>2</td>\n",
       "      <td>0.142857</td>\n",
       "    </tr>\n",
       "  </tbody>\n",
       "</table>\n",
       "</div>"
      ],
      "text/plain": [
       "       id    qid1    qid2                                          question1  \\\n",
       "0  143138  226851  226852            crush girl lives far away long relative   \n",
       "1  236967  348022  348023  australia 100 million people powerful would ec...   \n",
       "2  140246  222901  222902                             fundamental form truth   \n",
       "3   31808   58616   58617     one better game development  python javascript   \n",
       "4  292805  414466  414467                                could female orgasm   \n",
       "\n",
       "                                        question2  is_duplicate  lengthQ1  \\\n",
       "0  tell girl actually cares thinks lives far away             0        23   \n",
       "1                           abs go away eat carbs             0        15   \n",
       "2                          fundamental truth know             0         8   \n",
       "3  game development pygame one better good future             0        11   \n",
       "4                               get female orgasm             0         6   \n",
       "\n",
       "   lengthQ2                            Common  CommonLength    Shared  \n",
       "0        19          {far, away, lives, girl}             4  0.095238  \n",
       "1        10                                {}             0  0.000000  \n",
       "2         8              {fundamental, truth}             2  0.125000  \n",
       "3        15  {development, better, game, one}             4  0.153846  \n",
       "4         8                  {orgasm, female}             2  0.142857  "
      ]
     },
     "execution_count": 23,
     "metadata": {},
     "output_type": "execute_result"
    }
   ],
   "source": [
    "df_train_clean.head()"
   ]
  },
  {
   "cell_type": "markdown",
   "metadata": {},
   "source": [
    "## Lemmatization\n",
    "\n",
    "(recheck position in preparation)"
   ]
  },
  {
   "cell_type": "code",
   "execution_count": 24,
   "metadata": {
    "collapsed": false
   },
   "outputs": [],
   "source": [
    "#let's do some stemming\n",
    "from nltk.stem.wordnet import WordNetLemmatizer\n",
    "lmtzr = WordNetLemmatizer()\n",
    "\n",
    "df_train_clean[\"question1\"] = df_train_clean[\"question1\"].apply(lmtzr.lemmatize)\n",
    "df_train_clean[\"question2\"] = df_train_clean[\"question2\"].apply(lmtzr.lemmatize)"
   ]
  },
  {
   "cell_type": "markdown",
   "metadata": {},
   "source": [
    "## Stemming"
   ]
  },
  {
   "cell_type": "code",
   "execution_count": 25,
   "metadata": {
    "collapsed": false
   },
   "outputs": [],
   "source": [
    "from nltk.stem.porter import PorterStemmer\n",
    "\n",
    "def stem_tokens(tokens):\n",
    " \n",
    "    porter_stemmer = PorterStemmer()\n",
    "    print tokens\n",
    "    wordList = re.sub(\"[^\\w]\", \" \",  tokens).split()\n",
    "    stemmed = []\n",
    "    for item in wordList:\n",
    "        #print item\n",
    "        stemmed.append(porter_stemmer.stem(item))\n",
    "    return stemmed\n",
    "\n",
    "execute = 0\n",
    "#a bit too long\n",
    "if (execute==1):\n",
    "    df_train_clean[\"question1\"] = df_train_clean[\"question1\"].apply(stem_tokens)\n",
    "    df_train_clean[\"question2\"] = df_train_clean[\"question2\"].apply(stem_tokens)"
   ]
  },
  {
   "cell_type": "code",
   "execution_count": 26,
   "metadata": {
    "collapsed": true
   },
   "outputs": [],
   "source": [
    "#explore possibility to fit training sampling to same proportion of duplicate as in test data back engineering tip)\n",
    "Resampling = 0\n",
    "if ( Resampling == 1):\n",
    "    train_X_dup = train_X[train_y==1]\n",
    "    train_X_non_dup = train_X[train_y==0]\n",
    "\n",
    "    train_X = np.vstack([train_X_non_dup, train_X_dup, train_X_non_dup, train_X_non_dup])\n",
    "    train_y = np.array([0]*train_X_non_dup.shape[0] + [1]*train_X_dup.shape[0] + [0]*train_X_non_dup.shape[0] + [0]*train_X_non_dup.shape[0])\n",
    "    del train_X_dup\n",
    "    del train_X_non_dup\n",
    "    print(\"Mean target rate : \",train_y.mean())"
   ]
  },
  {
   "cell_type": "markdown",
   "metadata": {},
   "source": [
    "## Compute lengths post-process"
   ]
  },
  {
   "cell_type": "code",
   "execution_count": 27,
   "metadata": {
    "collapsed": true
   },
   "outputs": [],
   "source": [
    "df_train_clean[\"lengthPP_Q1\"]= df_train_clean[\"question1\"].apply(compute_length)\n",
    "df_train_clean[\"lengthPP_Q2\"]= df_train_clean[\"question2\"].apply(compute_length)"
   ]
  },
  {
   "cell_type": "code",
   "execution_count": 28,
   "metadata": {
    "collapsed": false
   },
   "outputs": [],
   "source": [
    "df_train_clean[\"SharedPP\"]= average_shared_length(df_train_clean[\"lengthPP_Q1\"],df_train_clean[\"lengthPP_Q2\"],\n",
    "                                                df_train_clean[\"CommonLength\"])"
   ]
  },
  {
   "cell_type": "code",
   "execution_count": 29,
   "metadata": {
    "collapsed": false
   },
   "outputs": [
    {
     "data": {
      "text/html": [
       "<div>\n",
       "<table border=\"1\" class=\"dataframe\">\n",
       "  <thead>\n",
       "    <tr style=\"text-align: right;\">\n",
       "      <th></th>\n",
       "      <th>id</th>\n",
       "      <th>qid1</th>\n",
       "      <th>qid2</th>\n",
       "      <th>question1</th>\n",
       "      <th>question2</th>\n",
       "      <th>is_duplicate</th>\n",
       "      <th>lengthQ1</th>\n",
       "      <th>lengthQ2</th>\n",
       "      <th>Common</th>\n",
       "      <th>CommonLength</th>\n",
       "      <th>Shared</th>\n",
       "      <th>lengthPP_Q1</th>\n",
       "      <th>lengthPP_Q2</th>\n",
       "      <th>SharedPP</th>\n",
       "    </tr>\n",
       "  </thead>\n",
       "  <tbody>\n",
       "    <tr>\n",
       "      <th>0</th>\n",
       "      <td>143138</td>\n",
       "      <td>226851</td>\n",
       "      <td>226852</td>\n",
       "      <td>crush girl lives far away long relative</td>\n",
       "      <td>tell girl actually cares thinks lives far away</td>\n",
       "      <td>0</td>\n",
       "      <td>23</td>\n",
       "      <td>19</td>\n",
       "      <td>{far, away, lives, girl}</td>\n",
       "      <td>4</td>\n",
       "      <td>0.095238</td>\n",
       "      <td>7</td>\n",
       "      <td>8</td>\n",
       "      <td>0.266667</td>\n",
       "    </tr>\n",
       "    <tr>\n",
       "      <th>1</th>\n",
       "      <td>236967</td>\n",
       "      <td>348022</td>\n",
       "      <td>348023</td>\n",
       "      <td>australia 100 million people powerful would ec...</td>\n",
       "      <td>abs go away eat carbs</td>\n",
       "      <td>0</td>\n",
       "      <td>15</td>\n",
       "      <td>10</td>\n",
       "      <td>{}</td>\n",
       "      <td>0</td>\n",
       "      <td>0.000000</td>\n",
       "      <td>9</td>\n",
       "      <td>5</td>\n",
       "      <td>0.000000</td>\n",
       "    </tr>\n",
       "    <tr>\n",
       "      <th>2</th>\n",
       "      <td>140246</td>\n",
       "      <td>222901</td>\n",
       "      <td>222902</td>\n",
       "      <td>fundamental form truth</td>\n",
       "      <td>fundamental truth know</td>\n",
       "      <td>0</td>\n",
       "      <td>8</td>\n",
       "      <td>8</td>\n",
       "      <td>{fundamental, truth}</td>\n",
       "      <td>2</td>\n",
       "      <td>0.125000</td>\n",
       "      <td>3</td>\n",
       "      <td>3</td>\n",
       "      <td>0.333333</td>\n",
       "    </tr>\n",
       "    <tr>\n",
       "      <th>3</th>\n",
       "      <td>31808</td>\n",
       "      <td>58616</td>\n",
       "      <td>58617</td>\n",
       "      <td>one better game development  python javascript</td>\n",
       "      <td>game development pygame one better good future</td>\n",
       "      <td>0</td>\n",
       "      <td>11</td>\n",
       "      <td>15</td>\n",
       "      <td>{development, better, game, one}</td>\n",
       "      <td>4</td>\n",
       "      <td>0.153846</td>\n",
       "      <td>7</td>\n",
       "      <td>7</td>\n",
       "      <td>0.285714</td>\n",
       "    </tr>\n",
       "    <tr>\n",
       "      <th>4</th>\n",
       "      <td>292805</td>\n",
       "      <td>414466</td>\n",
       "      <td>414467</td>\n",
       "      <td>could female orgasm</td>\n",
       "      <td>get female orgasm</td>\n",
       "      <td>0</td>\n",
       "      <td>6</td>\n",
       "      <td>8</td>\n",
       "      <td>{orgasm, female}</td>\n",
       "      <td>2</td>\n",
       "      <td>0.142857</td>\n",
       "      <td>3</td>\n",
       "      <td>3</td>\n",
       "      <td>0.333333</td>\n",
       "    </tr>\n",
       "  </tbody>\n",
       "</table>\n",
       "</div>"
      ],
      "text/plain": [
       "       id    qid1    qid2                                          question1  \\\n",
       "0  143138  226851  226852            crush girl lives far away long relative   \n",
       "1  236967  348022  348023  australia 100 million people powerful would ec...   \n",
       "2  140246  222901  222902                             fundamental form truth   \n",
       "3   31808   58616   58617     one better game development  python javascript   \n",
       "4  292805  414466  414467                                could female orgasm   \n",
       "\n",
       "                                        question2  is_duplicate  lengthQ1  \\\n",
       "0  tell girl actually cares thinks lives far away             0        23   \n",
       "1                           abs go away eat carbs             0        15   \n",
       "2                          fundamental truth know             0         8   \n",
       "3  game development pygame one better good future             0        11   \n",
       "4                               get female orgasm             0         6   \n",
       "\n",
       "   lengthQ2                            Common  CommonLength    Shared  \\\n",
       "0        19          {far, away, lives, girl}             4  0.095238   \n",
       "1        10                                {}             0  0.000000   \n",
       "2         8              {fundamental, truth}             2  0.125000   \n",
       "3        15  {development, better, game, one}             4  0.153846   \n",
       "4         8                  {orgasm, female}             2  0.142857   \n",
       "\n",
       "   lengthPP_Q1  lengthPP_Q2  SharedPP  \n",
       "0            7            8  0.266667  \n",
       "1            9            5  0.000000  \n",
       "2            3            3  0.333333  \n",
       "3            7            7  0.285714  \n",
       "4            3            3  0.333333  "
      ]
     },
     "execution_count": 29,
     "metadata": {},
     "output_type": "execute_result"
    }
   ],
   "source": [
    "#sanity check\n",
    "df_train_clean.head()"
   ]
  },
  {
   "cell_type": "markdown",
   "metadata": {},
   "source": [
    "## Build a word 2 vec Model"
   ]
  },
  {
   "cell_type": "code",
   "execution_count": 30,
   "metadata": {
    "collapsed": false
   },
   "outputs": [],
   "source": [
    "def build_corpus(data):\n",
    "    \"Creates a list of lists containing words from each sentence\"\n",
    "    corpus = []\n",
    "    for col in ['question1', 'question2']:\n",
    "        for sentence in data[col].iteritems():\n",
    "            word_list = sentence[1].split(\" \")\n",
    "            corpus.append(word_list)\n",
    "            \n",
    "    return corpus\n",
    "\n",
    "corpus = build_corpus(df_train_clean)        \n"
   ]
  },
  {
   "cell_type": "code",
   "execution_count": 31,
   "metadata": {
    "collapsed": false
   },
   "outputs": [],
   "source": [
    "from gensim.models import Word2Vec\n",
    "min_count = 2\n",
    "size = 100\n",
    "window = 4\n",
    " \n",
    "model = Word2Vec(corpus, min_count=min_count, size=size, window=window)\n"
   ]
  },
  {
   "cell_type": "code",
   "execution_count": 32,
   "metadata": {
    "collapsed": false
   },
   "outputs": [
    {
     "data": {
      "text/plain": [
       "0.98291404218320622"
      ]
     },
     "execution_count": 32,
     "metadata": {},
     "output_type": "execute_result"
    }
   ],
   "source": [
    "model.similarity(\"guy\",\"girl\")"
   ]
  },
  {
   "cell_type": "markdown",
   "metadata": {},
   "source": [
    "##### Keep note : model may be over fitting as we used to have a lower similarity while using the full corpus"
   ]
  },
  {
   "cell_type": "markdown",
   "metadata": {},
   "source": [
    "### compute cosine similarity between two questions\n",
    "\n",
    "for each questions, we will compute the vector for each word then we will sum all the vectors and will take the average value as the length of each questions maye be different and will compare the results of one question against the other to determine the cosine similarity"
   ]
  },
  {
   "cell_type": "code",
   "execution_count": 33,
   "metadata": {
    "collapsed": false
   },
   "outputs": [],
   "source": [
    "def avg_feature_vector(words, model, num_features, index2word_set):\n",
    "        #function to average all words vectors in a given paragraph\n",
    "        featureVec = np.zeros((num_features,), dtype=\"float32\")\n",
    "        nwords = 0\n",
    "        #print words\n",
    "        #wordList = re.sub(\"[^\\w]\", \" \",  words[1]).split()\n",
    "        wordList = words.split()\n",
    "        #list containing names of words in the vocabulary\n",
    "        for word in wordList:\n",
    "            if word in index2word_set:\n",
    "                nwords = nwords+1\n",
    "                featureVec = np.add(featureVec, model[word])\n",
    "                \n",
    "        if(nwords>0):\n",
    "            featureVec = np.divide(featureVec, nwords)\n",
    "        return featureVec"
   ]
  },
  {
   "cell_type": "code",
   "execution_count": 38,
   "metadata": {
    "collapsed": false
   },
   "outputs": [],
   "source": [
    "from scipy import spatial\n",
    "\n",
    "def computeCosine(df1,df2):\n",
    "    cosineSimilarity = [None] * len(df1)\n",
    "    \n",
    "    for i in range(len(df1)):\n",
    "        sentence_1_avg_vector = avg_feature_vector(df1[i], model, size, model.wv.index2word)\n",
    "        sentence_2_avg_vector = avg_feature_vector(df2[i], model, size, model.wv.index2word)\n",
    "        cosineSimilarity[i] =  1 - spatial.distance.cosine(sentence_1_avg_vector,sentence_2_avg_vector)\n",
    " \n",
    "    return cosineSimilarity"
   ]
  },
  {
   "cell_type": "code",
   "execution_count": 39,
   "metadata": {
    "collapsed": false
   },
   "outputs": [],
   "source": [
    "#useful to re-initialize while developping\n",
    "df_train_clean[\"cosine\"] = 0"
   ]
  },
  {
   "cell_type": "code",
   "execution_count": 40,
   "metadata": {
    "collapsed": false
   },
   "outputs": [
    {
     "data": {
      "text/html": [
       "<div>\n",
       "<table border=\"1\" class=\"dataframe\">\n",
       "  <thead>\n",
       "    <tr style=\"text-align: right;\">\n",
       "      <th></th>\n",
       "      <th>id</th>\n",
       "      <th>qid1</th>\n",
       "      <th>qid2</th>\n",
       "      <th>question1</th>\n",
       "      <th>question2</th>\n",
       "      <th>is_duplicate</th>\n",
       "      <th>lengthQ1</th>\n",
       "      <th>lengthQ2</th>\n",
       "      <th>Common</th>\n",
       "      <th>CommonLength</th>\n",
       "      <th>Shared</th>\n",
       "      <th>lengthPP_Q1</th>\n",
       "      <th>lengthPP_Q2</th>\n",
       "      <th>SharedPP</th>\n",
       "      <th>cosine</th>\n",
       "    </tr>\n",
       "  </thead>\n",
       "  <tbody>\n",
       "    <tr>\n",
       "      <th>0</th>\n",
       "      <td>143138</td>\n",
       "      <td>226851</td>\n",
       "      <td>226852</td>\n",
       "      <td>crush girl lives far away long relative</td>\n",
       "      <td>tell girl actually cares thinks lives far away</td>\n",
       "      <td>0</td>\n",
       "      <td>23</td>\n",
       "      <td>19</td>\n",
       "      <td>{far, away, lives, girl}</td>\n",
       "      <td>4</td>\n",
       "      <td>0.095238</td>\n",
       "      <td>7</td>\n",
       "      <td>8</td>\n",
       "      <td>0.266667</td>\n",
       "      <td>0</td>\n",
       "    </tr>\n",
       "    <tr>\n",
       "      <th>1</th>\n",
       "      <td>236967</td>\n",
       "      <td>348022</td>\n",
       "      <td>348023</td>\n",
       "      <td>australia 100 million people powerful would ec...</td>\n",
       "      <td>abs go away eat carbs</td>\n",
       "      <td>0</td>\n",
       "      <td>15</td>\n",
       "      <td>10</td>\n",
       "      <td>{}</td>\n",
       "      <td>0</td>\n",
       "      <td>0.000000</td>\n",
       "      <td>9</td>\n",
       "      <td>5</td>\n",
       "      <td>0.000000</td>\n",
       "      <td>0</td>\n",
       "    </tr>\n",
       "    <tr>\n",
       "      <th>2</th>\n",
       "      <td>140246</td>\n",
       "      <td>222901</td>\n",
       "      <td>222902</td>\n",
       "      <td>fundamental form truth</td>\n",
       "      <td>fundamental truth know</td>\n",
       "      <td>0</td>\n",
       "      <td>8</td>\n",
       "      <td>8</td>\n",
       "      <td>{fundamental, truth}</td>\n",
       "      <td>2</td>\n",
       "      <td>0.125000</td>\n",
       "      <td>3</td>\n",
       "      <td>3</td>\n",
       "      <td>0.333333</td>\n",
       "      <td>0</td>\n",
       "    </tr>\n",
       "    <tr>\n",
       "      <th>3</th>\n",
       "      <td>31808</td>\n",
       "      <td>58616</td>\n",
       "      <td>58617</td>\n",
       "      <td>one better game development  python javascript</td>\n",
       "      <td>game development pygame one better good future</td>\n",
       "      <td>0</td>\n",
       "      <td>11</td>\n",
       "      <td>15</td>\n",
       "      <td>{development, better, game, one}</td>\n",
       "      <td>4</td>\n",
       "      <td>0.153846</td>\n",
       "      <td>7</td>\n",
       "      <td>7</td>\n",
       "      <td>0.285714</td>\n",
       "      <td>0</td>\n",
       "    </tr>\n",
       "    <tr>\n",
       "      <th>4</th>\n",
       "      <td>292805</td>\n",
       "      <td>414466</td>\n",
       "      <td>414467</td>\n",
       "      <td>could female orgasm</td>\n",
       "      <td>get female orgasm</td>\n",
       "      <td>0</td>\n",
       "      <td>6</td>\n",
       "      <td>8</td>\n",
       "      <td>{orgasm, female}</td>\n",
       "      <td>2</td>\n",
       "      <td>0.142857</td>\n",
       "      <td>3</td>\n",
       "      <td>3</td>\n",
       "      <td>0.333333</td>\n",
       "      <td>0</td>\n",
       "    </tr>\n",
       "  </tbody>\n",
       "</table>\n",
       "</div>"
      ],
      "text/plain": [
       "       id    qid1    qid2                                          question1  \\\n",
       "0  143138  226851  226852            crush girl lives far away long relative   \n",
       "1  236967  348022  348023  australia 100 million people powerful would ec...   \n",
       "2  140246  222901  222902                             fundamental form truth   \n",
       "3   31808   58616   58617     one better game development  python javascript   \n",
       "4  292805  414466  414467                                could female orgasm   \n",
       "\n",
       "                                        question2  is_duplicate  lengthQ1  \\\n",
       "0  tell girl actually cares thinks lives far away             0        23   \n",
       "1                           abs go away eat carbs             0        15   \n",
       "2                          fundamental truth know             0         8   \n",
       "3  game development pygame one better good future             0        11   \n",
       "4                               get female orgasm             0         6   \n",
       "\n",
       "   lengthQ2                            Common  CommonLength    Shared  \\\n",
       "0        19          {far, away, lives, girl}             4  0.095238   \n",
       "1        10                                {}             0  0.000000   \n",
       "2         8              {fundamental, truth}             2  0.125000   \n",
       "3        15  {development, better, game, one}             4  0.153846   \n",
       "4         8                  {orgasm, female}             2  0.142857   \n",
       "\n",
       "   lengthPP_Q1  lengthPP_Q2  SharedPP  cosine  \n",
       "0            7            8  0.266667       0  \n",
       "1            9            5  0.000000       0  \n",
       "2            3            3  0.333333       0  \n",
       "3            7            7  0.285714       0  \n",
       "4            3            3  0.333333       0  "
      ]
     },
     "execution_count": 40,
     "metadata": {},
     "output_type": "execute_result"
    }
   ],
   "source": [
    "df_train_clean.head()"
   ]
  },
  {
   "cell_type": "code",
   "execution_count": 41,
   "metadata": {
    "collapsed": false
   },
   "outputs": [],
   "source": [
    "#for i in range(len(df_train_clean)):\n",
    "df_train_clean[\"cosine\"] = computeCosine(df_train_clean[\"question1\"],df_train_clean[\"question2\"])"
   ]
  },
  {
   "cell_type": "code",
   "execution_count": 43,
   "metadata": {
    "collapsed": false
   },
   "outputs": [
    {
     "data": {
      "text/html": [
       "<div>\n",
       "<table border=\"1\" class=\"dataframe\">\n",
       "  <thead>\n",
       "    <tr style=\"text-align: right;\">\n",
       "      <th></th>\n",
       "      <th>id</th>\n",
       "      <th>qid1</th>\n",
       "      <th>qid2</th>\n",
       "      <th>question1</th>\n",
       "      <th>question2</th>\n",
       "      <th>is_duplicate</th>\n",
       "      <th>lengthQ1</th>\n",
       "      <th>lengthQ2</th>\n",
       "      <th>Common</th>\n",
       "      <th>CommonLength</th>\n",
       "      <th>Shared</th>\n",
       "      <th>lengthPP_Q1</th>\n",
       "      <th>lengthPP_Q2</th>\n",
       "      <th>SharedPP</th>\n",
       "      <th>cosine</th>\n",
       "    </tr>\n",
       "  </thead>\n",
       "  <tbody>\n",
       "    <tr>\n",
       "      <th>412</th>\n",
       "      <td>322863</td>\n",
       "      <td>448745</td>\n",
       "      <td>448746</td>\n",
       "      <td>scabs paws</td>\n",
       "      <td>scab</td>\n",
       "      <td>0</td>\n",
       "      <td>9</td>\n",
       "      <td>10</td>\n",
       "      <td>{scabs}</td>\n",
       "      <td>1</td>\n",
       "      <td>0.052632</td>\n",
       "      <td>2</td>\n",
       "      <td>1</td>\n",
       "      <td>0.333333</td>\n",
       "      <td>NaN</td>\n",
       "    </tr>\n",
       "    <tr>\n",
       "      <th>623</th>\n",
       "      <td>73266</td>\n",
       "      <td>125739</td>\n",
       "      <td>125740</td>\n",
       "      <td>spelling right ninety ninty nineteen ninteen</td>\n",
       "      <td>vicepresident spelled</td>\n",
       "      <td>0</td>\n",
       "      <td>10</td>\n",
       "      <td>4</td>\n",
       "      <td>{}</td>\n",
       "      <td>0</td>\n",
       "      <td>0.000000</td>\n",
       "      <td>6</td>\n",
       "      <td>2</td>\n",
       "      <td>0.000000</td>\n",
       "      <td>NaN</td>\n",
       "    </tr>\n",
       "    <tr>\n",
       "      <th>657</th>\n",
       "      <td>271009</td>\n",
       "      <td>389008</td>\n",
       "      <td>389009</td>\n",
       "      <td>ebizz</td>\n",
       "      <td>ebizcom</td>\n",
       "      <td>0</td>\n",
       "      <td>3</td>\n",
       "      <td>3</td>\n",
       "      <td>{}</td>\n",
       "      <td>0</td>\n",
       "      <td>0.000000</td>\n",
       "      <td>1</td>\n",
       "      <td>1</td>\n",
       "      <td>0.000000</td>\n",
       "      <td>NaN</td>\n",
       "    </tr>\n",
       "    <tr>\n",
       "      <th>887</th>\n",
       "      <td>270849</td>\n",
       "      <td>388811</td>\n",
       "      <td>388812</td>\n",
       "      <td>thrill</td>\n",
       "      <td>thrilling mean</td>\n",
       "      <td>0</td>\n",
       "      <td>3</td>\n",
       "      <td>6</td>\n",
       "      <td>{}</td>\n",
       "      <td>0</td>\n",
       "      <td>0.000000</td>\n",
       "      <td>1</td>\n",
       "      <td>2</td>\n",
       "      <td>0.000000</td>\n",
       "      <td>NaN</td>\n",
       "    </tr>\n",
       "    <tr>\n",
       "      <th>1022</th>\n",
       "      <td>248024</td>\n",
       "      <td>585</td>\n",
       "      <td>244694</td>\n",
       "      <td>bestmytestcom</td>\n",
       "      <td>paypalcornercom</td>\n",
       "      <td>0</td>\n",
       "      <td>3</td>\n",
       "      <td>3</td>\n",
       "      <td>{}</td>\n",
       "      <td>0</td>\n",
       "      <td>0.000000</td>\n",
       "      <td>1</td>\n",
       "      <td>1</td>\n",
       "      <td>0.000000</td>\n",
       "      <td>NaN</td>\n",
       "    </tr>\n",
       "  </tbody>\n",
       "</table>\n",
       "</div>"
      ],
      "text/plain": [
       "          id    qid1    qid2                                     question1  \\\n",
       "412   322863  448745  448746                                    scabs paws   \n",
       "623    73266  125739  125740  spelling right ninety ninty nineteen ninteen   \n",
       "657   271009  389008  389009                                         ebizz   \n",
       "887   270849  388811  388812                                        thrill   \n",
       "1022  248024     585  244694                                 bestmytestcom   \n",
       "\n",
       "                  question2  is_duplicate  lengthQ1  lengthQ2   Common  \\\n",
       "412                    scab             0         9        10  {scabs}   \n",
       "623   vicepresident spelled             0        10         4       {}   \n",
       "657                 ebizcom             0         3         3       {}   \n",
       "887          thrilling mean             0         3         6       {}   \n",
       "1022        paypalcornercom             0         3         3       {}   \n",
       "\n",
       "      CommonLength    Shared  lengthPP_Q1  lengthPP_Q2  SharedPP  cosine  \n",
       "412              1  0.052632            2            1  0.333333     NaN  \n",
       "623              0  0.000000            6            2  0.000000     NaN  \n",
       "657              0  0.000000            1            1  0.000000     NaN  \n",
       "887              0  0.000000            1            2  0.000000     NaN  \n",
       "1022             0  0.000000            1            1  0.000000     NaN  "
      ]
     },
     "execution_count": 43,
     "metadata": {},
     "output_type": "execute_result"
    }
   ],
   "source": [
    "df_train_clean[df_train_clean[\"cosine\"].isnull()].head()"
   ]
  },
  {
   "cell_type": "code",
   "execution_count": 44,
   "metadata": {
    "collapsed": true
   },
   "outputs": [],
   "source": [
    "df_train_clean[\"cosine\"].fillna(0, inplace=True)"
   ]
  },
  {
   "cell_type": "code",
   "execution_count": 45,
   "metadata": {
    "collapsed": false
   },
   "outputs": [
    {
     "data": {
      "text/html": [
       "<div>\n",
       "<table border=\"1\" class=\"dataframe\">\n",
       "  <thead>\n",
       "    <tr style=\"text-align: right;\">\n",
       "      <th></th>\n",
       "      <th>id</th>\n",
       "      <th>qid1</th>\n",
       "      <th>qid2</th>\n",
       "      <th>question1</th>\n",
       "      <th>question2</th>\n",
       "      <th>is_duplicate</th>\n",
       "      <th>lengthQ1</th>\n",
       "      <th>lengthQ2</th>\n",
       "      <th>Common</th>\n",
       "      <th>CommonLength</th>\n",
       "      <th>Shared</th>\n",
       "      <th>lengthPP_Q1</th>\n",
       "      <th>lengthPP_Q2</th>\n",
       "      <th>SharedPP</th>\n",
       "      <th>cosine</th>\n",
       "    </tr>\n",
       "  </thead>\n",
       "  <tbody>\n",
       "    <tr>\n",
       "      <th>0</th>\n",
       "      <td>143138</td>\n",
       "      <td>226851</td>\n",
       "      <td>226852</td>\n",
       "      <td>crush girl lives far away long relative</td>\n",
       "      <td>tell girl actually cares thinks lives far away</td>\n",
       "      <td>0</td>\n",
       "      <td>23</td>\n",
       "      <td>19</td>\n",
       "      <td>{far, away, lives, girl}</td>\n",
       "      <td>4</td>\n",
       "      <td>0.095238</td>\n",
       "      <td>7</td>\n",
       "      <td>8</td>\n",
       "      <td>0.266667</td>\n",
       "      <td>0.985668</td>\n",
       "    </tr>\n",
       "    <tr>\n",
       "      <th>1</th>\n",
       "      <td>236967</td>\n",
       "      <td>348022</td>\n",
       "      <td>348023</td>\n",
       "      <td>australia 100 million people powerful would ec...</td>\n",
       "      <td>abs go away eat carbs</td>\n",
       "      <td>0</td>\n",
       "      <td>15</td>\n",
       "      <td>10</td>\n",
       "      <td>{}</td>\n",
       "      <td>0</td>\n",
       "      <td>0.000000</td>\n",
       "      <td>9</td>\n",
       "      <td>5</td>\n",
       "      <td>0.000000</td>\n",
       "      <td>0.928768</td>\n",
       "    </tr>\n",
       "    <tr>\n",
       "      <th>2</th>\n",
       "      <td>140246</td>\n",
       "      <td>222901</td>\n",
       "      <td>222902</td>\n",
       "      <td>fundamental form truth</td>\n",
       "      <td>fundamental truth know</td>\n",
       "      <td>0</td>\n",
       "      <td>8</td>\n",
       "      <td>8</td>\n",
       "      <td>{fundamental, truth}</td>\n",
       "      <td>2</td>\n",
       "      <td>0.125000</td>\n",
       "      <td>3</td>\n",
       "      <td>3</td>\n",
       "      <td>0.333333</td>\n",
       "      <td>0.857830</td>\n",
       "    </tr>\n",
       "    <tr>\n",
       "      <th>3</th>\n",
       "      <td>31808</td>\n",
       "      <td>58616</td>\n",
       "      <td>58617</td>\n",
       "      <td>one better game development  python javascript</td>\n",
       "      <td>game development pygame one better good future</td>\n",
       "      <td>0</td>\n",
       "      <td>11</td>\n",
       "      <td>15</td>\n",
       "      <td>{development, better, game, one}</td>\n",
       "      <td>4</td>\n",
       "      <td>0.153846</td>\n",
       "      <td>7</td>\n",
       "      <td>7</td>\n",
       "      <td>0.285714</td>\n",
       "      <td>0.980470</td>\n",
       "    </tr>\n",
       "    <tr>\n",
       "      <th>4</th>\n",
       "      <td>292805</td>\n",
       "      <td>414466</td>\n",
       "      <td>414467</td>\n",
       "      <td>could female orgasm</td>\n",
       "      <td>get female orgasm</td>\n",
       "      <td>0</td>\n",
       "      <td>6</td>\n",
       "      <td>8</td>\n",
       "      <td>{orgasm, female}</td>\n",
       "      <td>2</td>\n",
       "      <td>0.142857</td>\n",
       "      <td>3</td>\n",
       "      <td>3</td>\n",
       "      <td>0.333333</td>\n",
       "      <td>0.818138</td>\n",
       "    </tr>\n",
       "  </tbody>\n",
       "</table>\n",
       "</div>"
      ],
      "text/plain": [
       "       id    qid1    qid2                                          question1  \\\n",
       "0  143138  226851  226852            crush girl lives far away long relative   \n",
       "1  236967  348022  348023  australia 100 million people powerful would ec...   \n",
       "2  140246  222901  222902                             fundamental form truth   \n",
       "3   31808   58616   58617     one better game development  python javascript   \n",
       "4  292805  414466  414467                                could female orgasm   \n",
       "\n",
       "                                        question2  is_duplicate  lengthQ1  \\\n",
       "0  tell girl actually cares thinks lives far away             0        23   \n",
       "1                           abs go away eat carbs             0        15   \n",
       "2                          fundamental truth know             0         8   \n",
       "3  game development pygame one better good future             0        11   \n",
       "4                               get female orgasm             0         6   \n",
       "\n",
       "   lengthQ2                            Common  CommonLength    Shared  \\\n",
       "0        19          {far, away, lives, girl}             4  0.095238   \n",
       "1        10                                {}             0  0.000000   \n",
       "2         8              {fundamental, truth}             2  0.125000   \n",
       "3        15  {development, better, game, one}             4  0.153846   \n",
       "4         8                  {orgasm, female}             2  0.142857   \n",
       "\n",
       "   lengthPP_Q1  lengthPP_Q2  SharedPP    cosine  \n",
       "0            7            8  0.266667  0.985668  \n",
       "1            9            5  0.000000  0.928768  \n",
       "2            3            3  0.333333  0.857830  \n",
       "3            7            7  0.285714  0.980470  \n",
       "4            3            3  0.333333  0.818138  "
      ]
     },
     "execution_count": 45,
     "metadata": {},
     "output_type": "execute_result"
    }
   ],
   "source": [
    "df_train_clean.head()"
   ]
  },
  {
   "cell_type": "markdown",
   "metadata": {},
   "source": [
    "### check with pre-trained corpus as well\n",
    "time allowing, it may be interesting to use a pre-trained corpus on a much larger data set"
   ]
  },
  {
   "cell_type": "code",
   "execution_count": 46,
   "metadata": {
    "collapsed": true
   },
   "outputs": [],
   "source": [
    "# Load Google's pre-trained Word2Vec model.\n",
    "#model2 = gensim.models.Word2Vec.load_word2vec_format('./model/GoogleNews-vectors-negative300.bin', binary=True)  "
   ]
  },
  {
   "cell_type": "markdown",
   "metadata": {},
   "source": [
    "### check use of TF-IDF\n",
    "\n",
    "time allowing probably with not have too much used due too much sparsity"
   ]
  },
  {
   "cell_type": "code",
   "execution_count": 47,
   "metadata": {
    "collapsed": false
   },
   "outputs": [],
   "source": [
    "#tfidf = models.TfidfModel(corpus)"
   ]
  },
  {
   "cell_type": "markdown",
   "metadata": {
    "collapsed": false
   },
   "source": [
    "### explore possibility to re-sample \n",
    "\n",
    "various duplicate density in training vs test may impact outcome positively - time allowing"
   ]
  },
  {
   "cell_type": "markdown",
   "metadata": {
    "collapsed": true
   },
   "source": [
    "# Apply Model"
   ]
  },
  {
   "cell_type": "markdown",
   "metadata": {},
   "source": [
    "### Scale the data"
   ]
  },
  {
   "cell_type": "code",
   "execution_count": 48,
   "metadata": {
    "collapsed": false
   },
   "outputs": [
    {
     "data": {
      "text/plain": [
       "Index([u'id', u'qid1', u'qid2', u'question1', u'question2', u'is_duplicate',\n",
       "       u'lengthQ1', u'lengthQ2', u'Common', u'CommonLength', u'Shared',\n",
       "       u'lengthPP_Q1', u'lengthPP_Q2', u'SharedPP', u'cosine'],\n",
       "      dtype='object')"
      ]
     },
     "execution_count": 48,
     "metadata": {},
     "output_type": "execute_result"
    }
   ],
   "source": [
    "df_train_clean.columns"
   ]
  },
  {
   "cell_type": "code",
   "execution_count": 116,
   "metadata": {
    "collapsed": false
   },
   "outputs": [],
   "source": [
    "from sklearn.preprocessing import MinMaxScaler\n",
    "scaler = MinMaxScaler()\n",
    "\n",
    "\n",
    "list_of_Numeric_fields= ['lengthQ1', 'lengthQ2',\n",
    "                         'CommonLength','Shared', \n",
    "                         'cosine', 'lengthPP_Q1', \n",
    "                         'lengthPP_Q2','SharedPP']\n",
    "\n"
   ]
  },
  {
   "cell_type": "code",
   "execution_count": 117,
   "metadata": {
    "collapsed": false
   },
   "outputs": [
    {
     "data": {
      "text/html": [
       "<div>\n",
       "<table border=\"1\" class=\"dataframe\">\n",
       "  <thead>\n",
       "    <tr style=\"text-align: right;\">\n",
       "      <th></th>\n",
       "      <th>lengthQ1</th>\n",
       "      <th>lengthQ2</th>\n",
       "      <th>CommonLength</th>\n",
       "      <th>Shared</th>\n",
       "      <th>cosine</th>\n",
       "      <th>lengthPP_Q1</th>\n",
       "      <th>lengthPP_Q2</th>\n",
       "      <th>SharedPP</th>\n",
       "    </tr>\n",
       "  </thead>\n",
       "  <tbody>\n",
       "    <tr>\n",
       "      <th>0</th>\n",
       "      <td>23</td>\n",
       "      <td>19</td>\n",
       "      <td>4</td>\n",
       "      <td>0.095238</td>\n",
       "      <td>0.985668</td>\n",
       "      <td>7</td>\n",
       "      <td>8</td>\n",
       "      <td>0.266667</td>\n",
       "    </tr>\n",
       "    <tr>\n",
       "      <th>1</th>\n",
       "      <td>15</td>\n",
       "      <td>10</td>\n",
       "      <td>0</td>\n",
       "      <td>0.000000</td>\n",
       "      <td>0.928768</td>\n",
       "      <td>9</td>\n",
       "      <td>5</td>\n",
       "      <td>0.000000</td>\n",
       "    </tr>\n",
       "    <tr>\n",
       "      <th>2</th>\n",
       "      <td>8</td>\n",
       "      <td>8</td>\n",
       "      <td>2</td>\n",
       "      <td>0.125000</td>\n",
       "      <td>0.857830</td>\n",
       "      <td>3</td>\n",
       "      <td>3</td>\n",
       "      <td>0.333333</td>\n",
       "    </tr>\n",
       "    <tr>\n",
       "      <th>3</th>\n",
       "      <td>11</td>\n",
       "      <td>15</td>\n",
       "      <td>4</td>\n",
       "      <td>0.153846</td>\n",
       "      <td>0.980470</td>\n",
       "      <td>7</td>\n",
       "      <td>7</td>\n",
       "      <td>0.285714</td>\n",
       "    </tr>\n",
       "    <tr>\n",
       "      <th>4</th>\n",
       "      <td>6</td>\n",
       "      <td>8</td>\n",
       "      <td>2</td>\n",
       "      <td>0.142857</td>\n",
       "      <td>0.818138</td>\n",
       "      <td>3</td>\n",
       "      <td>3</td>\n",
       "      <td>0.333333</td>\n",
       "    </tr>\n",
       "  </tbody>\n",
       "</table>\n",
       "</div>"
      ],
      "text/plain": [
       "   lengthQ1  lengthQ2  CommonLength    Shared    cosine  lengthPP_Q1  \\\n",
       "0        23        19             4  0.095238  0.985668            7   \n",
       "1        15        10             0  0.000000  0.928768            9   \n",
       "2         8         8             2  0.125000  0.857830            3   \n",
       "3        11        15             4  0.153846  0.980470            7   \n",
       "4         6         8             2  0.142857  0.818138            3   \n",
       "\n",
       "   lengthPP_Q2  SharedPP  \n",
       "0            8  0.266667  \n",
       "1            5  0.000000  \n",
       "2            3  0.333333  \n",
       "3            7  0.285714  \n",
       "4            3  0.333333  "
      ]
     },
     "execution_count": 117,
     "metadata": {},
     "output_type": "execute_result"
    }
   ],
   "source": [
    "df_train_clean[list_of_Numeric_fields].head()"
   ]
  },
  {
   "cell_type": "code",
   "execution_count": 118,
   "metadata": {
    "collapsed": false
   },
   "outputs": [
    {
     "data": {
      "text/plain": [
       "0.42857142857142855"
      ]
     },
     "execution_count": 118,
     "metadata": {},
     "output_type": "execute_result"
    }
   ],
   "source": [
    "df_train_clean[\"Shared\"].max()"
   ]
  },
  {
   "cell_type": "code",
   "execution_count": 119,
   "metadata": {
    "collapsed": true
   },
   "outputs": [],
   "source": [
    "df_test = df_train_clean.copy()"
   ]
  },
  {
   "cell_type": "code",
   "execution_count": 120,
   "metadata": {
    "collapsed": false
   },
   "outputs": [
    {
     "data": {
      "text/html": [
       "<div>\n",
       "<table border=\"1\" class=\"dataframe\">\n",
       "  <thead>\n",
       "    <tr style=\"text-align: right;\">\n",
       "      <th></th>\n",
       "      <th>lengthQ1</th>\n",
       "      <th>lengthQ2</th>\n",
       "      <th>CommonLength</th>\n",
       "      <th>Shared</th>\n",
       "      <th>cosine</th>\n",
       "      <th>lengthPP_Q1</th>\n",
       "      <th>lengthPP_Q2</th>\n",
       "      <th>SharedPP</th>\n",
       "    </tr>\n",
       "  </thead>\n",
       "  <tbody>\n",
       "    <tr>\n",
       "      <th>0</th>\n",
       "      <td>23</td>\n",
       "      <td>19</td>\n",
       "      <td>4</td>\n",
       "      <td>0.095238</td>\n",
       "      <td>0.985668</td>\n",
       "      <td>7</td>\n",
       "      <td>8</td>\n",
       "      <td>0.266667</td>\n",
       "    </tr>\n",
       "    <tr>\n",
       "      <th>1</th>\n",
       "      <td>15</td>\n",
       "      <td>10</td>\n",
       "      <td>0</td>\n",
       "      <td>0.000000</td>\n",
       "      <td>0.928768</td>\n",
       "      <td>9</td>\n",
       "      <td>5</td>\n",
       "      <td>0.000000</td>\n",
       "    </tr>\n",
       "    <tr>\n",
       "      <th>2</th>\n",
       "      <td>8</td>\n",
       "      <td>8</td>\n",
       "      <td>2</td>\n",
       "      <td>0.125000</td>\n",
       "      <td>0.857830</td>\n",
       "      <td>3</td>\n",
       "      <td>3</td>\n",
       "      <td>0.333333</td>\n",
       "    </tr>\n",
       "    <tr>\n",
       "      <th>3</th>\n",
       "      <td>11</td>\n",
       "      <td>15</td>\n",
       "      <td>4</td>\n",
       "      <td>0.153846</td>\n",
       "      <td>0.980470</td>\n",
       "      <td>7</td>\n",
       "      <td>7</td>\n",
       "      <td>0.285714</td>\n",
       "    </tr>\n",
       "    <tr>\n",
       "      <th>4</th>\n",
       "      <td>6</td>\n",
       "      <td>8</td>\n",
       "      <td>2</td>\n",
       "      <td>0.142857</td>\n",
       "      <td>0.818138</td>\n",
       "      <td>3</td>\n",
       "      <td>3</td>\n",
       "      <td>0.333333</td>\n",
       "    </tr>\n",
       "  </tbody>\n",
       "</table>\n",
       "</div>"
      ],
      "text/plain": [
       "   lengthQ1  lengthQ2  CommonLength    Shared    cosine  lengthPP_Q1  \\\n",
       "0        23        19             4  0.095238  0.985668            7   \n",
       "1        15        10             0  0.000000  0.928768            9   \n",
       "2         8         8             2  0.125000  0.857830            3   \n",
       "3        11        15             4  0.153846  0.980470            7   \n",
       "4         6         8             2  0.142857  0.818138            3   \n",
       "\n",
       "   lengthPP_Q2  SharedPP  \n",
       "0            8  0.266667  \n",
       "1            5  0.000000  \n",
       "2            3  0.333333  \n",
       "3            7  0.285714  \n",
       "4            3  0.333333  "
      ]
     },
     "execution_count": 120,
     "metadata": {},
     "output_type": "execute_result"
    }
   ],
   "source": [
    "df_train_clean[list_of_Numeric_fields].head()"
   ]
  },
  {
   "cell_type": "code",
   "execution_count": 121,
   "metadata": {
    "collapsed": false
   },
   "outputs": [],
   "source": [
    "def scaler(column):\n",
    "    scaled_x = [0.0] * len(column)\n",
    "    \n",
    "    minimum = column.min()\n",
    "    maximum = column.max()\n",
    "        \n",
    "    difference = maximum - minimum\n",
    "    \n",
    "    for i in range(len(column)):\n",
    "        scaled_x[i] = (column[i] - minimum) / float(difference)   \n",
    "    return scaled_x"
   ]
  },
  {
   "cell_type": "code",
   "execution_count": 122,
   "metadata": {
    "collapsed": false
   },
   "outputs": [],
   "source": [
    "for i in list_of_Numeric_fields:\n",
    "        df_test[i] = scaler(df_test[i])"
   ]
  },
  {
   "cell_type": "code",
   "execution_count": 123,
   "metadata": {
    "collapsed": false
   },
   "outputs": [
    {
     "data": {
      "text/html": [
       "<div>\n",
       "<table border=\"1\" class=\"dataframe\">\n",
       "  <thead>\n",
       "    <tr style=\"text-align: right;\">\n",
       "      <th></th>\n",
       "      <th>lengthQ1</th>\n",
       "      <th>lengthQ2</th>\n",
       "      <th>CommonLength</th>\n",
       "      <th>Shared</th>\n",
       "      <th>cosine</th>\n",
       "      <th>lengthPP_Q1</th>\n",
       "      <th>lengthPP_Q2</th>\n",
       "      <th>SharedPP</th>\n",
       "    </tr>\n",
       "  </thead>\n",
       "  <tbody>\n",
       "    <tr>\n",
       "      <th>0</th>\n",
       "      <td>0.177419</td>\n",
       "      <td>0.162162</td>\n",
       "      <td>0.235294</td>\n",
       "      <td>0.222222</td>\n",
       "      <td>0.986836</td>\n",
       "      <td>0.117647</td>\n",
       "      <td>0.132075</td>\n",
       "      <td>0.533333</td>\n",
       "    </tr>\n",
       "    <tr>\n",
       "      <th>1</th>\n",
       "      <td>0.112903</td>\n",
       "      <td>0.081081</td>\n",
       "      <td>0.000000</td>\n",
       "      <td>0.000000</td>\n",
       "      <td>0.934577</td>\n",
       "      <td>0.156863</td>\n",
       "      <td>0.075472</td>\n",
       "      <td>0.000000</td>\n",
       "    </tr>\n",
       "    <tr>\n",
       "      <th>2</th>\n",
       "      <td>0.056452</td>\n",
       "      <td>0.063063</td>\n",
       "      <td>0.117647</td>\n",
       "      <td>0.291667</td>\n",
       "      <td>0.869424</td>\n",
       "      <td>0.039216</td>\n",
       "      <td>0.037736</td>\n",
       "      <td>0.666667</td>\n",
       "    </tr>\n",
       "    <tr>\n",
       "      <th>3</th>\n",
       "      <td>0.080645</td>\n",
       "      <td>0.126126</td>\n",
       "      <td>0.235294</td>\n",
       "      <td>0.358974</td>\n",
       "      <td>0.982062</td>\n",
       "      <td>0.117647</td>\n",
       "      <td>0.113208</td>\n",
       "      <td>0.571429</td>\n",
       "    </tr>\n",
       "    <tr>\n",
       "      <th>4</th>\n",
       "      <td>0.040323</td>\n",
       "      <td>0.063063</td>\n",
       "      <td>0.117647</td>\n",
       "      <td>0.333333</td>\n",
       "      <td>0.832970</td>\n",
       "      <td>0.039216</td>\n",
       "      <td>0.037736</td>\n",
       "      <td>0.666667</td>\n",
       "    </tr>\n",
       "  </tbody>\n",
       "</table>\n",
       "</div>"
      ],
      "text/plain": [
       "   lengthQ1  lengthQ2  CommonLength    Shared    cosine  lengthPP_Q1  \\\n",
       "0  0.177419  0.162162      0.235294  0.222222  0.986836     0.117647   \n",
       "1  0.112903  0.081081      0.000000  0.000000  0.934577     0.156863   \n",
       "2  0.056452  0.063063      0.117647  0.291667  0.869424     0.039216   \n",
       "3  0.080645  0.126126      0.235294  0.358974  0.982062     0.117647   \n",
       "4  0.040323  0.063063      0.117647  0.333333  0.832970     0.039216   \n",
       "\n",
       "   lengthPP_Q2  SharedPP  \n",
       "0     0.132075  0.533333  \n",
       "1     0.075472  0.000000  \n",
       "2     0.037736  0.666667  \n",
       "3     0.113208  0.571429  \n",
       "4     0.037736  0.666667  "
      ]
     },
     "execution_count": 123,
     "metadata": {},
     "output_type": "execute_result"
    }
   ],
   "source": [
    "df_test[list_of_Numeric_fields].head()"
   ]
  },
  {
   "cell_type": "code",
   "execution_count": 124,
   "metadata": {
    "collapsed": false
   },
   "outputs": [],
   "source": [
    "#scale only the numerical features of our dataset\n",
    "#to retry\n",
    "#scaler.fit_transform(df_train_clean[list_of_Numeric_fields])"
   ]
  },
  {
   "cell_type": "markdown",
   "metadata": {},
   "source": [
    "### Prepare the entry data"
   ]
  },
  {
   "cell_type": "code",
   "execution_count": 125,
   "metadata": {
    "collapsed": false
   },
   "outputs": [],
   "source": [
    "Y = df_test.is_duplicate"
   ]
  },
  {
   "cell_type": "code",
   "execution_count": 170,
   "metadata": {
    "collapsed": false
   },
   "outputs": [],
   "source": [
    "from sklearn.cross_validation import train_test_split\n",
    "\n",
    "#separate our data between training and test data\n",
    "X_train, X_test, y_train, y_test = train_test_split(df_test[list_of_Numeric_fields], Y, test_size=0.33)"
   ]
  },
  {
   "cell_type": "code",
   "execution_count": 171,
   "metadata": {
    "collapsed": false
   },
   "outputs": [
    {
     "data": {
      "text/html": [
       "<div>\n",
       "<table border=\"1\" class=\"dataframe\">\n",
       "  <thead>\n",
       "    <tr style=\"text-align: right;\">\n",
       "      <th></th>\n",
       "      <th>lengthQ1</th>\n",
       "      <th>lengthQ2</th>\n",
       "      <th>CommonLength</th>\n",
       "      <th>Shared</th>\n",
       "      <th>cosine</th>\n",
       "      <th>lengthPP_Q1</th>\n",
       "      <th>lengthPP_Q2</th>\n",
       "      <th>SharedPP</th>\n",
       "    </tr>\n",
       "  </thead>\n",
       "  <tbody>\n",
       "    <tr>\n",
       "      <th>10621</th>\n",
       "      <td>0.032258</td>\n",
       "      <td>0.063063</td>\n",
       "      <td>0.058824</td>\n",
       "      <td>0.179487</td>\n",
       "      <td>0.928243</td>\n",
       "      <td>0.019608</td>\n",
       "      <td>0.056604</td>\n",
       "      <td>0.333333</td>\n",
       "    </tr>\n",
       "    <tr>\n",
       "      <th>33413</th>\n",
       "      <td>0.064516</td>\n",
       "      <td>0.072072</td>\n",
       "      <td>0.117647</td>\n",
       "      <td>0.259259</td>\n",
       "      <td>0.957426</td>\n",
       "      <td>0.058824</td>\n",
       "      <td>0.056604</td>\n",
       "      <td>0.500000</td>\n",
       "    </tr>\n",
       "    <tr>\n",
       "      <th>31204</th>\n",
       "      <td>0.129032</td>\n",
       "      <td>0.171171</td>\n",
       "      <td>0.000000</td>\n",
       "      <td>0.000000</td>\n",
       "      <td>0.860722</td>\n",
       "      <td>0.176471</td>\n",
       "      <td>0.132075</td>\n",
       "      <td>0.000000</td>\n",
       "    </tr>\n",
       "    <tr>\n",
       "      <th>19520</th>\n",
       "      <td>0.056452</td>\n",
       "      <td>0.090090</td>\n",
       "      <td>0.176471</td>\n",
       "      <td>0.368421</td>\n",
       "      <td>0.976788</td>\n",
       "      <td>0.039216</td>\n",
       "      <td>0.094340</td>\n",
       "      <td>0.666667</td>\n",
       "    </tr>\n",
       "    <tr>\n",
       "      <th>7128</th>\n",
       "      <td>0.048387</td>\n",
       "      <td>0.036036</td>\n",
       "      <td>0.117647</td>\n",
       "      <td>0.388889</td>\n",
       "      <td>0.948861</td>\n",
       "      <td>0.058824</td>\n",
       "      <td>0.037736</td>\n",
       "      <td>0.571429</td>\n",
       "    </tr>\n",
       "  </tbody>\n",
       "</table>\n",
       "</div>"
      ],
      "text/plain": [
       "       lengthQ1  lengthQ2  CommonLength    Shared    cosine  lengthPP_Q1  \\\n",
       "10621  0.032258  0.063063      0.058824  0.179487  0.928243     0.019608   \n",
       "33413  0.064516  0.072072      0.117647  0.259259  0.957426     0.058824   \n",
       "31204  0.129032  0.171171      0.000000  0.000000  0.860722     0.176471   \n",
       "19520  0.056452  0.090090      0.176471  0.368421  0.976788     0.039216   \n",
       "7128   0.048387  0.036036      0.117647  0.388889  0.948861     0.058824   \n",
       "\n",
       "       lengthPP_Q2  SharedPP  \n",
       "10621     0.056604  0.333333  \n",
       "33413     0.056604  0.500000  \n",
       "31204     0.132075  0.000000  \n",
       "19520     0.094340  0.666667  \n",
       "7128      0.037736  0.571429  "
      ]
     },
     "execution_count": 171,
     "metadata": {},
     "output_type": "execute_result"
    }
   ],
   "source": [
    "X_train.head()"
   ]
  },
  {
   "cell_type": "markdown",
   "metadata": {},
   "source": [
    "### Run the models"
   ]
  },
  {
   "cell_type": "code",
   "execution_count": 172,
   "metadata": {
    "collapsed": false
   },
   "outputs": [],
   "source": [
    "from sklearn.ensemble import RandomForestClassifier, AdaBoostClassifier\n",
    "\n",
    "# (a)select a classifier: here random forest\n",
    "forest = RandomForestClassifier(n_estimators = 60)\n",
    "\n",
    "adab = AdaBoostClassifier(n_estimators = 60)\n"
   ]
  },
  {
   "cell_type": "code",
   "execution_count": 173,
   "metadata": {
    "collapsed": false
   },
   "outputs": [],
   "source": [
    "# (b)train the model\n",
    "forestC = forest.fit(X_train,y_train.values.ravel())\n",
    "adabC = adab.fit(X_train,y_train.values.ravel())"
   ]
  },
  {
   "cell_type": "code",
   "execution_count": 174,
   "metadata": {
    "collapsed": false
   },
   "outputs": [
    {
     "data": {
      "text/plain": [
       "SVC(C=1.0, cache_size=200, class_weight=None, coef0=0.0,\n",
       "  decision_function_shape=None, degree=3, gamma='auto', kernel='rbf',\n",
       "  max_iter=-1, probability=False, random_state=None, shrinking=True,\n",
       "  tol=0.001, verbose=False)"
      ]
     },
     "execution_count": 174,
     "metadata": {},
     "output_type": "execute_result"
    }
   ],
   "source": [
    "## Try SVM\n",
    "from sklearn import svm\n",
    "svmC = svm.SVC()\n",
    "svmC.fit(X_train,y_train)"
   ]
  },
  {
   "cell_type": "markdown",
   "metadata": {},
   "source": [
    "### Get the scores"
   ]
  },
  {
   "cell_type": "code",
   "execution_count": 175,
   "metadata": {
    "collapsed": false
   },
   "outputs": [
    {
     "data": {
      "text/plain": [
       "0.6268925198620896"
      ]
     },
     "execution_count": 175,
     "metadata": {},
     "output_type": "execute_result"
    }
   ],
   "source": [
    "#score with fixed decision\n",
    "1-y_test.sum()/float(len(y_test))"
   ]
  },
  {
   "cell_type": "code",
   "execution_count": 176,
   "metadata": {
    "collapsed": false
   },
   "outputs": [
    {
     "data": {
      "text/plain": [
       "0.6681906760605606"
      ]
     },
     "execution_count": 176,
     "metadata": {},
     "output_type": "execute_result"
    }
   ],
   "source": [
    "svmC.score(X_test,y_test.values.ravel())"
   ]
  },
  {
   "cell_type": "code",
   "execution_count": 177,
   "metadata": {
    "collapsed": false
   },
   "outputs": [
    {
     "data": {
      "text/plain": [
       "0.69172537850397242"
      ]
     },
     "execution_count": 177,
     "metadata": {},
     "output_type": "execute_result"
    }
   ],
   "source": [
    "#score with random forest\n",
    "forestC.score(X_test,y_test.values.ravel())"
   ]
  },
  {
   "cell_type": "code",
   "execution_count": 178,
   "metadata": {
    "collapsed": false
   },
   "outputs": [
    {
     "data": {
      "text/plain": [
       "0.70641582971068806"
      ]
     },
     "execution_count": 178,
     "metadata": {},
     "output_type": "execute_result"
    }
   ],
   "source": [
    "#score with Adaboost\n",
    "adabC.score(X_test,y_test.values.ravel())"
   ]
  },
  {
   "cell_type": "markdown",
   "metadata": {},
   "source": [
    "# Use regressors\n",
    "\n",
    "(kaggle code)"
   ]
  },
  {
   "cell_type": "code",
   "execution_count": 179,
   "metadata": {
    "collapsed": true
   },
   "outputs": [],
   "source": [
    "from sklearn.metrics import log_loss\n",
    "\n",
    "def calculate_logloss(y_true, y_pred):\n",
    "    loss_cal = log_loss(y_true, y_pred)\n",
    "    return loss_cal"
   ]
  },
  {
   "cell_type": "code",
   "execution_count": 180,
   "metadata": {
    "collapsed": false
   },
   "outputs": [
    {
     "data": {
      "text/plain": [
       "SVR(C=1.0, cache_size=200, coef0=0.0, degree=3, epsilon=0.1, gamma='auto',\n",
       "  kernel='rbf', max_iter=-1, shrinking=True, tol=0.001, verbose=False)"
      ]
     },
     "execution_count": 180,
     "metadata": {},
     "output_type": "execute_result"
    }
   ],
   "source": [
    "from sklearn.ensemble import RandomForestRegressor\n",
    "from sklearn.svm import SVR\n",
    "\n",
    "rfr = RandomForestRegressor()\n",
    "rfr.fit(X_train, y_train)\n",
    "\n",
    "svr = SVR()\n",
    "svr.fit(X_train,y_train)"
   ]
  },
  {
   "cell_type": "code",
   "execution_count": 181,
   "metadata": {
    "collapsed": false
   },
   "outputs": [
    {
     "name": "stdout",
     "output_type": "stream",
     "text": [
      "The calculated log loss value on the test set using RFR is = 1.119681\n",
      "The calculated log loss value on the test set using SVR is = 0.660681\n"
     ]
    }
   ],
   "source": [
    "y_rfr_predicted = rfr.predict(X_test)\n",
    "y_svr_predicted = svr.predict(X_test)\n",
    "\n",
    "logloss_rfr = calculate_logloss(y_test, y_rfr_predicted)\n",
    "logloss_svr = calculate_logloss(y_test, y_svr_predicted)\n",
    "\n",
    "print (\"The calculated log loss value on the test set using RFR is = %f\" %logloss_rfr)\n",
    "print (\"The calculated log loss value on the test set using SVR is = %f\" %logloss_svr)"
   ]
  },
  {
   "cell_type": "markdown",
   "metadata": {},
   "source": [
    "## Check what features are important"
   ]
  },
  {
   "cell_type": "code",
   "execution_count": 182,
   "metadata": {
    "collapsed": true
   },
   "outputs": [],
   "source": [
    "#pick all the features\n",
    "features = pd.DataFrame(forest.feature_importances_)\n"
   ]
  },
  {
   "cell_type": "code",
   "execution_count": 183,
   "metadata": {
    "collapsed": true
   },
   "outputs": [],
   "source": [
    "#rank the features by order of importance for classification\n",
    "#this will be useful \n",
    "importances = forest.feature_importances_\n",
    "std = np.std([tree.feature_importances_ for tree in forest.estimators_],\n",
    "             axis=0)\n",
    "indices = np.argsort(importances)[::-1]"
   ]
  },
  {
   "cell_type": "code",
   "execution_count": 184,
   "metadata": {
    "collapsed": false
   },
   "outputs": [
    {
     "name": "stdout",
     "output_type": "stream",
     "text": [
      "Feature ranking:\n",
      "1. feature 4 (0.377935) percentage 1.000000\n",
      "2. feature 3 (0.175359) percentage 0.463993\n",
      "3. feature 7 (0.140167) percentage 0.370874\n",
      "4. feature 1 (0.084288) percentage 0.223022\n",
      "5. feature 0 (0.084238) percentage 0.222891\n",
      "6. feature 5 (0.048701) percentage 0.128862\n",
      "7. feature 6 (0.048177) percentage 0.127475\n",
      "8. feature 2 (0.041134) percentage 0.108840\n"
     ]
    }
   ],
   "source": [
    "# Print the feature ranking (comes from trial and error looking at the graph below)\n",
    "Max_number_of_indices = 8\n",
    "\n",
    "print(\"Feature ranking:\")\n",
    "\n",
    "for f in range(Max_number_of_indices):\n",
    "    print(\"%d. feature %d (%f) percentage %f\" % (f + 1, indices[f], importances[indices[f]] , \n",
    "                                                 importances[indices[f]]/importances[indices[0]]))\n"
   ]
  },
  {
   "cell_type": "code",
   "execution_count": 185,
   "metadata": {
    "collapsed": true
   },
   "outputs": [],
   "source": [
    "#top_indices really means here \"most important features selected\" - first show all the features\n",
    "Max_number_of_indices = len(importances)\n",
    "\n",
    "top_indices = indices[:Max_number_of_indices]\n"
   ]
  },
  {
   "cell_type": "code",
   "execution_count": 186,
   "metadata": {
    "collapsed": false
   },
   "outputs": [
    {
     "data": {
      "image/png": "[encoded data removed]",
      "text/plain": [
       "<matplotlib.figure.Figure at 0x143ebaa50>"
      ]
     },
     "metadata": {},
     "output_type": "display_data"
    }
   ],
   "source": [
    "# Plot the feature importances of the forest\n",
    "plt.figure()\n",
    "plt.title(\"Feature importances\")\n",
    "plt.bar(np.arange(Max_number_of_indices), importances[top_indices], color=\"r\", align=\"center\")\n",
    "plt.xlim([-1, Max_number_of_indices])\n",
    "plt.ion()\n",
    "plt.show()"
   ]
  },
  {
   "cell_type": "code",
   "execution_count": 187,
   "metadata": {
    "collapsed": false
   },
   "outputs": [
    {
     "data": {
      "text/html": [
       "<div>\n",
       "<table border=\"1\" class=\"dataframe\">\n",
       "  <thead>\n",
       "    <tr style=\"text-align: right;\">\n",
       "      <th></th>\n",
       "      <th>cosine</th>\n",
       "      <th>Shared</th>\n",
       "      <th>SharedPP</th>\n",
       "      <th>lengthQ2</th>\n",
       "      <th>lengthQ1</th>\n",
       "      <th>lengthPP_Q1</th>\n",
       "      <th>lengthPP_Q2</th>\n",
       "      <th>CommonLength</th>\n",
       "    </tr>\n",
       "  </thead>\n",
       "  <tbody>\n",
       "    <tr>\n",
       "      <th>10621</th>\n",
       "      <td>0.928243</td>\n",
       "      <td>0.179487</td>\n",
       "      <td>0.333333</td>\n",
       "      <td>0.063063</td>\n",
       "      <td>0.032258</td>\n",
       "      <td>0.019608</td>\n",
       "      <td>0.056604</td>\n",
       "      <td>0.058824</td>\n",
       "    </tr>\n",
       "    <tr>\n",
       "      <th>33413</th>\n",
       "      <td>0.957426</td>\n",
       "      <td>0.259259</td>\n",
       "      <td>0.500000</td>\n",
       "      <td>0.072072</td>\n",
       "      <td>0.064516</td>\n",
       "      <td>0.058824</td>\n",
       "      <td>0.056604</td>\n",
       "      <td>0.117647</td>\n",
       "    </tr>\n",
       "    <tr>\n",
       "      <th>31204</th>\n",
       "      <td>0.860722</td>\n",
       "      <td>0.000000</td>\n",
       "      <td>0.000000</td>\n",
       "      <td>0.171171</td>\n",
       "      <td>0.129032</td>\n",
       "      <td>0.176471</td>\n",
       "      <td>0.132075</td>\n",
       "      <td>0.000000</td>\n",
       "    </tr>\n",
       "    <tr>\n",
       "      <th>19520</th>\n",
       "      <td>0.976788</td>\n",
       "      <td>0.368421</td>\n",
       "      <td>0.666667</td>\n",
       "      <td>0.090090</td>\n",
       "      <td>0.056452</td>\n",
       "      <td>0.039216</td>\n",
       "      <td>0.094340</td>\n",
       "      <td>0.176471</td>\n",
       "    </tr>\n",
       "    <tr>\n",
       "      <th>7128</th>\n",
       "      <td>0.948861</td>\n",
       "      <td>0.388889</td>\n",
       "      <td>0.571429</td>\n",
       "      <td>0.036036</td>\n",
       "      <td>0.048387</td>\n",
       "      <td>0.058824</td>\n",
       "      <td>0.037736</td>\n",
       "      <td>0.117647</td>\n",
       "    </tr>\n",
       "  </tbody>\n",
       "</table>\n",
       "</div>"
      ],
      "text/plain": [
       "         cosine    Shared  SharedPP  lengthQ2  lengthQ1  lengthPP_Q1  \\\n",
       "10621  0.928243  0.179487  0.333333  0.063063  0.032258     0.019608   \n",
       "33413  0.957426  0.259259  0.500000  0.072072  0.064516     0.058824   \n",
       "31204  0.860722  0.000000  0.000000  0.171171  0.129032     0.176471   \n",
       "19520  0.976788  0.368421  0.666667  0.090090  0.056452     0.039216   \n",
       "7128   0.948861  0.388889  0.571429  0.036036  0.048387     0.058824   \n",
       "\n",
       "       lengthPP_Q2  CommonLength  \n",
       "10621     0.056604      0.058824  \n",
       "33413     0.056604      0.117647  \n",
       "31204     0.132075      0.000000  \n",
       "19520     0.094340      0.176471  \n",
       "7128      0.037736      0.117647  "
      ]
     },
     "execution_count": 187,
     "metadata": {},
     "output_type": "execute_result"
    }
   ],
   "source": [
    "X_train[top_indices].head()"
   ]
  },
  {
   "cell_type": "markdown",
   "metadata": {},
   "source": [
    "not surprisingly, the cosine similarity is the most significative features in the classification"
   ]
  }
 ],
 "metadata": {
  "kernelspec": {
   "display_name": "Python 2",
   "language": "python",
   "name": "python2"
  },
  "language_info": {
   "codemirror_mode": {
    "name": "ipython",
    "version": 2
   },
   "file_extension": ".py",
   "mimetype": "text/x-python",
   "name": "python",
   "nbconvert_exporter": "python",
   "pygments_lexer": "ipython2",
   "version": "2.7.11"
  }
 },
 "nbformat": 4,
 "nbformat_minor": 0
}
